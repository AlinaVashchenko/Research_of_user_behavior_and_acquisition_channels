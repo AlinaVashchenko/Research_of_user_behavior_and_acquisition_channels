{
 "cells": [
  {
   "cell_type": "markdown",
   "metadata": {},
   "source": [
    "# Анализ поведения пользователей и эффективности каналов привлечения сервиса по доставке продуктов на дом"
   ]
  },
  {
   "cell_type": "markdown",
   "metadata": {},
   "source": [
    "# Описание задачи\n",
    "Проанализировать поведение пользователей и оценить эффективность каналов их привлечения \\\n",
    "в компании-сервисе по доставке продуктов на дом на основе данных за период с 1 января по 31 марта 2020. \\\n",
    "Сервис доступен как в приложении на iOS, так и на Android. "
   ]
  },
  {
   "cell_type": "markdown",
   "metadata": {},
   "source": [
    "## Формализованные задачи\n",
    "1) Построить график с динамикой событий по всем дням.\n",
    "2) Построить график с динамикой открытий приложений для групп «Установили в тот же день» и «Остальные»\n",
    "3) Построить график динамики установок приложения в зависимости от канала привлечения пользователя\n",
    "4) Определить этапы воронки, на которых отваливается большая часть клиентов (для зарегистрированных и для незарегистрированных пользователей)\n",
    "5) Определить лучший и худший канал по конверсии в первую покупку\n",
    "6) Рассчитать ROMI для всех каналов привлечения пользователей\n",
    "7) Провести когортный анализ по неделе первого посещения и по неделе регистрации\n",
    "8) Рассчитать медианный чек для когорт по неделе первой покупки"
   ]
  },
  {
   "cell_type": "code",
   "execution_count": 62,
   "metadata": {},
   "outputs": [
    {
     "data": {
      "text/html": [
       "<div>\n",
       "<style scoped>\n",
       "    .dataframe tbody tr th:only-of-type {\n",
       "        vertical-align: middle;\n",
       "    }\n",
       "\n",
       "    .dataframe tbody tr th {\n",
       "        vertical-align: top;\n",
       "    }\n",
       "\n",
       "    .dataframe thead th {\n",
       "        text-align: right;\n",
       "    }\n",
       "</style>\n",
       "<table border=\"1\" class=\"dataframe\">\n",
       "  <thead>\n",
       "    <tr style=\"text-align: right;\">\n",
       "      <th></th>\n",
       "      <th>date</th>\n",
       "      <th>event</th>\n",
       "      <th>purchase_sum</th>\n",
       "      <th>os_name</th>\n",
       "      <th>device_id</th>\n",
       "      <th>gender</th>\n",
       "      <th>city</th>\n",
       "      <th>utm_source</th>\n",
       "    </tr>\n",
       "  </thead>\n",
       "  <tbody>\n",
       "    <tr>\n",
       "      <th>0</th>\n",
       "      <td>2020-01-01</td>\n",
       "      <td>app_start</td>\n",
       "      <td>NaN</td>\n",
       "      <td>android</td>\n",
       "      <td>669460</td>\n",
       "      <td>female</td>\n",
       "      <td>Moscow</td>\n",
       "      <td>-</td>\n",
       "    </tr>\n",
       "    <tr>\n",
       "      <th>1</th>\n",
       "      <td>2020-01-01</td>\n",
       "      <td>app_start</td>\n",
       "      <td>NaN</td>\n",
       "      <td>ios</td>\n",
       "      <td>833621</td>\n",
       "      <td>male</td>\n",
       "      <td>Moscow</td>\n",
       "      <td>vk_ads</td>\n",
       "    </tr>\n",
       "    <tr>\n",
       "      <th>2</th>\n",
       "      <td>2020-01-01</td>\n",
       "      <td>app_start</td>\n",
       "      <td>NaN</td>\n",
       "      <td>android</td>\n",
       "      <td>1579237</td>\n",
       "      <td>male</td>\n",
       "      <td>Saint-Petersburg</td>\n",
       "      <td>referal</td>\n",
       "    </tr>\n",
       "    <tr>\n",
       "      <th>3</th>\n",
       "      <td>2020-01-01</td>\n",
       "      <td>app_start</td>\n",
       "      <td>NaN</td>\n",
       "      <td>android</td>\n",
       "      <td>1737182</td>\n",
       "      <td>female</td>\n",
       "      <td>Moscow</td>\n",
       "      <td>facebook_ads</td>\n",
       "    </tr>\n",
       "    <tr>\n",
       "      <th>4</th>\n",
       "      <td>2020-01-01</td>\n",
       "      <td>app_start</td>\n",
       "      <td>NaN</td>\n",
       "      <td>ios</td>\n",
       "      <td>4029024</td>\n",
       "      <td>female</td>\n",
       "      <td>Moscow</td>\n",
       "      <td>facebook_ads</td>\n",
       "    </tr>\n",
       "  </tbody>\n",
       "</table>\n",
       "</div>"
      ],
      "text/plain": [
       "         date      event  purchase_sum  os_name  device_id  gender  \\\n",
       "0  2020-01-01  app_start           NaN  android     669460  female   \n",
       "1  2020-01-01  app_start           NaN      ios     833621    male   \n",
       "2  2020-01-01  app_start           NaN  android    1579237    male   \n",
       "3  2020-01-01  app_start           NaN  android    1737182  female   \n",
       "4  2020-01-01  app_start           NaN      ios    4029024  female   \n",
       "\n",
       "               city    utm_source  \n",
       "0            Moscow             -  \n",
       "1            Moscow        vk_ads  \n",
       "2  Saint-Petersburg       referal  \n",
       "3            Moscow  facebook_ads  \n",
       "4            Moscow  facebook_ads  "
      ]
     },
     "execution_count": 62,
     "metadata": {},
     "output_type": "execute_result"
    }
   ],
   "source": [
    "# Создадим датафрей на основе данных и ознакомимся с содержимым\n",
    "import pandas as pd\n",
    "df = pd.read_csv('SF_case_data.csv')\n",
    "df.head()"
   ]
  },
  {
   "cell_type": "code",
   "execution_count": 63,
   "metadata": {},
   "outputs": [
    {
     "name": "stdout",
     "output_type": "stream",
     "text": [
      "<class 'pandas.core.frame.DataFrame'>\n",
      "RangeIndex: 2747968 entries, 0 to 2747967\n",
      "Data columns (total 8 columns):\n",
      " #   Column        Dtype  \n",
      "---  ------        -----  \n",
      " 0   date          object \n",
      " 1   event         object \n",
      " 2   purchase_sum  float64\n",
      " 3   os_name       object \n",
      " 4   device_id     int64  \n",
      " 5   gender        object \n",
      " 6   city          object \n",
      " 7   utm_source    object \n",
      "dtypes: float64(1), int64(1), object(6)\n",
      "memory usage: 167.7+ MB\n"
     ]
    }
   ],
   "source": [
    "df.info()"
   ]
  },
  {
   "cell_type": "code",
   "execution_count": 64,
   "metadata": {},
   "outputs": [],
   "source": [
    "# Преобразуем столбец с датой в нужный формат\n",
    "df.date = pd.to_datetime(df.date, dayfirst=True)"
   ]
  },
  {
   "cell_type": "code",
   "execution_count": 65,
   "metadata": {},
   "outputs": [
    {
     "data": {
      "text/html": [
       "<div>\n",
       "<style scoped>\n",
       "    .dataframe tbody tr th:only-of-type {\n",
       "        vertical-align: middle;\n",
       "    }\n",
       "\n",
       "    .dataframe tbody tr th {\n",
       "        vertical-align: top;\n",
       "    }\n",
       "\n",
       "    .dataframe thead th {\n",
       "        text-align: right;\n",
       "    }\n",
       "</style>\n",
       "<table border=\"1\" class=\"dataframe\">\n",
       "  <thead>\n",
       "    <tr style=\"text-align: right;\">\n",
       "      <th></th>\n",
       "      <th>device_id</th>\n",
       "      <th>date</th>\n",
       "      <th>event</th>\n",
       "      <th>purchase_sum</th>\n",
       "      <th>os_name</th>\n",
       "      <th>gender</th>\n",
       "      <th>city</th>\n",
       "      <th>utm_source</th>\n",
       "    </tr>\n",
       "  </thead>\n",
       "  <tbody>\n",
       "    <tr>\n",
       "      <th>0</th>\n",
       "      <td>4013</td>\n",
       "      <td>2020-01-15</td>\n",
       "      <td>app_start</td>\n",
       "      <td>NaN</td>\n",
       "      <td>android</td>\n",
       "      <td>female</td>\n",
       "      <td>Saint-Petersburg</td>\n",
       "      <td>vk_ads</td>\n",
       "    </tr>\n",
       "    <tr>\n",
       "      <th>1</th>\n",
       "      <td>4013</td>\n",
       "      <td>2020-01-15</td>\n",
       "      <td>choose_item</td>\n",
       "      <td>NaN</td>\n",
       "      <td>android</td>\n",
       "      <td>female</td>\n",
       "      <td>Saint-Petersburg</td>\n",
       "      <td>vk_ads</td>\n",
       "    </tr>\n",
       "    <tr>\n",
       "      <th>2</th>\n",
       "      <td>4013</td>\n",
       "      <td>2020-01-15</td>\n",
       "      <td>search</td>\n",
       "      <td>NaN</td>\n",
       "      <td>android</td>\n",
       "      <td>female</td>\n",
       "      <td>Saint-Petersburg</td>\n",
       "      <td>vk_ads</td>\n",
       "    </tr>\n",
       "    <tr>\n",
       "      <th>3</th>\n",
       "      <td>4013</td>\n",
       "      <td>2020-01-15</td>\n",
       "      <td>tap_basket</td>\n",
       "      <td>NaN</td>\n",
       "      <td>android</td>\n",
       "      <td>female</td>\n",
       "      <td>Saint-Petersburg</td>\n",
       "      <td>vk_ads</td>\n",
       "    </tr>\n",
       "    <tr>\n",
       "      <th>4</th>\n",
       "      <td>4013</td>\n",
       "      <td>2020-01-15</td>\n",
       "      <td>app_install</td>\n",
       "      <td>NaN</td>\n",
       "      <td>android</td>\n",
       "      <td>female</td>\n",
       "      <td>Saint-Petersburg</td>\n",
       "      <td>vk_ads</td>\n",
       "    </tr>\n",
       "  </tbody>\n",
       "</table>\n",
       "</div>"
      ],
      "text/plain": [
       "   device_id       date        event  purchase_sum  os_name  gender  \\\n",
       "0       4013 2020-01-15    app_start           NaN  android  female   \n",
       "1       4013 2020-01-15  choose_item           NaN  android  female   \n",
       "2       4013 2020-01-15       search           NaN  android  female   \n",
       "3       4013 2020-01-15   tap_basket           NaN  android  female   \n",
       "4       4013 2020-01-15  app_install           NaN  android  female   \n",
       "\n",
       "               city utm_source  \n",
       "0  Saint-Petersburg     vk_ads  \n",
       "1  Saint-Petersburg     vk_ads  \n",
       "2  Saint-Petersburg     vk_ads  \n",
       "3  Saint-Petersburg     vk_ads  \n",
       "4  Saint-Petersburg     vk_ads  "
      ]
     },
     "execution_count": 65,
     "metadata": {},
     "output_type": "execute_result"
    }
   ],
   "source": [
    "# Отсортируем таблицу по номеру устройства и дате, а также вынесем для удобства вперёд столбец с идентификатором устройства\n",
    "df = df.sort_values(['device_id','date']).reset_index().drop('index', axis=1)\n",
    "df = df[['device_id'] + [x for x in df.columns if x != 'device_id']]\n",
    "df.head()"
   ]
  },
  {
   "cell_type": "markdown",
   "metadata": {},
   "source": []
  },
  {
   "cell_type": "markdown",
   "metadata": {},
   "source": [
    "## 1) График с динамикой по всем событиям по дням"
   ]
  },
  {
   "cell_type": "code",
   "execution_count": 66,
   "metadata": {},
   "outputs": [],
   "source": [
    "events_grouped = df.groupby('date')['event'].count()\n",
    "events_grouped = events_grouped.reset_index()"
   ]
  },
  {
   "cell_type": "code",
   "execution_count": 67,
   "metadata": {},
   "outputs": [
    {
     "data": {
      "application/vnd.plotly.v1+json": {
       "config": {
        "plotlyServerURL": "https://plot.ly"
       },
       "data": [
        {
         "hovertemplate": "date=%{x}<br>event=%{y}<extra></extra>",
         "legendgroup": "",
         "line": {
          "color": "#636efa",
          "dash": "solid"
         },
         "marker": {
          "symbol": "circle"
         },
         "mode": "lines",
         "name": "",
         "orientation": "v",
         "showlegend": false,
         "type": "scatter",
         "x": [
          "2020-01-01T00:00:00",
          "2020-01-02T00:00:00",
          "2020-01-03T00:00:00",
          "2020-01-04T00:00:00",
          "2020-01-05T00:00:00",
          "2020-01-06T00:00:00",
          "2020-01-07T00:00:00",
          "2020-01-08T00:00:00",
          "2020-01-09T00:00:00",
          "2020-01-10T00:00:00",
          "2020-01-11T00:00:00",
          "2020-01-12T00:00:00",
          "2020-01-13T00:00:00",
          "2020-01-14T00:00:00",
          "2020-01-15T00:00:00",
          "2020-01-16T00:00:00",
          "2020-01-17T00:00:00",
          "2020-01-18T00:00:00",
          "2020-01-19T00:00:00",
          "2020-01-20T00:00:00",
          "2020-01-21T00:00:00",
          "2020-01-22T00:00:00",
          "2020-01-23T00:00:00",
          "2020-01-24T00:00:00",
          "2020-01-25T00:00:00",
          "2020-01-26T00:00:00",
          "2020-01-27T00:00:00",
          "2020-01-28T00:00:00",
          "2020-01-29T00:00:00",
          "2020-01-30T00:00:00",
          "2020-01-31T00:00:00",
          "2020-02-01T00:00:00",
          "2020-02-02T00:00:00",
          "2020-02-03T00:00:00",
          "2020-02-04T00:00:00",
          "2020-02-05T00:00:00",
          "2020-02-06T00:00:00",
          "2020-02-07T00:00:00",
          "2020-02-08T00:00:00",
          "2020-02-09T00:00:00",
          "2020-02-10T00:00:00",
          "2020-02-11T00:00:00",
          "2020-02-12T00:00:00",
          "2020-02-13T00:00:00",
          "2020-02-14T00:00:00",
          "2020-02-15T00:00:00",
          "2020-02-16T00:00:00",
          "2020-02-17T00:00:00",
          "2020-02-18T00:00:00",
          "2020-02-19T00:00:00",
          "2020-02-20T00:00:00",
          "2020-02-21T00:00:00",
          "2020-02-22T00:00:00",
          "2020-02-23T00:00:00",
          "2020-02-24T00:00:00",
          "2020-02-25T00:00:00",
          "2020-02-26T00:00:00",
          "2020-02-27T00:00:00",
          "2020-02-28T00:00:00",
          "2020-02-29T00:00:00",
          "2020-03-01T00:00:00",
          "2020-03-02T00:00:00",
          "2020-03-03T00:00:00",
          "2020-03-04T00:00:00",
          "2020-03-05T00:00:00",
          "2020-03-06T00:00:00",
          "2020-03-07T00:00:00",
          "2020-03-08T00:00:00",
          "2020-03-09T00:00:00",
          "2020-03-10T00:00:00",
          "2020-03-11T00:00:00",
          "2020-03-12T00:00:00",
          "2020-03-13T00:00:00",
          "2020-03-14T00:00:00",
          "2020-03-15T00:00:00",
          "2020-03-16T00:00:00",
          "2020-03-17T00:00:00",
          "2020-03-18T00:00:00",
          "2020-03-19T00:00:00",
          "2020-03-20T00:00:00",
          "2020-03-21T00:00:00",
          "2020-03-22T00:00:00",
          "2020-03-23T00:00:00",
          "2020-03-24T00:00:00",
          "2020-03-25T00:00:00",
          "2020-03-26T00:00:00",
          "2020-03-27T00:00:00",
          "2020-03-28T00:00:00",
          "2020-03-29T00:00:00",
          "2020-03-30T00:00:00",
          "2020-03-31T00:00:00"
         ],
         "xaxis": "x",
         "y": [
          19781,
          21640,
          20861,
          19152,
          21716,
          19717,
          18226,
          18616,
          20549,
          89831,
          58169,
          39468,
          49970,
          53783,
          48189,
          42562,
          38765,
          37008,
          36544,
          34395,
          32401,
          27933,
          36014,
          29918,
          28124,
          27168,
          25510,
          27409,
          31282,
          34866,
          32840,
          30424,
          30409,
          28785,
          28060,
          27421,
          28317,
          26674,
          27336,
          28061,
          26455,
          24991,
          27546,
          34365,
          54233,
          37667,
          33220,
          30959,
          30407,
          30923,
          26322,
          45658,
          39086,
          30463,
          27412,
          24798,
          23720,
          23240,
          23169,
          24604,
          24973,
          22268,
          21712,
          21045,
          20982,
          63264,
          49032,
          28042,
          25790,
          25313,
          24037,
          25038,
          22301,
          22563,
          22341,
          20553,
          22105,
          25620,
          26367,
          25365,
          24100,
          23635,
          31548,
          34524,
          34814,
          32717,
          27736,
          22741,
          21001,
          20306,
          19003
         ],
         "yaxis": "y"
        }
       ],
       "layout": {
        "height": 500,
        "legend": {
         "tracegroupgap": 0
        },
        "template": {
         "data": {
          "bar": [
           {
            "error_x": {
             "color": "#2a3f5f"
            },
            "error_y": {
             "color": "#2a3f5f"
            },
            "marker": {
             "line": {
              "color": "#E5ECF6",
              "width": 0.5
             },
             "pattern": {
              "fillmode": "overlay",
              "size": 10,
              "solidity": 0.2
             }
            },
            "type": "bar"
           }
          ],
          "barpolar": [
           {
            "marker": {
             "line": {
              "color": "#E5ECF6",
              "width": 0.5
             },
             "pattern": {
              "fillmode": "overlay",
              "size": 10,
              "solidity": 0.2
             }
            },
            "type": "barpolar"
           }
          ],
          "carpet": [
           {
            "aaxis": {
             "endlinecolor": "#2a3f5f",
             "gridcolor": "white",
             "linecolor": "white",
             "minorgridcolor": "white",
             "startlinecolor": "#2a3f5f"
            },
            "baxis": {
             "endlinecolor": "#2a3f5f",
             "gridcolor": "white",
             "linecolor": "white",
             "minorgridcolor": "white",
             "startlinecolor": "#2a3f5f"
            },
            "type": "carpet"
           }
          ],
          "choropleth": [
           {
            "colorbar": {
             "outlinewidth": 0,
             "ticks": ""
            },
            "type": "choropleth"
           }
          ],
          "contour": [
           {
            "colorbar": {
             "outlinewidth": 0,
             "ticks": ""
            },
            "colorscale": [
             [
              0,
              "#0d0887"
             ],
             [
              0.1111111111111111,
              "#46039f"
             ],
             [
              0.2222222222222222,
              "#7201a8"
             ],
             [
              0.3333333333333333,
              "#9c179e"
             ],
             [
              0.4444444444444444,
              "#bd3786"
             ],
             [
              0.5555555555555556,
              "#d8576b"
             ],
             [
              0.6666666666666666,
              "#ed7953"
             ],
             [
              0.7777777777777778,
              "#fb9f3a"
             ],
             [
              0.8888888888888888,
              "#fdca26"
             ],
             [
              1,
              "#f0f921"
             ]
            ],
            "type": "contour"
           }
          ],
          "contourcarpet": [
           {
            "colorbar": {
             "outlinewidth": 0,
             "ticks": ""
            },
            "type": "contourcarpet"
           }
          ],
          "heatmap": [
           {
            "colorbar": {
             "outlinewidth": 0,
             "ticks": ""
            },
            "colorscale": [
             [
              0,
              "#0d0887"
             ],
             [
              0.1111111111111111,
              "#46039f"
             ],
             [
              0.2222222222222222,
              "#7201a8"
             ],
             [
              0.3333333333333333,
              "#9c179e"
             ],
             [
              0.4444444444444444,
              "#bd3786"
             ],
             [
              0.5555555555555556,
              "#d8576b"
             ],
             [
              0.6666666666666666,
              "#ed7953"
             ],
             [
              0.7777777777777778,
              "#fb9f3a"
             ],
             [
              0.8888888888888888,
              "#fdca26"
             ],
             [
              1,
              "#f0f921"
             ]
            ],
            "type": "heatmap"
           }
          ],
          "heatmapgl": [
           {
            "colorbar": {
             "outlinewidth": 0,
             "ticks": ""
            },
            "colorscale": [
             [
              0,
              "#0d0887"
             ],
             [
              0.1111111111111111,
              "#46039f"
             ],
             [
              0.2222222222222222,
              "#7201a8"
             ],
             [
              0.3333333333333333,
              "#9c179e"
             ],
             [
              0.4444444444444444,
              "#bd3786"
             ],
             [
              0.5555555555555556,
              "#d8576b"
             ],
             [
              0.6666666666666666,
              "#ed7953"
             ],
             [
              0.7777777777777778,
              "#fb9f3a"
             ],
             [
              0.8888888888888888,
              "#fdca26"
             ],
             [
              1,
              "#f0f921"
             ]
            ],
            "type": "heatmapgl"
           }
          ],
          "histogram": [
           {
            "marker": {
             "pattern": {
              "fillmode": "overlay",
              "size": 10,
              "solidity": 0.2
             }
            },
            "type": "histogram"
           }
          ],
          "histogram2d": [
           {
            "colorbar": {
             "outlinewidth": 0,
             "ticks": ""
            },
            "colorscale": [
             [
              0,
              "#0d0887"
             ],
             [
              0.1111111111111111,
              "#46039f"
             ],
             [
              0.2222222222222222,
              "#7201a8"
             ],
             [
              0.3333333333333333,
              "#9c179e"
             ],
             [
              0.4444444444444444,
              "#bd3786"
             ],
             [
              0.5555555555555556,
              "#d8576b"
             ],
             [
              0.6666666666666666,
              "#ed7953"
             ],
             [
              0.7777777777777778,
              "#fb9f3a"
             ],
             [
              0.8888888888888888,
              "#fdca26"
             ],
             [
              1,
              "#f0f921"
             ]
            ],
            "type": "histogram2d"
           }
          ],
          "histogram2dcontour": [
           {
            "colorbar": {
             "outlinewidth": 0,
             "ticks": ""
            },
            "colorscale": [
             [
              0,
              "#0d0887"
             ],
             [
              0.1111111111111111,
              "#46039f"
             ],
             [
              0.2222222222222222,
              "#7201a8"
             ],
             [
              0.3333333333333333,
              "#9c179e"
             ],
             [
              0.4444444444444444,
              "#bd3786"
             ],
             [
              0.5555555555555556,
              "#d8576b"
             ],
             [
              0.6666666666666666,
              "#ed7953"
             ],
             [
              0.7777777777777778,
              "#fb9f3a"
             ],
             [
              0.8888888888888888,
              "#fdca26"
             ],
             [
              1,
              "#f0f921"
             ]
            ],
            "type": "histogram2dcontour"
           }
          ],
          "mesh3d": [
           {
            "colorbar": {
             "outlinewidth": 0,
             "ticks": ""
            },
            "type": "mesh3d"
           }
          ],
          "parcoords": [
           {
            "line": {
             "colorbar": {
              "outlinewidth": 0,
              "ticks": ""
             }
            },
            "type": "parcoords"
           }
          ],
          "pie": [
           {
            "automargin": true,
            "type": "pie"
           }
          ],
          "scatter": [
           {
            "fillpattern": {
             "fillmode": "overlay",
             "size": 10,
             "solidity": 0.2
            },
            "type": "scatter"
           }
          ],
          "scatter3d": [
           {
            "line": {
             "colorbar": {
              "outlinewidth": 0,
              "ticks": ""
             }
            },
            "marker": {
             "colorbar": {
              "outlinewidth": 0,
              "ticks": ""
             }
            },
            "type": "scatter3d"
           }
          ],
          "scattercarpet": [
           {
            "marker": {
             "colorbar": {
              "outlinewidth": 0,
              "ticks": ""
             }
            },
            "type": "scattercarpet"
           }
          ],
          "scattergeo": [
           {
            "marker": {
             "colorbar": {
              "outlinewidth": 0,
              "ticks": ""
             }
            },
            "type": "scattergeo"
           }
          ],
          "scattergl": [
           {
            "marker": {
             "colorbar": {
              "outlinewidth": 0,
              "ticks": ""
             }
            },
            "type": "scattergl"
           }
          ],
          "scattermapbox": [
           {
            "marker": {
             "colorbar": {
              "outlinewidth": 0,
              "ticks": ""
             }
            },
            "type": "scattermapbox"
           }
          ],
          "scatterpolar": [
           {
            "marker": {
             "colorbar": {
              "outlinewidth": 0,
              "ticks": ""
             }
            },
            "type": "scatterpolar"
           }
          ],
          "scatterpolargl": [
           {
            "marker": {
             "colorbar": {
              "outlinewidth": 0,
              "ticks": ""
             }
            },
            "type": "scatterpolargl"
           }
          ],
          "scatterternary": [
           {
            "marker": {
             "colorbar": {
              "outlinewidth": 0,
              "ticks": ""
             }
            },
            "type": "scatterternary"
           }
          ],
          "surface": [
           {
            "colorbar": {
             "outlinewidth": 0,
             "ticks": ""
            },
            "colorscale": [
             [
              0,
              "#0d0887"
             ],
             [
              0.1111111111111111,
              "#46039f"
             ],
             [
              0.2222222222222222,
              "#7201a8"
             ],
             [
              0.3333333333333333,
              "#9c179e"
             ],
             [
              0.4444444444444444,
              "#bd3786"
             ],
             [
              0.5555555555555556,
              "#d8576b"
             ],
             [
              0.6666666666666666,
              "#ed7953"
             ],
             [
              0.7777777777777778,
              "#fb9f3a"
             ],
             [
              0.8888888888888888,
              "#fdca26"
             ],
             [
              1,
              "#f0f921"
             ]
            ],
            "type": "surface"
           }
          ],
          "table": [
           {
            "cells": {
             "fill": {
              "color": "#EBF0F8"
             },
             "line": {
              "color": "white"
             }
            },
            "header": {
             "fill": {
              "color": "#C8D4E3"
             },
             "line": {
              "color": "white"
             }
            },
            "type": "table"
           }
          ]
         },
         "layout": {
          "annotationdefaults": {
           "arrowcolor": "#2a3f5f",
           "arrowhead": 0,
           "arrowwidth": 1
          },
          "autotypenumbers": "strict",
          "coloraxis": {
           "colorbar": {
            "outlinewidth": 0,
            "ticks": ""
           }
          },
          "colorscale": {
           "diverging": [
            [
             0,
             "#8e0152"
            ],
            [
             0.1,
             "#c51b7d"
            ],
            [
             0.2,
             "#de77ae"
            ],
            [
             0.3,
             "#f1b6da"
            ],
            [
             0.4,
             "#fde0ef"
            ],
            [
             0.5,
             "#f7f7f7"
            ],
            [
             0.6,
             "#e6f5d0"
            ],
            [
             0.7,
             "#b8e186"
            ],
            [
             0.8,
             "#7fbc41"
            ],
            [
             0.9,
             "#4d9221"
            ],
            [
             1,
             "#276419"
            ]
           ],
           "sequential": [
            [
             0,
             "#0d0887"
            ],
            [
             0.1111111111111111,
             "#46039f"
            ],
            [
             0.2222222222222222,
             "#7201a8"
            ],
            [
             0.3333333333333333,
             "#9c179e"
            ],
            [
             0.4444444444444444,
             "#bd3786"
            ],
            [
             0.5555555555555556,
             "#d8576b"
            ],
            [
             0.6666666666666666,
             "#ed7953"
            ],
            [
             0.7777777777777778,
             "#fb9f3a"
            ],
            [
             0.8888888888888888,
             "#fdca26"
            ],
            [
             1,
             "#f0f921"
            ]
           ],
           "sequentialminus": [
            [
             0,
             "#0d0887"
            ],
            [
             0.1111111111111111,
             "#46039f"
            ],
            [
             0.2222222222222222,
             "#7201a8"
            ],
            [
             0.3333333333333333,
             "#9c179e"
            ],
            [
             0.4444444444444444,
             "#bd3786"
            ],
            [
             0.5555555555555556,
             "#d8576b"
            ],
            [
             0.6666666666666666,
             "#ed7953"
            ],
            [
             0.7777777777777778,
             "#fb9f3a"
            ],
            [
             0.8888888888888888,
             "#fdca26"
            ],
            [
             1,
             "#f0f921"
            ]
           ]
          },
          "colorway": [
           "#636efa",
           "#EF553B",
           "#00cc96",
           "#ab63fa",
           "#FFA15A",
           "#19d3f3",
           "#FF6692",
           "#B6E880",
           "#FF97FF",
           "#FECB52"
          ],
          "font": {
           "color": "#2a3f5f"
          },
          "geo": {
           "bgcolor": "white",
           "lakecolor": "white",
           "landcolor": "#E5ECF6",
           "showlakes": true,
           "showland": true,
           "subunitcolor": "white"
          },
          "hoverlabel": {
           "align": "left"
          },
          "hovermode": "closest",
          "mapbox": {
           "style": "light"
          },
          "paper_bgcolor": "white",
          "plot_bgcolor": "#E5ECF6",
          "polar": {
           "angularaxis": {
            "gridcolor": "white",
            "linecolor": "white",
            "ticks": ""
           },
           "bgcolor": "#E5ECF6",
           "radialaxis": {
            "gridcolor": "white",
            "linecolor": "white",
            "ticks": ""
           }
          },
          "scene": {
           "xaxis": {
            "backgroundcolor": "#E5ECF6",
            "gridcolor": "white",
            "gridwidth": 2,
            "linecolor": "white",
            "showbackground": true,
            "ticks": "",
            "zerolinecolor": "white"
           },
           "yaxis": {
            "backgroundcolor": "#E5ECF6",
            "gridcolor": "white",
            "gridwidth": 2,
            "linecolor": "white",
            "showbackground": true,
            "ticks": "",
            "zerolinecolor": "white"
           },
           "zaxis": {
            "backgroundcolor": "#E5ECF6",
            "gridcolor": "white",
            "gridwidth": 2,
            "linecolor": "white",
            "showbackground": true,
            "ticks": "",
            "zerolinecolor": "white"
           }
          },
          "shapedefaults": {
           "line": {
            "color": "#2a3f5f"
           }
          },
          "ternary": {
           "aaxis": {
            "gridcolor": "white",
            "linecolor": "white",
            "ticks": ""
           },
           "baxis": {
            "gridcolor": "white",
            "linecolor": "white",
            "ticks": ""
           },
           "bgcolor": "#E5ECF6",
           "caxis": {
            "gridcolor": "white",
            "linecolor": "white",
            "ticks": ""
           }
          },
          "title": {
           "x": 0.05
          },
          "xaxis": {
           "automargin": true,
           "gridcolor": "white",
           "linecolor": "white",
           "ticks": "",
           "title": {
            "standoff": 15
           },
           "zerolinecolor": "white",
           "zerolinewidth": 2
          },
          "yaxis": {
           "automargin": true,
           "gridcolor": "white",
           "linecolor": "white",
           "ticks": "",
           "title": {
            "standoff": 15
           },
           "zerolinecolor": "white",
           "zerolinewidth": 2
          }
         }
        },
        "title": {
         "text": "Динамика событий по дням"
        },
        "width": 1000,
        "xaxis": {
         "anchor": "y",
         "domain": [
          0,
          1
         ],
         "title": {
          "text": "date"
         }
        },
        "yaxis": {
         "anchor": "x",
         "domain": [
          0,
          1
         ],
         "title": {
          "text": "event"
         }
        }
       }
      }
     },
     "metadata": {},
     "output_type": "display_data"
    }
   ],
   "source": [
    "import plotly\n",
    "import plotly.express as px\n",
    "\n",
    "events_grouped\n",
    "fig = px.line(\n",
    "    data_frame=events_grouped,\n",
    "    x='date',\n",
    "    y='event',\n",
    "    height=500,\n",
    "    width=1000,\n",
    "    title='Динамика событий по дням' #заголовок\n",
    ")\n",
    "fig.show()\n",
    "\n"
   ]
  },
  {
   "cell_type": "markdown",
   "metadata": {},
   "source": [
    "В целом мы наблюдаем тенденцию к постепенному снижению активности пользователей."
   ]
  },
  {
   "cell_type": "markdown",
   "metadata": {},
   "source": []
  },
  {
   "cell_type": "markdown",
   "metadata": {},
   "source": [
    "## 2) График с динамикой открытий приложений для групп \n",
    "## «Установили в тот же день» и «Остальные»"
   ]
  },
  {
   "cell_type": "code",
   "execution_count": 68,
   "metadata": {},
   "outputs": [],
   "source": [
    "# Внесём в таблицу данные о дне установки приложения для каждого пользователя\n",
    "installs = df[df.event == 'app_install'].reset_index()\n",
    "installs = installs[['date','device_id']]\n",
    "installdate_dict = dict(zip(installs.device_id, installs.date))\n",
    "df['install_date'] = df['device_id'].apply(\n",
    "    lambda x: installdate_dict[x] if x in installdate_dict else None\n",
    "    )"
   ]
  },
  {
   "cell_type": "code",
   "execution_count": 69,
   "metadata": {},
   "outputs": [],
   "source": [
    "# Создадим столбец, делящий событий на те, которые произошли в день установки и остальные\n",
    "import numpy as np\n",
    "df['install_group'] = np.where(df.date==df.install_date, 'same_day_install', 'other')"
   ]
  },
  {
   "cell_type": "code",
   "execution_count": 70,
   "metadata": {},
   "outputs": [],
   "source": [
    "# Построим сводную таблицу с данными открытий приложений в день установки приложения и в другие дни\n",
    "app_start_statistic = df[df.event=='app_start'].pivot_table(\n",
    "    index='date',\n",
    "    columns='install_group',\n",
    "    values='event',\n",
    "    aggfunc='count'\n",
    ").reset_index()"
   ]
  },
  {
   "cell_type": "code",
   "execution_count": 140,
   "metadata": {},
   "outputs": [
    {
     "data": {
      "text/html": [
       "<div>\n",
       "<style scoped>\n",
       "    .dataframe tbody tr th:only-of-type {\n",
       "        vertical-align: middle;\n",
       "    }\n",
       "\n",
       "    .dataframe tbody tr th {\n",
       "        vertical-align: top;\n",
       "    }\n",
       "\n",
       "    .dataframe thead th {\n",
       "        text-align: right;\n",
       "    }\n",
       "</style>\n",
       "<table border=\"1\" class=\"dataframe\">\n",
       "  <thead>\n",
       "    <tr style=\"text-align: right;\">\n",
       "      <th>install_group</th>\n",
       "      <th>date</th>\n",
       "      <th>other</th>\n",
       "      <th>same_day_install</th>\n",
       "      <th>total</th>\n",
       "      <th>percent</th>\n",
       "    </tr>\n",
       "  </thead>\n",
       "  <tbody>\n",
       "    <tr>\n",
       "      <th>0</th>\n",
       "      <td>2020-01-01</td>\n",
       "      <td>866</td>\n",
       "      <td>3579</td>\n",
       "      <td>4445</td>\n",
       "      <td>19.0</td>\n",
       "    </tr>\n",
       "    <tr>\n",
       "      <th>1</th>\n",
       "      <td>2020-01-02</td>\n",
       "      <td>1957</td>\n",
       "      <td>3144</td>\n",
       "      <td>5101</td>\n",
       "      <td>38.0</td>\n",
       "    </tr>\n",
       "    <tr>\n",
       "      <th>2</th>\n",
       "      <td>2020-01-03</td>\n",
       "      <td>2742</td>\n",
       "      <td>2402</td>\n",
       "      <td>5144</td>\n",
       "      <td>53.0</td>\n",
       "    </tr>\n",
       "    <tr>\n",
       "      <th>3</th>\n",
       "      <td>2020-01-04</td>\n",
       "      <td>3093</td>\n",
       "      <td>1831</td>\n",
       "      <td>4924</td>\n",
       "      <td>63.0</td>\n",
       "    </tr>\n",
       "    <tr>\n",
       "      <th>4</th>\n",
       "      <td>2020-01-05</td>\n",
       "      <td>3936</td>\n",
       "      <td>1671</td>\n",
       "      <td>5607</td>\n",
       "      <td>70.0</td>\n",
       "    </tr>\n",
       "  </tbody>\n",
       "</table>\n",
       "</div>"
      ],
      "text/plain": [
       "install_group       date  other  same_day_install  total  percent\n",
       "0             2020-01-01    866              3579   4445     19.0\n",
       "1             2020-01-02   1957              3144   5101     38.0\n",
       "2             2020-01-03   2742              2402   5144     53.0\n",
       "3             2020-01-04   3093              1831   4924     63.0\n",
       "4             2020-01-05   3936              1671   5607     70.0"
      ]
     },
     "execution_count": 140,
     "metadata": {},
     "output_type": "execute_result"
    }
   ],
   "source": [
    "# Добавим колонку с количеством всех открытий приложения и доли открытий приложения пользователями группы \"остальные\"\n",
    "app_start_statistic['total'] = (app_start_statistic.other \n",
    "                                + app_start_statistic.same_day_install)\n",
    "app_start_statistic['percent'] = round(\n",
    "    app_start_statistic.other/app_start_statistic.total * 100)\n",
    "\n",
    "app_start_statistic.head()"
   ]
  },
  {
   "cell_type": "code",
   "execution_count": 72,
   "metadata": {},
   "outputs": [
    {
     "data": {
      "application/vnd.plotly.v1+json": {
       "config": {
        "plotlyServerURL": "https://plot.ly"
       },
       "data": [
        {
         "hovertemplate": "variable=same_day_install<br>date=%{x}<br>value=%{y}<extra></extra>",
         "legendgroup": "same_day_install",
         "line": {
          "color": "#636efa",
          "dash": "solid"
         },
         "marker": {
          "symbol": "circle"
         },
         "mode": "lines",
         "name": "same_day_install",
         "orientation": "v",
         "showlegend": true,
         "type": "scatter",
         "x": [
          "2020-01-01T00:00:00",
          "2020-01-02T00:00:00",
          "2020-01-03T00:00:00",
          "2020-01-04T00:00:00",
          "2020-01-05T00:00:00",
          "2020-01-06T00:00:00",
          "2020-01-07T00:00:00",
          "2020-01-08T00:00:00",
          "2020-01-09T00:00:00",
          "2020-01-10T00:00:00",
          "2020-01-11T00:00:00",
          "2020-01-12T00:00:00",
          "2020-01-13T00:00:00",
          "2020-01-14T00:00:00",
          "2020-01-15T00:00:00",
          "2020-01-16T00:00:00",
          "2020-01-17T00:00:00",
          "2020-01-18T00:00:00",
          "2020-01-19T00:00:00",
          "2020-01-20T00:00:00",
          "2020-01-21T00:00:00",
          "2020-01-22T00:00:00",
          "2020-01-23T00:00:00",
          "2020-01-24T00:00:00",
          "2020-01-25T00:00:00",
          "2020-01-26T00:00:00",
          "2020-01-27T00:00:00",
          "2020-01-28T00:00:00",
          "2020-01-29T00:00:00",
          "2020-01-30T00:00:00",
          "2020-01-31T00:00:00",
          "2020-02-01T00:00:00",
          "2020-02-02T00:00:00",
          "2020-02-03T00:00:00",
          "2020-02-04T00:00:00",
          "2020-02-05T00:00:00",
          "2020-02-06T00:00:00",
          "2020-02-07T00:00:00",
          "2020-02-08T00:00:00",
          "2020-02-09T00:00:00",
          "2020-02-10T00:00:00",
          "2020-02-11T00:00:00",
          "2020-02-12T00:00:00",
          "2020-02-13T00:00:00",
          "2020-02-14T00:00:00",
          "2020-02-15T00:00:00",
          "2020-02-16T00:00:00",
          "2020-02-17T00:00:00",
          "2020-02-18T00:00:00",
          "2020-02-19T00:00:00",
          "2020-02-20T00:00:00",
          "2020-02-21T00:00:00",
          "2020-02-22T00:00:00",
          "2020-02-23T00:00:00",
          "2020-02-24T00:00:00",
          "2020-02-25T00:00:00",
          "2020-02-26T00:00:00",
          "2020-02-27T00:00:00",
          "2020-02-28T00:00:00",
          "2020-02-29T00:00:00",
          "2020-03-01T00:00:00",
          "2020-03-02T00:00:00",
          "2020-03-03T00:00:00",
          "2020-03-04T00:00:00",
          "2020-03-05T00:00:00",
          "2020-03-06T00:00:00",
          "2020-03-07T00:00:00",
          "2020-03-08T00:00:00",
          "2020-03-09T00:00:00",
          "2020-03-10T00:00:00",
          "2020-03-11T00:00:00",
          "2020-03-12T00:00:00",
          "2020-03-13T00:00:00",
          "2020-03-14T00:00:00",
          "2020-03-15T00:00:00",
          "2020-03-16T00:00:00",
          "2020-03-17T00:00:00",
          "2020-03-18T00:00:00",
          "2020-03-19T00:00:00",
          "2020-03-20T00:00:00",
          "2020-03-21T00:00:00",
          "2020-03-22T00:00:00",
          "2020-03-23T00:00:00",
          "2020-03-24T00:00:00",
          "2020-03-25T00:00:00",
          "2020-03-26T00:00:00",
          "2020-03-27T00:00:00",
          "2020-03-28T00:00:00",
          "2020-03-29T00:00:00",
          "2020-03-30T00:00:00",
          "2020-03-31T00:00:00"
         ],
         "xaxis": "x",
         "y": [
          3579,
          3144,
          2402,
          1831,
          1671,
          1488,
          1298,
          1154,
          1424,
          13106,
          4523,
          2439,
          4571,
          5173,
          4310,
          3306,
          2737,
          2304,
          2257,
          2097,
          1826,
          1057,
          2051,
          1275,
          970,
          812,
          758,
          1012,
          1456,
          2301,
          1965,
          1584,
          1493,
          1483,
          1377,
          1323,
          1172,
          1086,
          1176,
          1191,
          1083,
          1076,
          1199,
          1844,
          4188,
          2223,
          1340,
          1098,
          1018,
          1243,
          839,
          2576,
          1901,
          1016,
          727,
          593,
          571,
          532,
          508,
          618,
          651,
          453,
          466,
          452,
          411,
          6358,
          2934,
          1098,
          703,
          616,
          549,
          709,
          499,
          443,
          478,
          360,
          431,
          1171,
          1406,
          1408,
          1235,
          1261,
          1692,
          1850,
          1824,
          1395,
          1199,
          1091,
          1117,
          994,
          968
         ],
         "yaxis": "y"
        },
        {
         "hovertemplate": "variable=other<br>date=%{x}<br>value=%{y}<extra></extra>",
         "legendgroup": "other",
         "line": {
          "color": "#EF553B",
          "dash": "solid"
         },
         "marker": {
          "symbol": "circle"
         },
         "mode": "lines",
         "name": "other",
         "orientation": "v",
         "showlegend": true,
         "type": "scatter",
         "x": [
          "2020-01-01T00:00:00",
          "2020-01-02T00:00:00",
          "2020-01-03T00:00:00",
          "2020-01-04T00:00:00",
          "2020-01-05T00:00:00",
          "2020-01-06T00:00:00",
          "2020-01-07T00:00:00",
          "2020-01-08T00:00:00",
          "2020-01-09T00:00:00",
          "2020-01-10T00:00:00",
          "2020-01-11T00:00:00",
          "2020-01-12T00:00:00",
          "2020-01-13T00:00:00",
          "2020-01-14T00:00:00",
          "2020-01-15T00:00:00",
          "2020-01-16T00:00:00",
          "2020-01-17T00:00:00",
          "2020-01-18T00:00:00",
          "2020-01-19T00:00:00",
          "2020-01-20T00:00:00",
          "2020-01-21T00:00:00",
          "2020-01-22T00:00:00",
          "2020-01-23T00:00:00",
          "2020-01-24T00:00:00",
          "2020-01-25T00:00:00",
          "2020-01-26T00:00:00",
          "2020-01-27T00:00:00",
          "2020-01-28T00:00:00",
          "2020-01-29T00:00:00",
          "2020-01-30T00:00:00",
          "2020-01-31T00:00:00",
          "2020-02-01T00:00:00",
          "2020-02-02T00:00:00",
          "2020-02-03T00:00:00",
          "2020-02-04T00:00:00",
          "2020-02-05T00:00:00",
          "2020-02-06T00:00:00",
          "2020-02-07T00:00:00",
          "2020-02-08T00:00:00",
          "2020-02-09T00:00:00",
          "2020-02-10T00:00:00",
          "2020-02-11T00:00:00",
          "2020-02-12T00:00:00",
          "2020-02-13T00:00:00",
          "2020-02-14T00:00:00",
          "2020-02-15T00:00:00",
          "2020-02-16T00:00:00",
          "2020-02-17T00:00:00",
          "2020-02-18T00:00:00",
          "2020-02-19T00:00:00",
          "2020-02-20T00:00:00",
          "2020-02-21T00:00:00",
          "2020-02-22T00:00:00",
          "2020-02-23T00:00:00",
          "2020-02-24T00:00:00",
          "2020-02-25T00:00:00",
          "2020-02-26T00:00:00",
          "2020-02-27T00:00:00",
          "2020-02-28T00:00:00",
          "2020-02-29T00:00:00",
          "2020-03-01T00:00:00",
          "2020-03-02T00:00:00",
          "2020-03-03T00:00:00",
          "2020-03-04T00:00:00",
          "2020-03-05T00:00:00",
          "2020-03-06T00:00:00",
          "2020-03-07T00:00:00",
          "2020-03-08T00:00:00",
          "2020-03-09T00:00:00",
          "2020-03-10T00:00:00",
          "2020-03-11T00:00:00",
          "2020-03-12T00:00:00",
          "2020-03-13T00:00:00",
          "2020-03-14T00:00:00",
          "2020-03-15T00:00:00",
          "2020-03-16T00:00:00",
          "2020-03-17T00:00:00",
          "2020-03-18T00:00:00",
          "2020-03-19T00:00:00",
          "2020-03-20T00:00:00",
          "2020-03-21T00:00:00",
          "2020-03-22T00:00:00",
          "2020-03-23T00:00:00",
          "2020-03-24T00:00:00",
          "2020-03-25T00:00:00",
          "2020-03-26T00:00:00",
          "2020-03-27T00:00:00",
          "2020-03-28T00:00:00",
          "2020-03-29T00:00:00",
          "2020-03-30T00:00:00",
          "2020-03-31T00:00:00"
         ],
         "xaxis": "x",
         "y": [
          866,
          1957,
          2742,
          3093,
          3936,
          3677,
          3475,
          3796,
          3992,
          8323,
          9946,
          7790,
          7603,
          7764,
          7545,
          7325,
          7165,
          7292,
          7259,
          6937,
          6823,
          6638,
          7666,
          6981,
          6866,
          6802,
          6457,
          6638,
          7125,
          6919,
          6776,
          6684,
          6765,
          6347,
          6306,
          6179,
          6710,
          6307,
          6423,
          6666,
          6334,
          5845,
          6364,
          7515,
          10282,
          8067,
          7943,
          7687,
          7594,
          7380,
          6667,
          10084,
          8933,
          7640,
          7092,
          6594,
          6270,
          6220,
          6254,
          6464,
          6458,
          6015,
          5845,
          5681,
          5759,
          10616,
          10606,
          6937,
          6754,
          6780,
          6457,
          6616,
          6025,
          6166,
          6120,
          5786,
          6111,
          6148,
          6037,
          5743,
          5608,
          5440,
          7112,
          7813,
          7990,
          7861,
          6610,
          5374,
          4818,
          4710,
          4322
         ],
         "yaxis": "y"
        }
       ],
       "layout": {
        "height": 500,
        "legend": {
         "title": {
          "text": "variable"
         },
         "tracegroupgap": 0
        },
        "template": {
         "data": {
          "bar": [
           {
            "error_x": {
             "color": "#2a3f5f"
            },
            "error_y": {
             "color": "#2a3f5f"
            },
            "marker": {
             "line": {
              "color": "#E5ECF6",
              "width": 0.5
             },
             "pattern": {
              "fillmode": "overlay",
              "size": 10,
              "solidity": 0.2
             }
            },
            "type": "bar"
           }
          ],
          "barpolar": [
           {
            "marker": {
             "line": {
              "color": "#E5ECF6",
              "width": 0.5
             },
             "pattern": {
              "fillmode": "overlay",
              "size": 10,
              "solidity": 0.2
             }
            },
            "type": "barpolar"
           }
          ],
          "carpet": [
           {
            "aaxis": {
             "endlinecolor": "#2a3f5f",
             "gridcolor": "white",
             "linecolor": "white",
             "minorgridcolor": "white",
             "startlinecolor": "#2a3f5f"
            },
            "baxis": {
             "endlinecolor": "#2a3f5f",
             "gridcolor": "white",
             "linecolor": "white",
             "minorgridcolor": "white",
             "startlinecolor": "#2a3f5f"
            },
            "type": "carpet"
           }
          ],
          "choropleth": [
           {
            "colorbar": {
             "outlinewidth": 0,
             "ticks": ""
            },
            "type": "choropleth"
           }
          ],
          "contour": [
           {
            "colorbar": {
             "outlinewidth": 0,
             "ticks": ""
            },
            "colorscale": [
             [
              0,
              "#0d0887"
             ],
             [
              0.1111111111111111,
              "#46039f"
             ],
             [
              0.2222222222222222,
              "#7201a8"
             ],
             [
              0.3333333333333333,
              "#9c179e"
             ],
             [
              0.4444444444444444,
              "#bd3786"
             ],
             [
              0.5555555555555556,
              "#d8576b"
             ],
             [
              0.6666666666666666,
              "#ed7953"
             ],
             [
              0.7777777777777778,
              "#fb9f3a"
             ],
             [
              0.8888888888888888,
              "#fdca26"
             ],
             [
              1,
              "#f0f921"
             ]
            ],
            "type": "contour"
           }
          ],
          "contourcarpet": [
           {
            "colorbar": {
             "outlinewidth": 0,
             "ticks": ""
            },
            "type": "contourcarpet"
           }
          ],
          "heatmap": [
           {
            "colorbar": {
             "outlinewidth": 0,
             "ticks": ""
            },
            "colorscale": [
             [
              0,
              "#0d0887"
             ],
             [
              0.1111111111111111,
              "#46039f"
             ],
             [
              0.2222222222222222,
              "#7201a8"
             ],
             [
              0.3333333333333333,
              "#9c179e"
             ],
             [
              0.4444444444444444,
              "#bd3786"
             ],
             [
              0.5555555555555556,
              "#d8576b"
             ],
             [
              0.6666666666666666,
              "#ed7953"
             ],
             [
              0.7777777777777778,
              "#fb9f3a"
             ],
             [
              0.8888888888888888,
              "#fdca26"
             ],
             [
              1,
              "#f0f921"
             ]
            ],
            "type": "heatmap"
           }
          ],
          "heatmapgl": [
           {
            "colorbar": {
             "outlinewidth": 0,
             "ticks": ""
            },
            "colorscale": [
             [
              0,
              "#0d0887"
             ],
             [
              0.1111111111111111,
              "#46039f"
             ],
             [
              0.2222222222222222,
              "#7201a8"
             ],
             [
              0.3333333333333333,
              "#9c179e"
             ],
             [
              0.4444444444444444,
              "#bd3786"
             ],
             [
              0.5555555555555556,
              "#d8576b"
             ],
             [
              0.6666666666666666,
              "#ed7953"
             ],
             [
              0.7777777777777778,
              "#fb9f3a"
             ],
             [
              0.8888888888888888,
              "#fdca26"
             ],
             [
              1,
              "#f0f921"
             ]
            ],
            "type": "heatmapgl"
           }
          ],
          "histogram": [
           {
            "marker": {
             "pattern": {
              "fillmode": "overlay",
              "size": 10,
              "solidity": 0.2
             }
            },
            "type": "histogram"
           }
          ],
          "histogram2d": [
           {
            "colorbar": {
             "outlinewidth": 0,
             "ticks": ""
            },
            "colorscale": [
             [
              0,
              "#0d0887"
             ],
             [
              0.1111111111111111,
              "#46039f"
             ],
             [
              0.2222222222222222,
              "#7201a8"
             ],
             [
              0.3333333333333333,
              "#9c179e"
             ],
             [
              0.4444444444444444,
              "#bd3786"
             ],
             [
              0.5555555555555556,
              "#d8576b"
             ],
             [
              0.6666666666666666,
              "#ed7953"
             ],
             [
              0.7777777777777778,
              "#fb9f3a"
             ],
             [
              0.8888888888888888,
              "#fdca26"
             ],
             [
              1,
              "#f0f921"
             ]
            ],
            "type": "histogram2d"
           }
          ],
          "histogram2dcontour": [
           {
            "colorbar": {
             "outlinewidth": 0,
             "ticks": ""
            },
            "colorscale": [
             [
              0,
              "#0d0887"
             ],
             [
              0.1111111111111111,
              "#46039f"
             ],
             [
              0.2222222222222222,
              "#7201a8"
             ],
             [
              0.3333333333333333,
              "#9c179e"
             ],
             [
              0.4444444444444444,
              "#bd3786"
             ],
             [
              0.5555555555555556,
              "#d8576b"
             ],
             [
              0.6666666666666666,
              "#ed7953"
             ],
             [
              0.7777777777777778,
              "#fb9f3a"
             ],
             [
              0.8888888888888888,
              "#fdca26"
             ],
             [
              1,
              "#f0f921"
             ]
            ],
            "type": "histogram2dcontour"
           }
          ],
          "mesh3d": [
           {
            "colorbar": {
             "outlinewidth": 0,
             "ticks": ""
            },
            "type": "mesh3d"
           }
          ],
          "parcoords": [
           {
            "line": {
             "colorbar": {
              "outlinewidth": 0,
              "ticks": ""
             }
            },
            "type": "parcoords"
           }
          ],
          "pie": [
           {
            "automargin": true,
            "type": "pie"
           }
          ],
          "scatter": [
           {
            "fillpattern": {
             "fillmode": "overlay",
             "size": 10,
             "solidity": 0.2
            },
            "type": "scatter"
           }
          ],
          "scatter3d": [
           {
            "line": {
             "colorbar": {
              "outlinewidth": 0,
              "ticks": ""
             }
            },
            "marker": {
             "colorbar": {
              "outlinewidth": 0,
              "ticks": ""
             }
            },
            "type": "scatter3d"
           }
          ],
          "scattercarpet": [
           {
            "marker": {
             "colorbar": {
              "outlinewidth": 0,
              "ticks": ""
             }
            },
            "type": "scattercarpet"
           }
          ],
          "scattergeo": [
           {
            "marker": {
             "colorbar": {
              "outlinewidth": 0,
              "ticks": ""
             }
            },
            "type": "scattergeo"
           }
          ],
          "scattergl": [
           {
            "marker": {
             "colorbar": {
              "outlinewidth": 0,
              "ticks": ""
             }
            },
            "type": "scattergl"
           }
          ],
          "scattermapbox": [
           {
            "marker": {
             "colorbar": {
              "outlinewidth": 0,
              "ticks": ""
             }
            },
            "type": "scattermapbox"
           }
          ],
          "scatterpolar": [
           {
            "marker": {
             "colorbar": {
              "outlinewidth": 0,
              "ticks": ""
             }
            },
            "type": "scatterpolar"
           }
          ],
          "scatterpolargl": [
           {
            "marker": {
             "colorbar": {
              "outlinewidth": 0,
              "ticks": ""
             }
            },
            "type": "scatterpolargl"
           }
          ],
          "scatterternary": [
           {
            "marker": {
             "colorbar": {
              "outlinewidth": 0,
              "ticks": ""
             }
            },
            "type": "scatterternary"
           }
          ],
          "surface": [
           {
            "colorbar": {
             "outlinewidth": 0,
             "ticks": ""
            },
            "colorscale": [
             [
              0,
              "#0d0887"
             ],
             [
              0.1111111111111111,
              "#46039f"
             ],
             [
              0.2222222222222222,
              "#7201a8"
             ],
             [
              0.3333333333333333,
              "#9c179e"
             ],
             [
              0.4444444444444444,
              "#bd3786"
             ],
             [
              0.5555555555555556,
              "#d8576b"
             ],
             [
              0.6666666666666666,
              "#ed7953"
             ],
             [
              0.7777777777777778,
              "#fb9f3a"
             ],
             [
              0.8888888888888888,
              "#fdca26"
             ],
             [
              1,
              "#f0f921"
             ]
            ],
            "type": "surface"
           }
          ],
          "table": [
           {
            "cells": {
             "fill": {
              "color": "#EBF0F8"
             },
             "line": {
              "color": "white"
             }
            },
            "header": {
             "fill": {
              "color": "#C8D4E3"
             },
             "line": {
              "color": "white"
             }
            },
            "type": "table"
           }
          ]
         },
         "layout": {
          "annotationdefaults": {
           "arrowcolor": "#2a3f5f",
           "arrowhead": 0,
           "arrowwidth": 1
          },
          "autotypenumbers": "strict",
          "coloraxis": {
           "colorbar": {
            "outlinewidth": 0,
            "ticks": ""
           }
          },
          "colorscale": {
           "diverging": [
            [
             0,
             "#8e0152"
            ],
            [
             0.1,
             "#c51b7d"
            ],
            [
             0.2,
             "#de77ae"
            ],
            [
             0.3,
             "#f1b6da"
            ],
            [
             0.4,
             "#fde0ef"
            ],
            [
             0.5,
             "#f7f7f7"
            ],
            [
             0.6,
             "#e6f5d0"
            ],
            [
             0.7,
             "#b8e186"
            ],
            [
             0.8,
             "#7fbc41"
            ],
            [
             0.9,
             "#4d9221"
            ],
            [
             1,
             "#276419"
            ]
           ],
           "sequential": [
            [
             0,
             "#0d0887"
            ],
            [
             0.1111111111111111,
             "#46039f"
            ],
            [
             0.2222222222222222,
             "#7201a8"
            ],
            [
             0.3333333333333333,
             "#9c179e"
            ],
            [
             0.4444444444444444,
             "#bd3786"
            ],
            [
             0.5555555555555556,
             "#d8576b"
            ],
            [
             0.6666666666666666,
             "#ed7953"
            ],
            [
             0.7777777777777778,
             "#fb9f3a"
            ],
            [
             0.8888888888888888,
             "#fdca26"
            ],
            [
             1,
             "#f0f921"
            ]
           ],
           "sequentialminus": [
            [
             0,
             "#0d0887"
            ],
            [
             0.1111111111111111,
             "#46039f"
            ],
            [
             0.2222222222222222,
             "#7201a8"
            ],
            [
             0.3333333333333333,
             "#9c179e"
            ],
            [
             0.4444444444444444,
             "#bd3786"
            ],
            [
             0.5555555555555556,
             "#d8576b"
            ],
            [
             0.6666666666666666,
             "#ed7953"
            ],
            [
             0.7777777777777778,
             "#fb9f3a"
            ],
            [
             0.8888888888888888,
             "#fdca26"
            ],
            [
             1,
             "#f0f921"
            ]
           ]
          },
          "colorway": [
           "#636efa",
           "#EF553B",
           "#00cc96",
           "#ab63fa",
           "#FFA15A",
           "#19d3f3",
           "#FF6692",
           "#B6E880",
           "#FF97FF",
           "#FECB52"
          ],
          "font": {
           "color": "#2a3f5f"
          },
          "geo": {
           "bgcolor": "white",
           "lakecolor": "white",
           "landcolor": "#E5ECF6",
           "showlakes": true,
           "showland": true,
           "subunitcolor": "white"
          },
          "hoverlabel": {
           "align": "left"
          },
          "hovermode": "closest",
          "mapbox": {
           "style": "light"
          },
          "paper_bgcolor": "white",
          "plot_bgcolor": "#E5ECF6",
          "polar": {
           "angularaxis": {
            "gridcolor": "white",
            "linecolor": "white",
            "ticks": ""
           },
           "bgcolor": "#E5ECF6",
           "radialaxis": {
            "gridcolor": "white",
            "linecolor": "white",
            "ticks": ""
           }
          },
          "scene": {
           "xaxis": {
            "backgroundcolor": "#E5ECF6",
            "gridcolor": "white",
            "gridwidth": 2,
            "linecolor": "white",
            "showbackground": true,
            "ticks": "",
            "zerolinecolor": "white"
           },
           "yaxis": {
            "backgroundcolor": "#E5ECF6",
            "gridcolor": "white",
            "gridwidth": 2,
            "linecolor": "white",
            "showbackground": true,
            "ticks": "",
            "zerolinecolor": "white"
           },
           "zaxis": {
            "backgroundcolor": "#E5ECF6",
            "gridcolor": "white",
            "gridwidth": 2,
            "linecolor": "white",
            "showbackground": true,
            "ticks": "",
            "zerolinecolor": "white"
           }
          },
          "shapedefaults": {
           "line": {
            "color": "#2a3f5f"
           }
          },
          "ternary": {
           "aaxis": {
            "gridcolor": "white",
            "linecolor": "white",
            "ticks": ""
           },
           "baxis": {
            "gridcolor": "white",
            "linecolor": "white",
            "ticks": ""
           },
           "bgcolor": "#E5ECF6",
           "caxis": {
            "gridcolor": "white",
            "linecolor": "white",
            "ticks": ""
           }
          },
          "title": {
           "x": 0.05
          },
          "xaxis": {
           "automargin": true,
           "gridcolor": "white",
           "linecolor": "white",
           "ticks": "",
           "title": {
            "standoff": 15
           },
           "zerolinecolor": "white",
           "zerolinewidth": 2
          },
          "yaxis": {
           "automargin": true,
           "gridcolor": "white",
           "linecolor": "white",
           "ticks": "",
           "title": {
            "standoff": 15
           },
           "zerolinecolor": "white",
           "zerolinewidth": 2
          }
         }
        },
        "title": {
         "text": "Динамика открытий приложения, установивших его в тот же день, и остальных"
        },
        "width": 1000,
        "xaxis": {
         "anchor": "y",
         "domain": [
          0,
          1
         ],
         "title": {
          "text": "date"
         }
        },
        "yaxis": {
         "anchor": "x",
         "domain": [
          0,
          1
         ],
         "title": {
          "text": "value"
         }
        }
       }
      }
     },
     "metadata": {},
     "output_type": "display_data"
    }
   ],
   "source": [
    "# Построим график на основе полученных данных\n",
    "fig = px.line(\n",
    "    data_frame=app_start_statistic, #датафрейм\n",
    "    x='date', #ось абсцисс\n",
    "    y=['same_day_install','other'], #ось ординат\n",
    "    height=500, #высота\n",
    "    width=1000, #ширина\n",
    "    title='Динамика открытий приложения, установивших его в тот же день, и остальных' #заголовок\n",
    ")\n",
    "fig.show()"
   ]
  },
  {
   "cell_type": "markdown",
   "metadata": {},
   "source": [
    "У обеих групп - тех кто в тот же день установил приложение и остальных - схожая динамика открытий (всплески активности и падения), \\\n",
    "но в целом значительно активнее пользователи, установившие приложение в предыдущие дни."
   ]
  },
  {
   "cell_type": "markdown",
   "metadata": {},
   "source": []
  },
  {
   "cell_type": "markdown",
   "metadata": {},
   "source": [
    "## 3) График динамики установок приложения \n",
    "## в зависимости от канала привлечения пользователя"
   ]
  },
  {
   "cell_type": "code",
   "execution_count": 73,
   "metadata": {},
   "outputs": [],
   "source": [
    "channels_installs = df[df.event=='app_install'].pivot_table(\n",
    "    index='date',\n",
    "    columns='utm_source',\n",
    "    values='device_id',\n",
    "    aggfunc='count'\n",
    ")\n"
   ]
  },
  {
   "cell_type": "code",
   "execution_count": 74,
   "metadata": {},
   "outputs": [
    {
     "data": {
      "application/vnd.plotly.v1+json": {
       "config": {
        "plotlyServerURL": "https://plot.ly"
       },
       "data": [
        {
         "hovertemplate": "utm_source=-<br>date=%{x}<br>value=%{y}<extra></extra>",
         "legendgroup": "-",
         "line": {
          "color": "#636efa",
          "dash": "solid"
         },
         "marker": {
          "symbol": "circle"
         },
         "mode": "lines",
         "name": "-",
         "orientation": "v",
         "showlegend": true,
         "type": "scatter",
         "x": [
          "2020-01-01T00:00:00",
          "2020-01-02T00:00:00",
          "2020-01-03T00:00:00",
          "2020-01-04T00:00:00",
          "2020-01-05T00:00:00",
          "2020-01-06T00:00:00",
          "2020-01-07T00:00:00",
          "2020-01-08T00:00:00",
          "2020-01-09T00:00:00",
          "2020-01-10T00:00:00",
          "2020-01-11T00:00:00",
          "2020-01-12T00:00:00",
          "2020-01-13T00:00:00",
          "2020-01-14T00:00:00",
          "2020-01-15T00:00:00",
          "2020-01-16T00:00:00",
          "2020-01-17T00:00:00",
          "2020-01-18T00:00:00",
          "2020-01-19T00:00:00",
          "2020-01-20T00:00:00",
          "2020-01-21T00:00:00",
          "2020-01-22T00:00:00",
          "2020-01-23T00:00:00",
          "2020-01-24T00:00:00",
          "2020-01-25T00:00:00",
          "2020-01-26T00:00:00",
          "2020-01-27T00:00:00",
          "2020-01-28T00:00:00",
          "2020-01-29T00:00:00",
          "2020-01-30T00:00:00",
          "2020-01-31T00:00:00",
          "2020-02-01T00:00:00",
          "2020-02-02T00:00:00",
          "2020-02-03T00:00:00",
          "2020-02-04T00:00:00",
          "2020-02-05T00:00:00",
          "2020-02-06T00:00:00",
          "2020-02-07T00:00:00",
          "2020-02-08T00:00:00",
          "2020-02-09T00:00:00",
          "2020-02-10T00:00:00",
          "2020-02-11T00:00:00",
          "2020-02-12T00:00:00",
          "2020-02-13T00:00:00",
          "2020-02-14T00:00:00",
          "2020-02-15T00:00:00",
          "2020-02-16T00:00:00",
          "2020-02-17T00:00:00",
          "2020-02-18T00:00:00",
          "2020-02-19T00:00:00",
          "2020-02-20T00:00:00",
          "2020-02-21T00:00:00",
          "2020-02-22T00:00:00",
          "2020-02-23T00:00:00",
          "2020-02-24T00:00:00",
          "2020-02-25T00:00:00",
          "2020-02-26T00:00:00",
          "2020-02-27T00:00:00",
          "2020-02-28T00:00:00",
          "2020-02-29T00:00:00",
          "2020-03-01T00:00:00",
          "2020-03-02T00:00:00",
          "2020-03-03T00:00:00",
          "2020-03-04T00:00:00",
          "2020-03-05T00:00:00",
          "2020-03-06T00:00:00",
          "2020-03-07T00:00:00",
          "2020-03-08T00:00:00",
          "2020-03-09T00:00:00",
          "2020-03-10T00:00:00",
          "2020-03-11T00:00:00",
          "2020-03-12T00:00:00",
          "2020-03-13T00:00:00",
          "2020-03-14T00:00:00",
          "2020-03-15T00:00:00",
          "2020-03-16T00:00:00",
          "2020-03-17T00:00:00",
          "2020-03-18T00:00:00",
          "2020-03-19T00:00:00",
          "2020-03-20T00:00:00",
          "2020-03-21T00:00:00",
          "2020-03-22T00:00:00",
          "2020-03-23T00:00:00",
          "2020-03-24T00:00:00",
          "2020-03-25T00:00:00",
          "2020-03-26T00:00:00",
          "2020-03-27T00:00:00",
          "2020-03-28T00:00:00",
          "2020-03-29T00:00:00",
          "2020-03-30T00:00:00",
          "2020-03-31T00:00:00"
         ],
         "xaxis": "x",
         "y": [
          761,
          674,
          514,
          387,
          335,
          337,
          264,
          228,
          300,
          2704,
          967,
          486,
          989,
          1119,
          920,
          665,
          577,
          492,
          454,
          426,
          383,
          235,
          445,
          259,
          211,
          185,
          159,
          217,
          285,
          476,
          413,
          348,
          292,
          319,
          261,
          270,
          238,
          212,
          257,
          258,
          205,
          223,
          263,
          389,
          889,
          472,
          281,
          275,
          217,
          240,
          178,
          529,
          394,
          204,
          134,
          97,
          122,
          106,
          127,
          125,
          159,
          87,
          103,
          101,
          72,
          1367,
          643,
          235,
          139,
          129,
          110,
          140,
          107,
          101,
          95,
          76,
          79,
          250,
          326,
          281,
          251,
          254,
          361,
          382,
          362,
          279,
          272,
          232,
          239,
          215,
          221
         ],
         "yaxis": "y"
        },
        {
         "hovertemplate": "utm_source=facebook_ads<br>date=%{x}<br>value=%{y}<extra></extra>",
         "legendgroup": "facebook_ads",
         "line": {
          "color": "#EF553B",
          "dash": "solid"
         },
         "marker": {
          "symbol": "circle"
         },
         "mode": "lines",
         "name": "facebook_ads",
         "orientation": "v",
         "showlegend": true,
         "type": "scatter",
         "x": [
          "2020-01-01T00:00:00",
          "2020-01-02T00:00:00",
          "2020-01-03T00:00:00",
          "2020-01-04T00:00:00",
          "2020-01-05T00:00:00",
          "2020-01-06T00:00:00",
          "2020-01-07T00:00:00",
          "2020-01-08T00:00:00",
          "2020-01-09T00:00:00",
          "2020-01-10T00:00:00",
          "2020-01-11T00:00:00",
          "2020-01-12T00:00:00",
          "2020-01-13T00:00:00",
          "2020-01-14T00:00:00",
          "2020-01-15T00:00:00",
          "2020-01-16T00:00:00",
          "2020-01-17T00:00:00",
          "2020-01-18T00:00:00",
          "2020-01-19T00:00:00",
          "2020-01-20T00:00:00",
          "2020-01-21T00:00:00",
          "2020-01-22T00:00:00",
          "2020-01-23T00:00:00",
          "2020-01-24T00:00:00",
          "2020-01-25T00:00:00",
          "2020-01-26T00:00:00",
          "2020-01-27T00:00:00",
          "2020-01-28T00:00:00",
          "2020-01-29T00:00:00",
          "2020-01-30T00:00:00",
          "2020-01-31T00:00:00",
          "2020-02-01T00:00:00",
          "2020-02-02T00:00:00",
          "2020-02-03T00:00:00",
          "2020-02-04T00:00:00",
          "2020-02-05T00:00:00",
          "2020-02-06T00:00:00",
          "2020-02-07T00:00:00",
          "2020-02-08T00:00:00",
          "2020-02-09T00:00:00",
          "2020-02-10T00:00:00",
          "2020-02-11T00:00:00",
          "2020-02-12T00:00:00",
          "2020-02-13T00:00:00",
          "2020-02-14T00:00:00",
          "2020-02-15T00:00:00",
          "2020-02-16T00:00:00",
          "2020-02-17T00:00:00",
          "2020-02-18T00:00:00",
          "2020-02-19T00:00:00",
          "2020-02-20T00:00:00",
          "2020-02-21T00:00:00",
          "2020-02-22T00:00:00",
          "2020-02-23T00:00:00",
          "2020-02-24T00:00:00",
          "2020-02-25T00:00:00",
          "2020-02-26T00:00:00",
          "2020-02-27T00:00:00",
          "2020-02-28T00:00:00",
          "2020-02-29T00:00:00",
          "2020-03-01T00:00:00",
          "2020-03-02T00:00:00",
          "2020-03-03T00:00:00",
          "2020-03-04T00:00:00",
          "2020-03-05T00:00:00",
          "2020-03-06T00:00:00",
          "2020-03-07T00:00:00",
          "2020-03-08T00:00:00",
          "2020-03-09T00:00:00",
          "2020-03-10T00:00:00",
          "2020-03-11T00:00:00",
          "2020-03-12T00:00:00",
          "2020-03-13T00:00:00",
          "2020-03-14T00:00:00",
          "2020-03-15T00:00:00",
          "2020-03-16T00:00:00",
          "2020-03-17T00:00:00",
          "2020-03-18T00:00:00",
          "2020-03-19T00:00:00",
          "2020-03-20T00:00:00",
          "2020-03-21T00:00:00",
          "2020-03-22T00:00:00",
          "2020-03-23T00:00:00",
          "2020-03-24T00:00:00",
          "2020-03-25T00:00:00",
          "2020-03-26T00:00:00",
          "2020-03-27T00:00:00",
          "2020-03-28T00:00:00",
          "2020-03-29T00:00:00",
          "2020-03-30T00:00:00",
          "2020-03-31T00:00:00"
         ],
         "xaxis": "x",
         "y": [
          337,
          277,
          200,
          161,
          160,
          117,
          134,
          101,
          143,
          1215,
          383,
          219,
          402,
          481,
          404,
          274,
          265,
          219,
          226,
          195,
          152,
          88,
          166,
          110,
          83,
          81,
          64,
          85,
          119,
          217,
          186,
          125,
          147,
          118,
          127,
          114,
          121,
          100,
          114,
          103,
          97,
          117,
          99,
          156,
          364,
          197,
          126,
          73,
          92,
          110,
          52,
          240,
          182,
          114,
          70,
          56,
          54,
          46,
          53,
          57,
          50,
          35,
          38,
          46,
          33,
          580,
          259,
          88,
          69,
          59,
          48,
          59,
          46,
          36,
          50,
          31,
          48,
          97,
          118,
          126,
          119,
          135,
          139,
          166,
          161,
          130,
          99,
          88,
          109,
          94,
          72
         ],
         "yaxis": "y"
        },
        {
         "hovertemplate": "utm_source=google_ads<br>date=%{x}<br>value=%{y}<extra></extra>",
         "legendgroup": "google_ads",
         "line": {
          "color": "#00cc96",
          "dash": "solid"
         },
         "marker": {
          "symbol": "circle"
         },
         "mode": "lines",
         "name": "google_ads",
         "orientation": "v",
         "showlegend": true,
         "type": "scatter",
         "x": [
          "2020-01-01T00:00:00",
          "2020-01-02T00:00:00",
          "2020-01-03T00:00:00",
          "2020-01-04T00:00:00",
          "2020-01-05T00:00:00",
          "2020-01-06T00:00:00",
          "2020-01-07T00:00:00",
          "2020-01-08T00:00:00",
          "2020-01-09T00:00:00",
          "2020-01-10T00:00:00",
          "2020-01-11T00:00:00",
          "2020-01-12T00:00:00",
          "2020-01-13T00:00:00",
          "2020-01-14T00:00:00",
          "2020-01-15T00:00:00",
          "2020-01-16T00:00:00",
          "2020-01-17T00:00:00",
          "2020-01-18T00:00:00",
          "2020-01-19T00:00:00",
          "2020-01-20T00:00:00",
          "2020-01-21T00:00:00",
          "2020-01-22T00:00:00",
          "2020-01-23T00:00:00",
          "2020-01-24T00:00:00",
          "2020-01-25T00:00:00",
          "2020-01-26T00:00:00",
          "2020-01-27T00:00:00",
          "2020-01-28T00:00:00",
          "2020-01-29T00:00:00",
          "2020-01-30T00:00:00",
          "2020-01-31T00:00:00",
          "2020-02-01T00:00:00",
          "2020-02-02T00:00:00",
          "2020-02-03T00:00:00",
          "2020-02-04T00:00:00",
          "2020-02-05T00:00:00",
          "2020-02-06T00:00:00",
          "2020-02-07T00:00:00",
          "2020-02-08T00:00:00",
          "2020-02-09T00:00:00",
          "2020-02-10T00:00:00",
          "2020-02-11T00:00:00",
          "2020-02-12T00:00:00",
          "2020-02-13T00:00:00",
          "2020-02-14T00:00:00",
          "2020-02-15T00:00:00",
          "2020-02-16T00:00:00",
          "2020-02-17T00:00:00",
          "2020-02-18T00:00:00",
          "2020-02-19T00:00:00",
          "2020-02-20T00:00:00",
          "2020-02-21T00:00:00",
          "2020-02-22T00:00:00",
          "2020-02-23T00:00:00",
          "2020-02-24T00:00:00",
          "2020-02-25T00:00:00",
          "2020-02-26T00:00:00",
          "2020-02-27T00:00:00",
          "2020-02-28T00:00:00",
          "2020-02-29T00:00:00",
          "2020-03-01T00:00:00",
          "2020-03-02T00:00:00",
          "2020-03-03T00:00:00",
          "2020-03-04T00:00:00",
          "2020-03-05T00:00:00",
          "2020-03-06T00:00:00",
          "2020-03-07T00:00:00",
          "2020-03-08T00:00:00",
          "2020-03-09T00:00:00",
          "2020-03-10T00:00:00",
          "2020-03-11T00:00:00",
          "2020-03-12T00:00:00",
          "2020-03-13T00:00:00",
          "2020-03-14T00:00:00",
          "2020-03-15T00:00:00",
          "2020-03-16T00:00:00",
          "2020-03-17T00:00:00",
          "2020-03-18T00:00:00",
          "2020-03-19T00:00:00",
          "2020-03-20T00:00:00",
          "2020-03-21T00:00:00",
          "2020-03-22T00:00:00",
          "2020-03-23T00:00:00",
          "2020-03-24T00:00:00",
          "2020-03-25T00:00:00",
          "2020-03-26T00:00:00",
          "2020-03-27T00:00:00",
          "2020-03-28T00:00:00",
          "2020-03-29T00:00:00",
          "2020-03-30T00:00:00",
          "2020-03-31T00:00:00"
         ],
         "xaxis": "x",
         "y": [
          617,
          525,
          427,
          330,
          304,
          242,
          204,
          184,
          233,
          2256,
          787,
          412,
          808,
          894,
          717,
          557,
          443,
          359,
          388,
          362,
          299,
          171,
          347,
          203,
          178,
          142,
          127,
          139,
          259,
          458,
          338,
          265,
          248,
          249,
          229,
          216,
          213,
          188,
          177,
          174,
          189,
          193,
          192,
          333,
          725,
          397,
          222,
          197,
          178,
          214,
          147,
          429,
          317,
          157,
          137,
          110,
          90,
          94,
          75,
          107,
          101,
          80,
          87,
          80,
          76,
          1051,
          470,
          198,
          126,
          113,
          85,
          121,
          99,
          81,
          84,
          67,
          79,
          194,
          222,
          228,
          193,
          221,
          331,
          316,
          334,
          230,
          177,
          163,
          197,
          148,
          162
         ],
         "yaxis": "y"
        },
        {
         "hovertemplate": "utm_source=instagram_ads<br>date=%{x}<br>value=%{y}<extra></extra>",
         "legendgroup": "instagram_ads",
         "line": {
          "color": "#ab63fa",
          "dash": "solid"
         },
         "marker": {
          "symbol": "circle"
         },
         "mode": "lines",
         "name": "instagram_ads",
         "orientation": "v",
         "showlegend": true,
         "type": "scatter",
         "x": [
          "2020-01-01T00:00:00",
          "2020-01-02T00:00:00",
          "2020-01-03T00:00:00",
          "2020-01-04T00:00:00",
          "2020-01-05T00:00:00",
          "2020-01-06T00:00:00",
          "2020-01-07T00:00:00",
          "2020-01-08T00:00:00",
          "2020-01-09T00:00:00",
          "2020-01-10T00:00:00",
          "2020-01-11T00:00:00",
          "2020-01-12T00:00:00",
          "2020-01-13T00:00:00",
          "2020-01-14T00:00:00",
          "2020-01-15T00:00:00",
          "2020-01-16T00:00:00",
          "2020-01-17T00:00:00",
          "2020-01-18T00:00:00",
          "2020-01-19T00:00:00",
          "2020-01-20T00:00:00",
          "2020-01-21T00:00:00",
          "2020-01-22T00:00:00",
          "2020-01-23T00:00:00",
          "2020-01-24T00:00:00",
          "2020-01-25T00:00:00",
          "2020-01-26T00:00:00",
          "2020-01-27T00:00:00",
          "2020-01-28T00:00:00",
          "2020-01-29T00:00:00",
          "2020-01-30T00:00:00",
          "2020-01-31T00:00:00",
          "2020-02-01T00:00:00",
          "2020-02-02T00:00:00",
          "2020-02-03T00:00:00",
          "2020-02-04T00:00:00",
          "2020-02-05T00:00:00",
          "2020-02-06T00:00:00",
          "2020-02-07T00:00:00",
          "2020-02-08T00:00:00",
          "2020-02-09T00:00:00",
          "2020-02-10T00:00:00",
          "2020-02-11T00:00:00",
          "2020-02-12T00:00:00",
          "2020-02-13T00:00:00",
          "2020-02-14T00:00:00",
          "2020-02-15T00:00:00",
          "2020-02-16T00:00:00",
          "2020-02-17T00:00:00",
          "2020-02-18T00:00:00",
          "2020-02-19T00:00:00",
          "2020-02-20T00:00:00",
          "2020-02-21T00:00:00",
          "2020-02-22T00:00:00",
          "2020-02-23T00:00:00",
          "2020-02-24T00:00:00",
          "2020-02-25T00:00:00",
          "2020-02-26T00:00:00",
          "2020-02-27T00:00:00",
          "2020-02-28T00:00:00",
          "2020-02-29T00:00:00",
          "2020-03-01T00:00:00",
          "2020-03-02T00:00:00",
          "2020-03-03T00:00:00",
          "2020-03-04T00:00:00",
          "2020-03-05T00:00:00",
          "2020-03-06T00:00:00",
          "2020-03-07T00:00:00",
          "2020-03-08T00:00:00",
          "2020-03-09T00:00:00",
          "2020-03-10T00:00:00",
          "2020-03-11T00:00:00",
          "2020-03-12T00:00:00",
          "2020-03-13T00:00:00",
          "2020-03-14T00:00:00",
          "2020-03-15T00:00:00",
          "2020-03-16T00:00:00",
          "2020-03-17T00:00:00",
          "2020-03-18T00:00:00",
          "2020-03-19T00:00:00",
          "2020-03-20T00:00:00",
          "2020-03-21T00:00:00",
          "2020-03-22T00:00:00",
          "2020-03-23T00:00:00",
          "2020-03-24T00:00:00",
          "2020-03-25T00:00:00",
          "2020-03-26T00:00:00",
          "2020-03-27T00:00:00",
          "2020-03-28T00:00:00",
          "2020-03-29T00:00:00",
          "2020-03-30T00:00:00",
          "2020-03-31T00:00:00"
         ],
         "xaxis": "x",
         "y": [
          422,
          408,
          303,
          245,
          197,
          198,
          173,
          172,
          177,
          1686,
          578,
          303,
          573,
          680,
          553,
          420,
          388,
          299,
          295,
          268,
          254,
          138,
          279,
          168,
          130,
          89,
          93,
          145,
          207,
          301,
          267,
          203,
          211,
          161,
          173,
          185,
          148,
          155,
          160,
          161,
          131,
          139,
          177,
          223,
          561,
          275,
          176,
          141,
          136,
          154,
          98,
          330,
          256,
          149,
          93,
          86,
          87,
          73,
          55,
          89,
          77,
          63,
          47,
          60,
          46,
          833,
          366,
          150,
          86,
          59,
          69,
          86,
          56,
          38,
          53,
          52,
          66,
          168,
          190,
          197,
          164,
          159,
          225,
          238,
          243,
          187,
          162,
          160,
          132,
          151,
          118
         ],
         "yaxis": "y"
        },
        {
         "hovertemplate": "utm_source=referal<br>date=%{x}<br>value=%{y}<extra></extra>",
         "legendgroup": "referal",
         "line": {
          "color": "#FFA15A",
          "dash": "solid"
         },
         "marker": {
          "symbol": "circle"
         },
         "mode": "lines",
         "name": "referal",
         "orientation": "v",
         "showlegend": true,
         "type": "scatter",
         "x": [
          "2020-01-01T00:00:00",
          "2020-01-02T00:00:00",
          "2020-01-03T00:00:00",
          "2020-01-04T00:00:00",
          "2020-01-05T00:00:00",
          "2020-01-06T00:00:00",
          "2020-01-07T00:00:00",
          "2020-01-08T00:00:00",
          "2020-01-09T00:00:00",
          "2020-01-10T00:00:00",
          "2020-01-11T00:00:00",
          "2020-01-12T00:00:00",
          "2020-01-13T00:00:00",
          "2020-01-14T00:00:00",
          "2020-01-15T00:00:00",
          "2020-01-16T00:00:00",
          "2020-01-17T00:00:00",
          "2020-01-18T00:00:00",
          "2020-01-19T00:00:00",
          "2020-01-20T00:00:00",
          "2020-01-21T00:00:00",
          "2020-01-22T00:00:00",
          "2020-01-23T00:00:00",
          "2020-01-24T00:00:00",
          "2020-01-25T00:00:00",
          "2020-01-26T00:00:00",
          "2020-01-27T00:00:00",
          "2020-01-28T00:00:00",
          "2020-01-29T00:00:00",
          "2020-01-30T00:00:00",
          "2020-01-31T00:00:00",
          "2020-02-01T00:00:00",
          "2020-02-02T00:00:00",
          "2020-02-03T00:00:00",
          "2020-02-04T00:00:00",
          "2020-02-05T00:00:00",
          "2020-02-06T00:00:00",
          "2020-02-07T00:00:00",
          "2020-02-08T00:00:00",
          "2020-02-09T00:00:00",
          "2020-02-10T00:00:00",
          "2020-02-11T00:00:00",
          "2020-02-12T00:00:00",
          "2020-02-13T00:00:00",
          "2020-02-14T00:00:00",
          "2020-02-15T00:00:00",
          "2020-02-16T00:00:00",
          "2020-02-17T00:00:00",
          "2020-02-18T00:00:00",
          "2020-02-19T00:00:00",
          "2020-02-20T00:00:00",
          "2020-02-21T00:00:00",
          "2020-02-22T00:00:00",
          "2020-02-23T00:00:00",
          "2020-02-24T00:00:00",
          "2020-02-25T00:00:00",
          "2020-02-26T00:00:00",
          "2020-02-27T00:00:00",
          "2020-02-28T00:00:00",
          "2020-02-29T00:00:00",
          "2020-03-01T00:00:00",
          "2020-03-02T00:00:00",
          "2020-03-03T00:00:00",
          "2020-03-04T00:00:00",
          "2020-03-05T00:00:00",
          "2020-03-06T00:00:00",
          "2020-03-07T00:00:00",
          "2020-03-08T00:00:00",
          "2020-03-09T00:00:00",
          "2020-03-10T00:00:00",
          "2020-03-11T00:00:00",
          "2020-03-12T00:00:00",
          "2020-03-13T00:00:00",
          "2020-03-14T00:00:00",
          "2020-03-15T00:00:00",
          "2020-03-16T00:00:00",
          "2020-03-17T00:00:00",
          "2020-03-18T00:00:00",
          "2020-03-19T00:00:00",
          "2020-03-20T00:00:00",
          "2020-03-21T00:00:00",
          "2020-03-22T00:00:00",
          "2020-03-23T00:00:00",
          "2020-03-24T00:00:00",
          "2020-03-25T00:00:00",
          "2020-03-26T00:00:00",
          "2020-03-27T00:00:00",
          "2020-03-28T00:00:00",
          "2020-03-29T00:00:00",
          "2020-03-30T00:00:00",
          "2020-03-31T00:00:00"
         ],
         "xaxis": "x",
         "y": [
          218,
          207,
          140,
          90,
          108,
          74,
          67,
          66,
          102,
          780,
          256,
          149,
          272,
          290,
          273,
          196,
          164,
          131,
          134,
          134,
          127,
          67,
          122,
          92,
          57,
          41,
          60,
          57,
          88,
          142,
          113,
          99,
          99,
          111,
          89,
          89,
          64,
          68,
          75,
          85,
          68,
          56,
          61,
          118,
          232,
          125,
          79,
          60,
          59,
          71,
          42,
          140,
          86,
          51,
          63,
          38,
          26,
          37,
          37,
          47,
          41,
          30,
          21,
          29,
          36,
          380,
          185,
          52,
          37,
          44,
          31,
          36,
          34,
          31,
          29,
          19,
          28,
          74,
          86,
          100,
          73,
          72,
          93,
          104,
          104,
          75,
          84,
          68,
          69,
          63,
          62
         ],
         "yaxis": "y"
        },
        {
         "hovertemplate": "utm_source=vk_ads<br>date=%{x}<br>value=%{y}<extra></extra>",
         "legendgroup": "vk_ads",
         "line": {
          "color": "#19d3f3",
          "dash": "solid"
         },
         "marker": {
          "symbol": "circle"
         },
         "mode": "lines",
         "name": "vk_ads",
         "orientation": "v",
         "showlegend": true,
         "type": "scatter",
         "x": [
          "2020-01-01T00:00:00",
          "2020-01-02T00:00:00",
          "2020-01-03T00:00:00",
          "2020-01-04T00:00:00",
          "2020-01-05T00:00:00",
          "2020-01-06T00:00:00",
          "2020-01-07T00:00:00",
          "2020-01-08T00:00:00",
          "2020-01-09T00:00:00",
          "2020-01-10T00:00:00",
          "2020-01-11T00:00:00",
          "2020-01-12T00:00:00",
          "2020-01-13T00:00:00",
          "2020-01-14T00:00:00",
          "2020-01-15T00:00:00",
          "2020-01-16T00:00:00",
          "2020-01-17T00:00:00",
          "2020-01-18T00:00:00",
          "2020-01-19T00:00:00",
          "2020-01-20T00:00:00",
          "2020-01-21T00:00:00",
          "2020-01-22T00:00:00",
          "2020-01-23T00:00:00",
          "2020-01-24T00:00:00",
          "2020-01-25T00:00:00",
          "2020-01-26T00:00:00",
          "2020-01-27T00:00:00",
          "2020-01-28T00:00:00",
          "2020-01-29T00:00:00",
          "2020-01-30T00:00:00",
          "2020-01-31T00:00:00",
          "2020-02-01T00:00:00",
          "2020-02-02T00:00:00",
          "2020-02-03T00:00:00",
          "2020-02-04T00:00:00",
          "2020-02-05T00:00:00",
          "2020-02-06T00:00:00",
          "2020-02-07T00:00:00",
          "2020-02-08T00:00:00",
          "2020-02-09T00:00:00",
          "2020-02-10T00:00:00",
          "2020-02-11T00:00:00",
          "2020-02-12T00:00:00",
          "2020-02-13T00:00:00",
          "2020-02-14T00:00:00",
          "2020-02-15T00:00:00",
          "2020-02-16T00:00:00",
          "2020-02-17T00:00:00",
          "2020-02-18T00:00:00",
          "2020-02-19T00:00:00",
          "2020-02-20T00:00:00",
          "2020-02-21T00:00:00",
          "2020-02-22T00:00:00",
          "2020-02-23T00:00:00",
          "2020-02-24T00:00:00",
          "2020-02-25T00:00:00",
          "2020-02-26T00:00:00",
          "2020-02-27T00:00:00",
          "2020-02-28T00:00:00",
          "2020-02-29T00:00:00",
          "2020-03-01T00:00:00",
          "2020-03-02T00:00:00",
          "2020-03-03T00:00:00",
          "2020-03-04T00:00:00",
          "2020-03-05T00:00:00",
          "2020-03-06T00:00:00",
          "2020-03-07T00:00:00",
          "2020-03-08T00:00:00",
          "2020-03-09T00:00:00",
          "2020-03-10T00:00:00",
          "2020-03-11T00:00:00",
          "2020-03-12T00:00:00",
          "2020-03-13T00:00:00",
          "2020-03-14T00:00:00",
          "2020-03-15T00:00:00",
          "2020-03-16T00:00:00",
          "2020-03-17T00:00:00",
          "2020-03-18T00:00:00",
          "2020-03-19T00:00:00",
          "2020-03-20T00:00:00",
          "2020-03-21T00:00:00",
          "2020-03-22T00:00:00",
          "2020-03-23T00:00:00",
          "2020-03-24T00:00:00",
          "2020-03-25T00:00:00",
          "2020-03-26T00:00:00",
          "2020-03-27T00:00:00",
          "2020-03-28T00:00:00",
          "2020-03-29T00:00:00",
          "2020-03-30T00:00:00",
          "2020-03-31T00:00:00"
         ],
         "xaxis": "x",
         "y": [
          555,
          463,
          360,
          275,
          249,
          261,
          209,
          191,
          206,
          1972,
          714,
          381,
          657,
          761,
          631,
          543,
          407,
          343,
          340,
          327,
          266,
          160,
          317,
          190,
          145,
          124,
          121,
          178,
          219,
          316,
          294,
          238,
          217,
          241,
          216,
          203,
          177,
          144,
          167,
          170,
          177,
          165,
          180,
          278,
          614,
          322,
          201,
          163,
          132,
          190,
          145,
          386,
          302,
          141,
          98,
          86,
          88,
          86,
          60,
          84,
          87,
          60,
          83,
          52,
          67,
          927,
          430,
          158,
          113,
          91,
          91,
          103,
          74,
          70,
          79,
          50,
          50,
          159,
          189,
          200,
          200,
          192,
          245,
          273,
          289,
          212,
          178,
          180,
          152,
          138,
          151
         ],
         "yaxis": "y"
        },
        {
         "hovertemplate": "utm_source=yandex-direct<br>date=%{x}<br>value=%{y}<extra></extra>",
         "legendgroup": "yandex-direct",
         "line": {
          "color": "#FF6692",
          "dash": "solid"
         },
         "marker": {
          "symbol": "circle"
         },
         "mode": "lines",
         "name": "yandex-direct",
         "orientation": "v",
         "showlegend": true,
         "type": "scatter",
         "x": [
          "2020-01-01T00:00:00",
          "2020-01-02T00:00:00",
          "2020-01-03T00:00:00",
          "2020-01-04T00:00:00",
          "2020-01-05T00:00:00",
          "2020-01-06T00:00:00",
          "2020-01-07T00:00:00",
          "2020-01-08T00:00:00",
          "2020-01-09T00:00:00",
          "2020-01-10T00:00:00",
          "2020-01-11T00:00:00",
          "2020-01-12T00:00:00",
          "2020-01-13T00:00:00",
          "2020-01-14T00:00:00",
          "2020-01-15T00:00:00",
          "2020-01-16T00:00:00",
          "2020-01-17T00:00:00",
          "2020-01-18T00:00:00",
          "2020-01-19T00:00:00",
          "2020-01-20T00:00:00",
          "2020-01-21T00:00:00",
          "2020-01-22T00:00:00",
          "2020-01-23T00:00:00",
          "2020-01-24T00:00:00",
          "2020-01-25T00:00:00",
          "2020-01-26T00:00:00",
          "2020-01-27T00:00:00",
          "2020-01-28T00:00:00",
          "2020-01-29T00:00:00",
          "2020-01-30T00:00:00",
          "2020-01-31T00:00:00",
          "2020-02-01T00:00:00",
          "2020-02-02T00:00:00",
          "2020-02-03T00:00:00",
          "2020-02-04T00:00:00",
          "2020-02-05T00:00:00",
          "2020-02-06T00:00:00",
          "2020-02-07T00:00:00",
          "2020-02-08T00:00:00",
          "2020-02-09T00:00:00",
          "2020-02-10T00:00:00",
          "2020-02-11T00:00:00",
          "2020-02-12T00:00:00",
          "2020-02-13T00:00:00",
          "2020-02-14T00:00:00",
          "2020-02-15T00:00:00",
          "2020-02-16T00:00:00",
          "2020-02-17T00:00:00",
          "2020-02-18T00:00:00",
          "2020-02-19T00:00:00",
          "2020-02-20T00:00:00",
          "2020-02-21T00:00:00",
          "2020-02-22T00:00:00",
          "2020-02-23T00:00:00",
          "2020-02-24T00:00:00",
          "2020-02-25T00:00:00",
          "2020-02-26T00:00:00",
          "2020-02-27T00:00:00",
          "2020-02-28T00:00:00",
          "2020-02-29T00:00:00",
          "2020-03-01T00:00:00",
          "2020-03-02T00:00:00",
          "2020-03-03T00:00:00",
          "2020-03-04T00:00:00",
          "2020-03-05T00:00:00",
          "2020-03-06T00:00:00",
          "2020-03-07T00:00:00",
          "2020-03-08T00:00:00",
          "2020-03-09T00:00:00",
          "2020-03-10T00:00:00",
          "2020-03-11T00:00:00",
          "2020-03-12T00:00:00",
          "2020-03-13T00:00:00",
          "2020-03-14T00:00:00",
          "2020-03-15T00:00:00",
          "2020-03-16T00:00:00",
          "2020-03-17T00:00:00",
          "2020-03-18T00:00:00",
          "2020-03-19T00:00:00",
          "2020-03-20T00:00:00",
          "2020-03-21T00:00:00",
          "2020-03-22T00:00:00",
          "2020-03-23T00:00:00",
          "2020-03-24T00:00:00",
          "2020-03-25T00:00:00",
          "2020-03-26T00:00:00",
          "2020-03-27T00:00:00",
          "2020-03-28T00:00:00",
          "2020-03-29T00:00:00",
          "2020-03-30T00:00:00",
          "2020-03-31T00:00:00"
         ],
         "xaxis": "x",
         "y": [
          669,
          590,
          458,
          343,
          318,
          259,
          247,
          212,
          263,
          2493,
          838,
          489,
          870,
          948,
          812,
          651,
          493,
          461,
          420,
          385,
          345,
          198,
          375,
          253,
          166,
          150,
          134,
          191,
          279,
          391,
          354,
          306,
          279,
          284,
          282,
          246,
          211,
          219,
          226,
          240,
          216,
          183,
          227,
          347,
          803,
          435,
          255,
          189,
          204,
          264,
          177,
          522,
          364,
          200,
          132,
          120,
          104,
          90,
          101,
          109,
          136,
          98,
          87,
          84,
          81,
          1220,
          581,
          217,
          133,
          121,
          115,
          164,
          83,
          86,
          88,
          65,
          81,
          229,
          275,
          276,
          235,
          228,
          298,
          371,
          331,
          282,
          227,
          200,
          219,
          185,
          182
         ],
         "yaxis": "y"
        }
       ],
       "layout": {
        "height": 500,
        "legend": {
         "title": {
          "text": "utm_source"
         },
         "tracegroupgap": 0
        },
        "template": {
         "data": {
          "bar": [
           {
            "error_x": {
             "color": "#2a3f5f"
            },
            "error_y": {
             "color": "#2a3f5f"
            },
            "marker": {
             "line": {
              "color": "#E5ECF6",
              "width": 0.5
             },
             "pattern": {
              "fillmode": "overlay",
              "size": 10,
              "solidity": 0.2
             }
            },
            "type": "bar"
           }
          ],
          "barpolar": [
           {
            "marker": {
             "line": {
              "color": "#E5ECF6",
              "width": 0.5
             },
             "pattern": {
              "fillmode": "overlay",
              "size": 10,
              "solidity": 0.2
             }
            },
            "type": "barpolar"
           }
          ],
          "carpet": [
           {
            "aaxis": {
             "endlinecolor": "#2a3f5f",
             "gridcolor": "white",
             "linecolor": "white",
             "minorgridcolor": "white",
             "startlinecolor": "#2a3f5f"
            },
            "baxis": {
             "endlinecolor": "#2a3f5f",
             "gridcolor": "white",
             "linecolor": "white",
             "minorgridcolor": "white",
             "startlinecolor": "#2a3f5f"
            },
            "type": "carpet"
           }
          ],
          "choropleth": [
           {
            "colorbar": {
             "outlinewidth": 0,
             "ticks": ""
            },
            "type": "choropleth"
           }
          ],
          "contour": [
           {
            "colorbar": {
             "outlinewidth": 0,
             "ticks": ""
            },
            "colorscale": [
             [
              0,
              "#0d0887"
             ],
             [
              0.1111111111111111,
              "#46039f"
             ],
             [
              0.2222222222222222,
              "#7201a8"
             ],
             [
              0.3333333333333333,
              "#9c179e"
             ],
             [
              0.4444444444444444,
              "#bd3786"
             ],
             [
              0.5555555555555556,
              "#d8576b"
             ],
             [
              0.6666666666666666,
              "#ed7953"
             ],
             [
              0.7777777777777778,
              "#fb9f3a"
             ],
             [
              0.8888888888888888,
              "#fdca26"
             ],
             [
              1,
              "#f0f921"
             ]
            ],
            "type": "contour"
           }
          ],
          "contourcarpet": [
           {
            "colorbar": {
             "outlinewidth": 0,
             "ticks": ""
            },
            "type": "contourcarpet"
           }
          ],
          "heatmap": [
           {
            "colorbar": {
             "outlinewidth": 0,
             "ticks": ""
            },
            "colorscale": [
             [
              0,
              "#0d0887"
             ],
             [
              0.1111111111111111,
              "#46039f"
             ],
             [
              0.2222222222222222,
              "#7201a8"
             ],
             [
              0.3333333333333333,
              "#9c179e"
             ],
             [
              0.4444444444444444,
              "#bd3786"
             ],
             [
              0.5555555555555556,
              "#d8576b"
             ],
             [
              0.6666666666666666,
              "#ed7953"
             ],
             [
              0.7777777777777778,
              "#fb9f3a"
             ],
             [
              0.8888888888888888,
              "#fdca26"
             ],
             [
              1,
              "#f0f921"
             ]
            ],
            "type": "heatmap"
           }
          ],
          "heatmapgl": [
           {
            "colorbar": {
             "outlinewidth": 0,
             "ticks": ""
            },
            "colorscale": [
             [
              0,
              "#0d0887"
             ],
             [
              0.1111111111111111,
              "#46039f"
             ],
             [
              0.2222222222222222,
              "#7201a8"
             ],
             [
              0.3333333333333333,
              "#9c179e"
             ],
             [
              0.4444444444444444,
              "#bd3786"
             ],
             [
              0.5555555555555556,
              "#d8576b"
             ],
             [
              0.6666666666666666,
              "#ed7953"
             ],
             [
              0.7777777777777778,
              "#fb9f3a"
             ],
             [
              0.8888888888888888,
              "#fdca26"
             ],
             [
              1,
              "#f0f921"
             ]
            ],
            "type": "heatmapgl"
           }
          ],
          "histogram": [
           {
            "marker": {
             "pattern": {
              "fillmode": "overlay",
              "size": 10,
              "solidity": 0.2
             }
            },
            "type": "histogram"
           }
          ],
          "histogram2d": [
           {
            "colorbar": {
             "outlinewidth": 0,
             "ticks": ""
            },
            "colorscale": [
             [
              0,
              "#0d0887"
             ],
             [
              0.1111111111111111,
              "#46039f"
             ],
             [
              0.2222222222222222,
              "#7201a8"
             ],
             [
              0.3333333333333333,
              "#9c179e"
             ],
             [
              0.4444444444444444,
              "#bd3786"
             ],
             [
              0.5555555555555556,
              "#d8576b"
             ],
             [
              0.6666666666666666,
              "#ed7953"
             ],
             [
              0.7777777777777778,
              "#fb9f3a"
             ],
             [
              0.8888888888888888,
              "#fdca26"
             ],
             [
              1,
              "#f0f921"
             ]
            ],
            "type": "histogram2d"
           }
          ],
          "histogram2dcontour": [
           {
            "colorbar": {
             "outlinewidth": 0,
             "ticks": ""
            },
            "colorscale": [
             [
              0,
              "#0d0887"
             ],
             [
              0.1111111111111111,
              "#46039f"
             ],
             [
              0.2222222222222222,
              "#7201a8"
             ],
             [
              0.3333333333333333,
              "#9c179e"
             ],
             [
              0.4444444444444444,
              "#bd3786"
             ],
             [
              0.5555555555555556,
              "#d8576b"
             ],
             [
              0.6666666666666666,
              "#ed7953"
             ],
             [
              0.7777777777777778,
              "#fb9f3a"
             ],
             [
              0.8888888888888888,
              "#fdca26"
             ],
             [
              1,
              "#f0f921"
             ]
            ],
            "type": "histogram2dcontour"
           }
          ],
          "mesh3d": [
           {
            "colorbar": {
             "outlinewidth": 0,
             "ticks": ""
            },
            "type": "mesh3d"
           }
          ],
          "parcoords": [
           {
            "line": {
             "colorbar": {
              "outlinewidth": 0,
              "ticks": ""
             }
            },
            "type": "parcoords"
           }
          ],
          "pie": [
           {
            "automargin": true,
            "type": "pie"
           }
          ],
          "scatter": [
           {
            "fillpattern": {
             "fillmode": "overlay",
             "size": 10,
             "solidity": 0.2
            },
            "type": "scatter"
           }
          ],
          "scatter3d": [
           {
            "line": {
             "colorbar": {
              "outlinewidth": 0,
              "ticks": ""
             }
            },
            "marker": {
             "colorbar": {
              "outlinewidth": 0,
              "ticks": ""
             }
            },
            "type": "scatter3d"
           }
          ],
          "scattercarpet": [
           {
            "marker": {
             "colorbar": {
              "outlinewidth": 0,
              "ticks": ""
             }
            },
            "type": "scattercarpet"
           }
          ],
          "scattergeo": [
           {
            "marker": {
             "colorbar": {
              "outlinewidth": 0,
              "ticks": ""
             }
            },
            "type": "scattergeo"
           }
          ],
          "scattergl": [
           {
            "marker": {
             "colorbar": {
              "outlinewidth": 0,
              "ticks": ""
             }
            },
            "type": "scattergl"
           }
          ],
          "scattermapbox": [
           {
            "marker": {
             "colorbar": {
              "outlinewidth": 0,
              "ticks": ""
             }
            },
            "type": "scattermapbox"
           }
          ],
          "scatterpolar": [
           {
            "marker": {
             "colorbar": {
              "outlinewidth": 0,
              "ticks": ""
             }
            },
            "type": "scatterpolar"
           }
          ],
          "scatterpolargl": [
           {
            "marker": {
             "colorbar": {
              "outlinewidth": 0,
              "ticks": ""
             }
            },
            "type": "scatterpolargl"
           }
          ],
          "scatterternary": [
           {
            "marker": {
             "colorbar": {
              "outlinewidth": 0,
              "ticks": ""
             }
            },
            "type": "scatterternary"
           }
          ],
          "surface": [
           {
            "colorbar": {
             "outlinewidth": 0,
             "ticks": ""
            },
            "colorscale": [
             [
              0,
              "#0d0887"
             ],
             [
              0.1111111111111111,
              "#46039f"
             ],
             [
              0.2222222222222222,
              "#7201a8"
             ],
             [
              0.3333333333333333,
              "#9c179e"
             ],
             [
              0.4444444444444444,
              "#bd3786"
             ],
             [
              0.5555555555555556,
              "#d8576b"
             ],
             [
              0.6666666666666666,
              "#ed7953"
             ],
             [
              0.7777777777777778,
              "#fb9f3a"
             ],
             [
              0.8888888888888888,
              "#fdca26"
             ],
             [
              1,
              "#f0f921"
             ]
            ],
            "type": "surface"
           }
          ],
          "table": [
           {
            "cells": {
             "fill": {
              "color": "#EBF0F8"
             },
             "line": {
              "color": "white"
             }
            },
            "header": {
             "fill": {
              "color": "#C8D4E3"
             },
             "line": {
              "color": "white"
             }
            },
            "type": "table"
           }
          ]
         },
         "layout": {
          "annotationdefaults": {
           "arrowcolor": "#2a3f5f",
           "arrowhead": 0,
           "arrowwidth": 1
          },
          "autotypenumbers": "strict",
          "coloraxis": {
           "colorbar": {
            "outlinewidth": 0,
            "ticks": ""
           }
          },
          "colorscale": {
           "diverging": [
            [
             0,
             "#8e0152"
            ],
            [
             0.1,
             "#c51b7d"
            ],
            [
             0.2,
             "#de77ae"
            ],
            [
             0.3,
             "#f1b6da"
            ],
            [
             0.4,
             "#fde0ef"
            ],
            [
             0.5,
             "#f7f7f7"
            ],
            [
             0.6,
             "#e6f5d0"
            ],
            [
             0.7,
             "#b8e186"
            ],
            [
             0.8,
             "#7fbc41"
            ],
            [
             0.9,
             "#4d9221"
            ],
            [
             1,
             "#276419"
            ]
           ],
           "sequential": [
            [
             0,
             "#0d0887"
            ],
            [
             0.1111111111111111,
             "#46039f"
            ],
            [
             0.2222222222222222,
             "#7201a8"
            ],
            [
             0.3333333333333333,
             "#9c179e"
            ],
            [
             0.4444444444444444,
             "#bd3786"
            ],
            [
             0.5555555555555556,
             "#d8576b"
            ],
            [
             0.6666666666666666,
             "#ed7953"
            ],
            [
             0.7777777777777778,
             "#fb9f3a"
            ],
            [
             0.8888888888888888,
             "#fdca26"
            ],
            [
             1,
             "#f0f921"
            ]
           ],
           "sequentialminus": [
            [
             0,
             "#0d0887"
            ],
            [
             0.1111111111111111,
             "#46039f"
            ],
            [
             0.2222222222222222,
             "#7201a8"
            ],
            [
             0.3333333333333333,
             "#9c179e"
            ],
            [
             0.4444444444444444,
             "#bd3786"
            ],
            [
             0.5555555555555556,
             "#d8576b"
            ],
            [
             0.6666666666666666,
             "#ed7953"
            ],
            [
             0.7777777777777778,
             "#fb9f3a"
            ],
            [
             0.8888888888888888,
             "#fdca26"
            ],
            [
             1,
             "#f0f921"
            ]
           ]
          },
          "colorway": [
           "#636efa",
           "#EF553B",
           "#00cc96",
           "#ab63fa",
           "#FFA15A",
           "#19d3f3",
           "#FF6692",
           "#B6E880",
           "#FF97FF",
           "#FECB52"
          ],
          "font": {
           "color": "#2a3f5f"
          },
          "geo": {
           "bgcolor": "white",
           "lakecolor": "white",
           "landcolor": "#E5ECF6",
           "showlakes": true,
           "showland": true,
           "subunitcolor": "white"
          },
          "hoverlabel": {
           "align": "left"
          },
          "hovermode": "closest",
          "mapbox": {
           "style": "light"
          },
          "paper_bgcolor": "white",
          "plot_bgcolor": "#E5ECF6",
          "polar": {
           "angularaxis": {
            "gridcolor": "white",
            "linecolor": "white",
            "ticks": ""
           },
           "bgcolor": "#E5ECF6",
           "radialaxis": {
            "gridcolor": "white",
            "linecolor": "white",
            "ticks": ""
           }
          },
          "scene": {
           "xaxis": {
            "backgroundcolor": "#E5ECF6",
            "gridcolor": "white",
            "gridwidth": 2,
            "linecolor": "white",
            "showbackground": true,
            "ticks": "",
            "zerolinecolor": "white"
           },
           "yaxis": {
            "backgroundcolor": "#E5ECF6",
            "gridcolor": "white",
            "gridwidth": 2,
            "linecolor": "white",
            "showbackground": true,
            "ticks": "",
            "zerolinecolor": "white"
           },
           "zaxis": {
            "backgroundcolor": "#E5ECF6",
            "gridcolor": "white",
            "gridwidth": 2,
            "linecolor": "white",
            "showbackground": true,
            "ticks": "",
            "zerolinecolor": "white"
           }
          },
          "shapedefaults": {
           "line": {
            "color": "#2a3f5f"
           }
          },
          "ternary": {
           "aaxis": {
            "gridcolor": "white",
            "linecolor": "white",
            "ticks": ""
           },
           "baxis": {
            "gridcolor": "white",
            "linecolor": "white",
            "ticks": ""
           },
           "bgcolor": "#E5ECF6",
           "caxis": {
            "gridcolor": "white",
            "linecolor": "white",
            "ticks": ""
           }
          },
          "title": {
           "x": 0.05
          },
          "xaxis": {
           "automargin": true,
           "gridcolor": "white",
           "linecolor": "white",
           "ticks": "",
           "title": {
            "standoff": 15
           },
           "zerolinecolor": "white",
           "zerolinewidth": 2
          },
          "yaxis": {
           "automargin": true,
           "gridcolor": "white",
           "linecolor": "white",
           "ticks": "",
           "title": {
            "standoff": 15
           },
           "zerolinecolor": "white",
           "zerolinewidth": 2
          }
         }
        },
        "title": {
         "text": "Динамика установок приложения по каналам привлечения"
        },
        "width": 1000,
        "xaxis": {
         "anchor": "y",
         "domain": [
          0,
          1
         ],
         "title": {
          "text": "date"
         }
        },
        "yaxis": {
         "anchor": "x",
         "domain": [
          0,
          1
         ],
         "title": {
          "text": "value"
         }
        }
       }
      }
     },
     "metadata": {},
     "output_type": "display_data"
    }
   ],
   "source": [
    "fig = px.line(\n",
    "    data_frame=channels_installs, #датафрейм\n",
    "    height=500, #высота\n",
    "    width=1000, #ширина\n",
    "    title='Динамика установок приложения по каналам привлечения' #заголовок\n",
    ")\n",
    "fig.show()"
   ]
  },
  {
   "cell_type": "markdown",
   "metadata": {},
   "source": [
    "Пики установок приложения и спады приходятся на одни и те же дни для разных групп,\\\n",
    "лидером по количеству установок приложения оказывается группа пользователей, пришедших через Яндекс.\\\n",
    "Это видно и в графике, и при построении целевого запроса по количеству установок:"
   ]
  },
  {
   "cell_type": "code",
   "execution_count": 75,
   "metadata": {},
   "outputs": [
    {
     "data": {
      "text/plain": [
       "utm_source\n",
       "-                32460\n",
       "yandex-direct    29368\n",
       "google_ads       26286\n",
       "vk_ads           23189\n",
       "instagram_ads    20096\n",
       "facebook_ads     13916\n",
       "referal           9282\n",
       "Name: event, dtype: int64"
      ]
     },
     "execution_count": 75,
     "metadata": {},
     "output_type": "execute_result"
    }
   ],
   "source": [
    "df[df.event=='app_install'].groupby('utm_source')['event'].count().sort_values(ascending=False)"
   ]
  },
  {
   "attachments": {},
   "cell_type": "markdown",
   "metadata": {},
   "source": [
    "Если мы посмотрим на колиство первых открытий приложения, лидером снова окажется Яндекс:"
   ]
  },
  {
   "cell_type": "code",
   "execution_count": 121,
   "metadata": {},
   "outputs": [
    {
     "data": {
      "text/plain": [
       "utm_source\n",
       "-                41456\n",
       "yandex-direct    34441\n",
       "google_ads       31437\n",
       "vk_ads           27905\n",
       "instagram_ads    24818\n",
       "facebook_ads     18844\n",
       "referal          11983\n",
       "Name: event, dtype: int64"
      ]
     },
     "execution_count": 121,
     "metadata": {},
     "output_type": "execute_result"
    }
   ],
   "source": [
    "first_app_start = (df[df.event=='app_start']\n",
    "                   .sort_values('date')\n",
    "                   .drop_duplicates('device_id'))\n",
    "first_app_start = (first_app_start\n",
    "                   .groupby('utm_source')['event']\n",
    "                   .count().sort_values(ascending=False))\n",
    "first_app_start"
   ]
  },
  {
   "cell_type": "markdown",
   "metadata": {},
   "source": []
  },
  {
   "cell_type": "markdown",
   "metadata": {},
   "source": [
    "## 4) Этапы воронки, на которых отваливается большая часть клиентов \n",
    "### (для зарегистрированных и для незарегистрированных пользователей)"
   ]
  },
  {
   "cell_type": "code",
   "execution_count": 122,
   "metadata": {},
   "outputs": [],
   "source": [
    "# Определим дату регистрации каждого пользователя и внесём данные в отдельный столбец\n",
    "registration_dates = (df[df.event=='register'][['device_id','date']]\n",
    "                      .reset_index().drop('index',axis=1))\n",
    "registration_dates = dict(zip(registration_dates.device_id,registration_dates.date))\n",
    "df['registration_date'] = df.device_id.apply(\n",
    "    lambda x: registration_dates[x] if x in registration_dates else None\n",
    "    )"
   ]
  },
  {
   "cell_type": "code",
   "execution_count": 78,
   "metadata": {},
   "outputs": [],
   "source": [
    "# Создадим отдельную колонку, отражающую наличие регистрации на момент события: 1 - зарегистрирован, 0 - не зарегистрирован\n",
    "df['registered'] = np.where(df.registration_date < df.date, 1, 0)"
   ]
  },
  {
   "cell_type": "code",
   "execution_count": 79,
   "metadata": {},
   "outputs": [],
   "source": [
    "# Создадим датафреймы для зарегистрированных и незарегистрированных пользователей:\n",
    "df_reg = df[df.registered == 1]\n",
    "df_not_reg = df[df.registered == 0]"
   ]
  },
  {
   "cell_type": "code",
   "execution_count": 80,
   "metadata": {},
   "outputs": [],
   "source": [
    "# Создадим таблицы для обеих групп, в которых оставим для каждого пользователя по одному событию для каждого шага воронки:\n",
    "df_reg = df_reg.drop_duplicates(subset=['device_id','event'])\n",
    "df_not_reg = df_not_reg.drop_duplicates(subset=['device_id','event'])\n"
   ]
  },
  {
   "cell_type": "code",
   "execution_count": 123,
   "metadata": {},
   "outputs": [
    {
     "data": {
      "text/html": [
       "<div>\n",
       "<style scoped>\n",
       "    .dataframe tbody tr th:only-of-type {\n",
       "        vertical-align: middle;\n",
       "    }\n",
       "\n",
       "    .dataframe tbody tr th {\n",
       "        vertical-align: top;\n",
       "    }\n",
       "\n",
       "    .dataframe thead th {\n",
       "        text-align: right;\n",
       "    }\n",
       "</style>\n",
       "<table border=\"1\" class=\"dataframe\">\n",
       "  <thead>\n",
       "    <tr style=\"text-align: right;\">\n",
       "      <th></th>\n",
       "      <th>app_start</th>\n",
       "      <th>choose_item</th>\n",
       "      <th>purchase</th>\n",
       "      <th>search</th>\n",
       "      <th>tap_basket</th>\n",
       "    </tr>\n",
       "  </thead>\n",
       "  <tbody>\n",
       "    <tr>\n",
       "      <th>users</th>\n",
       "      <td>40991</td>\n",
       "      <td>37926</td>\n",
       "      <td>24880</td>\n",
       "      <td>40482</td>\n",
       "      <td>34517</td>\n",
       "    </tr>\n",
       "  </tbody>\n",
       "</table>\n",
       "</div>"
      ],
      "text/plain": [
       "       app_start  choose_item  purchase  search  tap_basket\n",
       "users      40991        37926     24880   40482       34517"
      ]
     },
     "execution_count": 123,
     "metadata": {},
     "output_type": "execute_result"
    }
   ],
   "source": [
    "# Подсчитаем количество каждого события среди зарегистрированных пользователей\n",
    "events_cnt_reg = (df_reg.groupby('event')['device_id']\n",
    "                  .count().reset_index().rename(columns={'device_id':'users'}))\n",
    "events_cnt_reg = events_cnt_reg.transpose()\n",
    "events_cnt_reg.columns = ['app_start','choose_item','purchase','search','tap_basket']\n",
    "events_cnt_reg.drop(index='event', inplace=True)\n",
    "events_cnt_reg = events_cnt_reg.astype(int)\n",
    "events_cnt_reg"
   ]
  },
  {
   "cell_type": "markdown",
   "metadata": {},
   "source": [
    "Сформируем таблицу с данными по конверсии для каждого шага:"
   ]
  },
  {
   "cell_type": "code",
   "execution_count": 141,
   "metadata": {},
   "outputs": [],
   "source": [
    "funnel_reg = events_cnt_reg[['app_start','search',\n",
    "                             'choose_item','tap_basket','purchase']]"
   ]
  },
  {
   "cell_type": "code",
   "execution_count": 142,
   "metadata": {},
   "outputs": [],
   "source": [
    "funnel_reg = events_cnt_reg[['app_start','search','choose_item',\n",
    "                             'tap_basket','purchase']].copy()\n",
    "funnel_reg['step_1'] = round(funnel_reg.search/funnel_reg.app_start * 100, 2)\n",
    "funnel_reg['step_2'] = round(funnel_reg.choose_item/funnel_reg.search * 100, 2)\n",
    "funnel_reg['step_3'] = round(funnel_reg.tap_basket/funnel_reg.choose_item * 100, 2)\n",
    "funnel_reg['step_4'] = round(funnel_reg.purchase/funnel_reg.tap_basket * 100, 2)"
   ]
  },
  {
   "cell_type": "markdown",
   "metadata": {},
   "source": [
    "### **Зарегистрированные пользователи**:"
   ]
  },
  {
   "cell_type": "code",
   "execution_count": 84,
   "metadata": {},
   "outputs": [
    {
     "data": {
      "text/html": [
       "<div>\n",
       "<style scoped>\n",
       "    .dataframe tbody tr th:only-of-type {\n",
       "        vertical-align: middle;\n",
       "    }\n",
       "\n",
       "    .dataframe tbody tr th {\n",
       "        vertical-align: top;\n",
       "    }\n",
       "\n",
       "    .dataframe thead th {\n",
       "        text-align: right;\n",
       "    }\n",
       "</style>\n",
       "<table border=\"1\" class=\"dataframe\">\n",
       "  <thead>\n",
       "    <tr style=\"text-align: right;\">\n",
       "      <th></th>\n",
       "      <th>app_start</th>\n",
       "      <th>search</th>\n",
       "      <th>choose_item</th>\n",
       "      <th>tap_basket</th>\n",
       "      <th>purchase</th>\n",
       "      <th>step_1</th>\n",
       "      <th>step_2</th>\n",
       "      <th>step_3</th>\n",
       "      <th>step_4</th>\n",
       "    </tr>\n",
       "  </thead>\n",
       "  <tbody>\n",
       "    <tr>\n",
       "      <th>users</th>\n",
       "      <td>40991</td>\n",
       "      <td>40482</td>\n",
       "      <td>37926</td>\n",
       "      <td>34517</td>\n",
       "      <td>24880</td>\n",
       "      <td>98.76</td>\n",
       "      <td>93.69</td>\n",
       "      <td>91.01</td>\n",
       "      <td>72.08</td>\n",
       "    </tr>\n",
       "  </tbody>\n",
       "</table>\n",
       "</div>"
      ],
      "text/plain": [
       "       app_start  search  choose_item  tap_basket  purchase  step_1  step_2  \\\n",
       "users      40991   40482        37926       34517     24880   98.76   93.69   \n",
       "\n",
       "       step_3  step_4  \n",
       "users   91.01   72.08  "
      ]
     },
     "execution_count": 84,
     "metadata": {},
     "output_type": "execute_result"
    }
   ],
   "source": [
    "funnel_reg"
   ]
  },
  {
   "cell_type": "markdown",
   "metadata": {},
   "source": [
    "Мы видим, что конверсия на этапах поиска, выбора товара и корзины выше 90 %, \\\n",
    "однако **на этапе покупки** конверсия достаточно резко **падает до 72%**."
   ]
  },
  {
   "cell_type": "code",
   "execution_count": 143,
   "metadata": {},
   "outputs": [
    {
     "data": {
      "text/html": [
       "<div>\n",
       "<style scoped>\n",
       "    .dataframe tbody tr th:only-of-type {\n",
       "        vertical-align: middle;\n",
       "    }\n",
       "\n",
       "    .dataframe tbody tr th {\n",
       "        vertical-align: top;\n",
       "    }\n",
       "\n",
       "    .dataframe thead th {\n",
       "        text-align: right;\n",
       "    }\n",
       "</style>\n",
       "<table border=\"1\" class=\"dataframe\">\n",
       "  <thead>\n",
       "    <tr style=\"text-align: right;\">\n",
       "      <th></th>\n",
       "      <th>app_install</th>\n",
       "      <th>app_start</th>\n",
       "      <th>choose_item</th>\n",
       "      <th>purchase</th>\n",
       "      <th>register</th>\n",
       "      <th>search</th>\n",
       "      <th>tap_basket</th>\n",
       "    </tr>\n",
       "  </thead>\n",
       "  <tbody>\n",
       "    <tr>\n",
       "      <th>users</th>\n",
       "      <td>154597</td>\n",
       "      <td>190884</td>\n",
       "      <td>155691</td>\n",
       "      <td>67753</td>\n",
       "      <td>78310</td>\n",
       "      <td>184488</td>\n",
       "      <td>125414</td>\n",
       "    </tr>\n",
       "  </tbody>\n",
       "</table>\n",
       "</div>"
      ],
      "text/plain": [
       "       app_install  app_start  choose_item  purchase  register  search  \\\n",
       "users       154597     190884       155691     67753     78310  184488   \n",
       "\n",
       "       tap_basket  \n",
       "users      125414  "
      ]
     },
     "execution_count": 143,
     "metadata": {},
     "output_type": "execute_result"
    }
   ],
   "source": [
    "# Посчитаем количество событий в группе незарегистрированных пользователей:\n",
    "\n",
    "events_cnt_not_reg = (df_not_reg.groupby('event')['device_id']\n",
    "                      .count().reset_index().rename(columns={'device_id':'users'}))\n",
    "events_cnt_not_reg = events_cnt_not_reg.transpose()\n",
    "events_cnt_not_reg.columns = ['app_install','app_start','choose_item',\n",
    "                              'purchase','register','search','tap_basket']\n",
    "events_cnt_not_reg.drop(index='event', inplace=True)\n",
    "events_cnt_not_reg = events_cnt_not_reg.astype(int)\n",
    "events_cnt_not_reg"
   ]
  },
  {
   "cell_type": "markdown",
   "metadata": {},
   "source": [
    "Сформируем таблицу с данными по конверсии для каждого шага:"
   ]
  },
  {
   "cell_type": "code",
   "execution_count": 144,
   "metadata": {},
   "outputs": [],
   "source": [
    "funnel_not_reg = events_cnt_not_reg[['app_start','search','choose_item',\n",
    "                                     'tap_basket','register','purchase']]\n",
    "funnel_not_reg['step_1'] = round(\n",
    "    funnel_not_reg.search/funnel_not_reg.app_start * 100, 2\n",
    "    )\n",
    "funnel_not_reg['step_2'] = round(\n",
    "    funnel_not_reg.choose_item/funnel_not_reg.search * 100, 2\n",
    "    )\n",
    "funnel_not_reg['step_3'] = round(\n",
    "    funnel_not_reg.tap_basket/funnel_not_reg.choose_item * 100, 2\n",
    "    )\n",
    "funnel_not_reg['step_4'] = round(\n",
    "    funnel_not_reg.register/funnel_not_reg.tap_basket * 100, 2\n",
    "    )\n",
    "funnel_not_reg['step_5'] = round(\n",
    "    funnel_not_reg.purchase/funnel_not_reg.register * 100, 2\n",
    "    )"
   ]
  },
  {
   "cell_type": "markdown",
   "metadata": {},
   "source": [
    "### **Незарегистрированные пользователи**:"
   ]
  },
  {
   "cell_type": "code",
   "execution_count": 87,
   "metadata": {},
   "outputs": [
    {
     "data": {
      "text/html": [
       "<div>\n",
       "<style scoped>\n",
       "    .dataframe tbody tr th:only-of-type {\n",
       "        vertical-align: middle;\n",
       "    }\n",
       "\n",
       "    .dataframe tbody tr th {\n",
       "        vertical-align: top;\n",
       "    }\n",
       "\n",
       "    .dataframe thead th {\n",
       "        text-align: right;\n",
       "    }\n",
       "</style>\n",
       "<table border=\"1\" class=\"dataframe\">\n",
       "  <thead>\n",
       "    <tr style=\"text-align: right;\">\n",
       "      <th></th>\n",
       "      <th>app_start</th>\n",
       "      <th>search</th>\n",
       "      <th>choose_item</th>\n",
       "      <th>tap_basket</th>\n",
       "      <th>register</th>\n",
       "      <th>purchase</th>\n",
       "      <th>step_1</th>\n",
       "      <th>step_2</th>\n",
       "      <th>step_3</th>\n",
       "      <th>step_4</th>\n",
       "      <th>step_5</th>\n",
       "    </tr>\n",
       "  </thead>\n",
       "  <tbody>\n",
       "    <tr>\n",
       "      <th>users</th>\n",
       "      <td>190884</td>\n",
       "      <td>184488</td>\n",
       "      <td>155691</td>\n",
       "      <td>125414</td>\n",
       "      <td>78310</td>\n",
       "      <td>67753</td>\n",
       "      <td>96.65</td>\n",
       "      <td>84.39</td>\n",
       "      <td>80.55</td>\n",
       "      <td>62.44</td>\n",
       "      <td>86.52</td>\n",
       "    </tr>\n",
       "  </tbody>\n",
       "</table>\n",
       "</div>"
      ],
      "text/plain": [
       "       app_start  search  choose_item  tap_basket  register  purchase  step_1  \\\n",
       "users     190884  184488       155691      125414     78310     67753   96.65   \n",
       "\n",
       "       step_2  step_3  step_4  step_5  \n",
       "users   84.39   80.55   62.44   86.52  "
      ]
     },
     "execution_count": 87,
     "metadata": {},
     "output_type": "execute_result"
    }
   ],
   "source": [
    "funnel_not_reg"
   ]
  },
  {
   "cell_type": "markdown",
   "metadata": {},
   "source": [
    "Для незарегистрированных пользователей самым проблематичным оказался **этап регистрации** (конверсия падает до 62 %).\\\n",
    "Следует подумать, как упростить этот шаг, т.к. регистрация является обязательным этапом для совершения покупки."
   ]
  },
  {
   "cell_type": "markdown",
   "metadata": {},
   "source": [
    "## 5) Выбор лучшего и худшего канала по конверсии в первую покупку"
   ]
  },
  {
   "cell_type": "code",
   "execution_count": 128,
   "metadata": {},
   "outputs": [
    {
     "data": {
      "text/html": [
       "<div>\n",
       "<style scoped>\n",
       "    .dataframe tbody tr th:only-of-type {\n",
       "        vertical-align: middle;\n",
       "    }\n",
       "\n",
       "    .dataframe tbody tr th {\n",
       "        vertical-align: top;\n",
       "    }\n",
       "\n",
       "    .dataframe thead th {\n",
       "        text-align: right;\n",
       "    }\n",
       "</style>\n",
       "<table border=\"1\" class=\"dataframe\">\n",
       "  <thead>\n",
       "    <tr style=\"text-align: right;\">\n",
       "      <th></th>\n",
       "      <th>device_id</th>\n",
       "      <th>date</th>\n",
       "      <th>week</th>\n",
       "      <th>event</th>\n",
       "      <th>purchase_sum</th>\n",
       "      <th>os_name</th>\n",
       "      <th>gender</th>\n",
       "      <th>city</th>\n",
       "      <th>utm_source</th>\n",
       "      <th>install_date</th>\n",
       "      <th>install_group</th>\n",
       "      <th>registration_date</th>\n",
       "      <th>registered</th>\n",
       "      <th>first_visit_week</th>\n",
       "      <th>reg_week</th>\n",
       "      <th>first_purch_week</th>\n",
       "    </tr>\n",
       "  </thead>\n",
       "  <tbody>\n",
       "    <tr>\n",
       "      <th>0</th>\n",
       "      <td>4013</td>\n",
       "      <td>2020-01-15</td>\n",
       "      <td>2020-01-13</td>\n",
       "      <td>app_start</td>\n",
       "      <td>NaN</td>\n",
       "      <td>android</td>\n",
       "      <td>female</td>\n",
       "      <td>Saint-Petersburg</td>\n",
       "      <td>vk_ads</td>\n",
       "      <td>2020-01-15</td>\n",
       "      <td>same_day_install</td>\n",
       "      <td>NaT</td>\n",
       "      <td>0</td>\n",
       "      <td>2020-01-13</td>\n",
       "      <td>NaT</td>\n",
       "      <td>NaT</td>\n",
       "    </tr>\n",
       "    <tr>\n",
       "      <th>1</th>\n",
       "      <td>4014</td>\n",
       "      <td>2020-01-02</td>\n",
       "      <td>2019-12-30</td>\n",
       "      <td>app_start</td>\n",
       "      <td>NaN</td>\n",
       "      <td>android</td>\n",
       "      <td>male</td>\n",
       "      <td>Saint-Petersburg</td>\n",
       "      <td>referal</td>\n",
       "      <td>NaT</td>\n",
       "      <td>other</td>\n",
       "      <td>2020-02-01</td>\n",
       "      <td>0</td>\n",
       "      <td>2019-12-30</td>\n",
       "      <td>2020-01-27</td>\n",
       "      <td>2020-01-27</td>\n",
       "    </tr>\n",
       "    <tr>\n",
       "      <th>2</th>\n",
       "      <td>4014</td>\n",
       "      <td>2020-02-01</td>\n",
       "      <td>2020-01-27</td>\n",
       "      <td>purchase</td>\n",
       "      <td>86.0</td>\n",
       "      <td>android</td>\n",
       "      <td>male</td>\n",
       "      <td>Saint-Petersburg</td>\n",
       "      <td>referal</td>\n",
       "      <td>NaT</td>\n",
       "      <td>other</td>\n",
       "      <td>2020-02-01</td>\n",
       "      <td>0</td>\n",
       "      <td>2019-12-30</td>\n",
       "      <td>2020-01-27</td>\n",
       "      <td>2020-01-27</td>\n",
       "    </tr>\n",
       "    <tr>\n",
       "      <th>3</th>\n",
       "      <td>4016</td>\n",
       "      <td>2020-01-04</td>\n",
       "      <td>2019-12-30</td>\n",
       "      <td>app_start</td>\n",
       "      <td>NaN</td>\n",
       "      <td>android</td>\n",
       "      <td>female</td>\n",
       "      <td>Saint-Petersburg</td>\n",
       "      <td>yandex-direct</td>\n",
       "      <td>2020-01-04</td>\n",
       "      <td>same_day_install</td>\n",
       "      <td>NaT</td>\n",
       "      <td>0</td>\n",
       "      <td>2019-12-30</td>\n",
       "      <td>NaT</td>\n",
       "      <td>NaT</td>\n",
       "    </tr>\n",
       "    <tr>\n",
       "      <th>4</th>\n",
       "      <td>4018</td>\n",
       "      <td>2020-03-27</td>\n",
       "      <td>2020-03-23</td>\n",
       "      <td>app_start</td>\n",
       "      <td>NaN</td>\n",
       "      <td>android</td>\n",
       "      <td>male</td>\n",
       "      <td>Saint-Petersburg</td>\n",
       "      <td>-</td>\n",
       "      <td>NaT</td>\n",
       "      <td>other</td>\n",
       "      <td>NaT</td>\n",
       "      <td>0</td>\n",
       "      <td>2020-03-23</td>\n",
       "      <td>NaT</td>\n",
       "      <td>NaT</td>\n",
       "    </tr>\n",
       "  </tbody>\n",
       "</table>\n",
       "</div>"
      ],
      "text/plain": [
       "   device_id       date        week      event  purchase_sum  os_name  gender  \\\n",
       "0       4013 2020-01-15  2020-01-13  app_start           NaN  android  female   \n",
       "1       4014 2020-01-02  2019-12-30  app_start           NaN  android    male   \n",
       "2       4014 2020-02-01  2020-01-27   purchase          86.0  android    male   \n",
       "3       4016 2020-01-04  2019-12-30  app_start           NaN  android  female   \n",
       "4       4018 2020-03-27  2020-03-23  app_start           NaN  android    male   \n",
       "\n",
       "               city     utm_source install_date     install_group  \\\n",
       "0  Saint-Petersburg         vk_ads   2020-01-15  same_day_install   \n",
       "1  Saint-Petersburg        referal          NaT             other   \n",
       "2  Saint-Petersburg        referal          NaT             other   \n",
       "3  Saint-Petersburg  yandex-direct   2020-01-04  same_day_install   \n",
       "4  Saint-Petersburg              -          NaT             other   \n",
       "\n",
       "  registration_date  registered first_visit_week    reg_week first_purch_week  \n",
       "0               NaT           0       2020-01-13         NaT              NaT  \n",
       "1        2020-02-01           0       2019-12-30  2020-01-27       2020-01-27  \n",
       "2        2020-02-01           0       2019-12-30  2020-01-27       2020-01-27  \n",
       "3               NaT           0       2019-12-30         NaT              NaT  \n",
       "4               NaT           0       2020-03-23         NaT              NaT  "
      ]
     },
     "execution_count": 128,
     "metadata": {},
     "output_type": "execute_result"
    }
   ],
   "source": [
    "# Создадим таблицу, содержащую информацию о первом открытии приложения и первой покупке пользователей\n",
    "conv_data = (df[(df.event == 'purchase') | (df.event == 'app_start')]\n",
    "             .drop_duplicates(subset=['device_id', 'event'])\n",
    "             .reset_index(drop=True))\n",
    "conv_data.head()"
   ]
  },
  {
   "cell_type": "code",
   "execution_count": 89,
   "metadata": {},
   "outputs": [
    {
     "data": {
      "text/html": [
       "<div>\n",
       "<style scoped>\n",
       "    .dataframe tbody tr th:only-of-type {\n",
       "        vertical-align: middle;\n",
       "    }\n",
       "\n",
       "    .dataframe tbody tr th {\n",
       "        vertical-align: top;\n",
       "    }\n",
       "\n",
       "    .dataframe thead th {\n",
       "        text-align: right;\n",
       "    }\n",
       "</style>\n",
       "<table border=\"1\" class=\"dataframe\">\n",
       "  <thead>\n",
       "    <tr style=\"text-align: right;\">\n",
       "      <th>event</th>\n",
       "      <th>app_start</th>\n",
       "      <th>purchase</th>\n",
       "    </tr>\n",
       "    <tr>\n",
       "      <th>utm_source</th>\n",
       "      <th></th>\n",
       "      <th></th>\n",
       "    </tr>\n",
       "  </thead>\n",
       "  <tbody>\n",
       "    <tr>\n",
       "      <th>-</th>\n",
       "      <td>41456</td>\n",
       "      <td>14786</td>\n",
       "    </tr>\n",
       "    <tr>\n",
       "      <th>facebook_ads</th>\n",
       "      <td>18844</td>\n",
       "      <td>7903</td>\n",
       "    </tr>\n",
       "    <tr>\n",
       "      <th>google_ads</th>\n",
       "      <td>31437</td>\n",
       "      <td>10167</td>\n",
       "    </tr>\n",
       "    <tr>\n",
       "      <th>instagram_ads</th>\n",
       "      <td>24818</td>\n",
       "      <td>9820</td>\n",
       "    </tr>\n",
       "    <tr>\n",
       "      <th>referal</th>\n",
       "      <td>11983</td>\n",
       "      <td>5803</td>\n",
       "    </tr>\n",
       "    <tr>\n",
       "      <th>vk_ads</th>\n",
       "      <td>27905</td>\n",
       "      <td>11460</td>\n",
       "    </tr>\n",
       "    <tr>\n",
       "      <th>yandex-direct</th>\n",
       "      <td>34441</td>\n",
       "      <td>10936</td>\n",
       "    </tr>\n",
       "  </tbody>\n",
       "</table>\n",
       "</div>"
      ],
      "text/plain": [
       "event          app_start  purchase\n",
       "utm_source                        \n",
       "-                  41456     14786\n",
       "facebook_ads       18844      7903\n",
       "google_ads         31437     10167\n",
       "instagram_ads      24818      9820\n",
       "referal            11983      5803\n",
       "vk_ads             27905     11460\n",
       "yandex-direct      34441     10936"
      ]
     },
     "execution_count": 89,
     "metadata": {},
     "output_type": "execute_result"
    }
   ],
   "source": [
    "# Сформируем таблицу с данными по количеству открытий приложений и покупок по каждому каналу привлечения:\n",
    "conv_table = conv_data.pivot_table(\n",
    "    index='utm_source',\n",
    "    columns='event',\n",
    "    values='device_id',\n",
    "    aggfunc='count'\n",
    ")\n",
    "conv_table"
   ]
  },
  {
   "cell_type": "code",
   "execution_count": 90,
   "metadata": {},
   "outputs": [
    {
     "data": {
      "text/html": [
       "<div>\n",
       "<style scoped>\n",
       "    .dataframe tbody tr th:only-of-type {\n",
       "        vertical-align: middle;\n",
       "    }\n",
       "\n",
       "    .dataframe tbody tr th {\n",
       "        vertical-align: top;\n",
       "    }\n",
       "\n",
       "    .dataframe thead th {\n",
       "        text-align: right;\n",
       "    }\n",
       "</style>\n",
       "<table border=\"1\" class=\"dataframe\">\n",
       "  <thead>\n",
       "    <tr style=\"text-align: right;\">\n",
       "      <th>event</th>\n",
       "      <th>app_start</th>\n",
       "      <th>purchase</th>\n",
       "      <th>CR</th>\n",
       "    </tr>\n",
       "    <tr>\n",
       "      <th>utm_source</th>\n",
       "      <th></th>\n",
       "      <th></th>\n",
       "      <th></th>\n",
       "    </tr>\n",
       "  </thead>\n",
       "  <tbody>\n",
       "    <tr>\n",
       "      <th>referal</th>\n",
       "      <td>11983</td>\n",
       "      <td>5803</td>\n",
       "      <td>48.0</td>\n",
       "    </tr>\n",
       "    <tr>\n",
       "      <th>facebook_ads</th>\n",
       "      <td>18844</td>\n",
       "      <td>7903</td>\n",
       "      <td>42.0</td>\n",
       "    </tr>\n",
       "    <tr>\n",
       "      <th>vk_ads</th>\n",
       "      <td>27905</td>\n",
       "      <td>11460</td>\n",
       "      <td>41.0</td>\n",
       "    </tr>\n",
       "    <tr>\n",
       "      <th>instagram_ads</th>\n",
       "      <td>24818</td>\n",
       "      <td>9820</td>\n",
       "      <td>40.0</td>\n",
       "    </tr>\n",
       "    <tr>\n",
       "      <th>-</th>\n",
       "      <td>41456</td>\n",
       "      <td>14786</td>\n",
       "      <td>36.0</td>\n",
       "    </tr>\n",
       "    <tr>\n",
       "      <th>google_ads</th>\n",
       "      <td>31437</td>\n",
       "      <td>10167</td>\n",
       "      <td>32.0</td>\n",
       "    </tr>\n",
       "    <tr>\n",
       "      <th>yandex-direct</th>\n",
       "      <td>34441</td>\n",
       "      <td>10936</td>\n",
       "      <td>32.0</td>\n",
       "    </tr>\n",
       "  </tbody>\n",
       "</table>\n",
       "</div>"
      ],
      "text/plain": [
       "event          app_start  purchase    CR\n",
       "utm_source                              \n",
       "referal            11983      5803  48.0\n",
       "facebook_ads       18844      7903  42.0\n",
       "vk_ads             27905     11460  41.0\n",
       "instagram_ads      24818      9820  40.0\n",
       "-                  41456     14786  36.0\n",
       "google_ads         31437     10167  32.0\n",
       "yandex-direct      34441     10936  32.0"
      ]
     },
     "execution_count": 90,
     "metadata": {},
     "output_type": "execute_result"
    }
   ],
   "source": [
    "# Рассчитаем конверсию в первую покупку по каждому каналу в процентах:\n",
    "conv_table['CR'] = round(conv_table['purchase']/conv_table['app_start'] * 100)\n",
    "conv_table = conv_table.sort_values(by='CR', ascending=False)\n",
    "conv_table"
   ]
  },
  {
   "cell_type": "markdown",
   "metadata": {},
   "source": [
    "### Лучшие показатели конверсии в первую покупку у пользователей, пришедших через реферальную программу,\n",
    "### самые низкие - у пришедших через Яндекс."
   ]
  },
  {
   "cell_type": "markdown",
   "metadata": {},
   "source": [
    "Рассчитаем медианный первый чек по каналам привлечения:"
   ]
  },
  {
   "cell_type": "code",
   "execution_count": 129,
   "metadata": {},
   "outputs": [
    {
     "data": {
      "text/plain": [
       "utm_source\n",
       "-                398.5\n",
       "referal          395.5\n",
       "instagram_ads    393.5\n",
       "vk_ads           393.0\n",
       "yandex-direct    392.5\n",
       "google_ads       390.5\n",
       "facebook_ads     389.0\n",
       "Name: purchase_sum, dtype: float64"
      ]
     },
     "execution_count": 129,
     "metadata": {},
     "output_type": "execute_result"
    }
   ],
   "source": [
    "median_first_bill = (conv_data[conv_data.event == 'purchase']\n",
    "                     .groupby('utm_source')['purchase_sum']\n",
    "                     .median().sort_values(ascending=False))\n",
    "median_first_bill"
   ]
  },
  {
   "cell_type": "markdown",
   "metadata": {},
   "source": [
    "Выше остальных медианный первый чек пользователей, пришедших благодаря **реферальной программе**,\\\n",
    "однако заметим, что в целом его величина по разным каналам колеблется незначительно, в пределах 10 рублей (389 - 399 руб)."
   ]
  },
  {
   "cell_type": "markdown",
   "metadata": {},
   "source": [
    "## 6) Рассчитаем ROMI для всех каналов привлечения пользователей"
   ]
  },
  {
   "cell_type": "markdown",
   "metadata": {},
   "source": [
    "Данные по затратам на рекламу в Q1:\n",
    "\n",
    "Яндекс\t10 491 707 руб.\\\n",
    "Гугл\t10 534 878 руб.\\\n",
    "Фейсбук\t8 590 498 руб.\\\n",
    "Инстаграм\t8 561626 руб.\\\n",
    "ВК\t9 553 531 руб."
   ]
  },
  {
   "cell_type": "markdown",
   "metadata": {},
   "source": [
    "Расходы на реферальную программу: если пользователь приведет друга и последний совершит первую покупку, то оба получат по 100 рублей."
   ]
  },
  {
   "cell_type": "markdown",
   "metadata": {},
   "source": [
    "Рассчитаем расходы на реферальную программу.\\\n",
    "Для этого определим количество покупок по реферальной программе и умножим получившееся число на 200."
   ]
  },
  {
   "cell_type": "code",
   "execution_count": 130,
   "metadata": {},
   "outputs": [
    {
     "data": {
      "text/plain": [
       "2567800"
      ]
     },
     "execution_count": 130,
     "metadata": {},
     "output_type": "execute_result"
    }
   ],
   "source": [
    "referal_costs = df[\n",
    "    (df.utm_source == 'referal') & (df.event == 'purchase')\n",
    "    ]['event'].count() * 200\n",
    "referal_costs"
   ]
  },
  {
   "cell_type": "markdown",
   "metadata": {},
   "source": [
    "Теперь рассчитаем доходы по каждому каналу привлечения пользователей."
   ]
  },
  {
   "cell_type": "code",
   "execution_count": 93,
   "metadata": {},
   "outputs": [
    {
     "data": {
      "text/html": [
       "<div>\n",
       "<style scoped>\n",
       "    .dataframe tbody tr th:only-of-type {\n",
       "        vertical-align: middle;\n",
       "    }\n",
       "\n",
       "    .dataframe tbody tr th {\n",
       "        vertical-align: top;\n",
       "    }\n",
       "\n",
       "    .dataframe thead th {\n",
       "        text-align: right;\n",
       "    }\n",
       "</style>\n",
       "<table border=\"1\" class=\"dataframe\">\n",
       "  <thead>\n",
       "    <tr style=\"text-align: right;\">\n",
       "      <th></th>\n",
       "      <th>utm_source</th>\n",
       "      <th>revenue</th>\n",
       "    </tr>\n",
       "  </thead>\n",
       "  <tbody>\n",
       "    <tr>\n",
       "      <th>1</th>\n",
       "      <td>facebook_ads</td>\n",
       "      <td>12249901.0</td>\n",
       "    </tr>\n",
       "    <tr>\n",
       "      <th>2</th>\n",
       "      <td>google_ads</td>\n",
       "      <td>12868276.0</td>\n",
       "    </tr>\n",
       "    <tr>\n",
       "      <th>3</th>\n",
       "      <td>instagram_ads</td>\n",
       "      <td>14546969.0</td>\n",
       "    </tr>\n",
       "    <tr>\n",
       "      <th>4</th>\n",
       "      <td>referal</td>\n",
       "      <td>8837044.5</td>\n",
       "    </tr>\n",
       "    <tr>\n",
       "      <th>5</th>\n",
       "      <td>vk_ads</td>\n",
       "      <td>16389652.5</td>\n",
       "    </tr>\n",
       "    <tr>\n",
       "      <th>6</th>\n",
       "      <td>yandex-direct</td>\n",
       "      <td>13915368.0</td>\n",
       "    </tr>\n",
       "  </tbody>\n",
       "</table>\n",
       "</div>"
      ],
      "text/plain": [
       "      utm_source     revenue\n",
       "1   facebook_ads  12249901.0\n",
       "2     google_ads  12868276.0\n",
       "3  instagram_ads  14546969.0\n",
       "4        referal   8837044.5\n",
       "5         vk_ads  16389652.5\n",
       "6  yandex-direct  13915368.0"
      ]
     },
     "execution_count": 93,
     "metadata": {},
     "output_type": "execute_result"
    }
   ],
   "source": [
    "channels_data = (df[df.event=='purchase']\n",
    "                 .groupby('utm_source')['purchase_sum'].sum().reset_index())\n",
    "channels_data.rename(columns={'purchase_sum':'revenue'}, inplace=True)\n",
    "channels_data = channels_data.drop(index=0)\n",
    "channels_data"
   ]
  },
  {
   "cell_type": "markdown",
   "metadata": {},
   "source": [
    "Добавим в таблицу данные по расходам"
   ]
  },
  {
   "cell_type": "code",
   "execution_count": 94,
   "metadata": {},
   "outputs": [
    {
     "data": {
      "text/html": [
       "<div>\n",
       "<style scoped>\n",
       "    .dataframe tbody tr th:only-of-type {\n",
       "        vertical-align: middle;\n",
       "    }\n",
       "\n",
       "    .dataframe tbody tr th {\n",
       "        vertical-align: top;\n",
       "    }\n",
       "\n",
       "    .dataframe thead th {\n",
       "        text-align: right;\n",
       "    }\n",
       "</style>\n",
       "<table border=\"1\" class=\"dataframe\">\n",
       "  <thead>\n",
       "    <tr style=\"text-align: right;\">\n",
       "      <th></th>\n",
       "      <th>utm_source</th>\n",
       "      <th>revenue</th>\n",
       "      <th>costs</th>\n",
       "    </tr>\n",
       "  </thead>\n",
       "  <tbody>\n",
       "    <tr>\n",
       "      <th>1</th>\n",
       "      <td>facebook_ads</td>\n",
       "      <td>12249901.0</td>\n",
       "      <td>8590498</td>\n",
       "    </tr>\n",
       "    <tr>\n",
       "      <th>2</th>\n",
       "      <td>google_ads</td>\n",
       "      <td>12868276.0</td>\n",
       "      <td>10534878</td>\n",
       "    </tr>\n",
       "    <tr>\n",
       "      <th>3</th>\n",
       "      <td>instagram_ads</td>\n",
       "      <td>14546969.0</td>\n",
       "      <td>8561626</td>\n",
       "    </tr>\n",
       "    <tr>\n",
       "      <th>4</th>\n",
       "      <td>referal</td>\n",
       "      <td>8837044.5</td>\n",
       "      <td>2567800</td>\n",
       "    </tr>\n",
       "    <tr>\n",
       "      <th>5</th>\n",
       "      <td>vk_ads</td>\n",
       "      <td>16389652.5</td>\n",
       "      <td>9553531</td>\n",
       "    </tr>\n",
       "    <tr>\n",
       "      <th>6</th>\n",
       "      <td>yandex-direct</td>\n",
       "      <td>13915368.0</td>\n",
       "      <td>10491707</td>\n",
       "    </tr>\n",
       "  </tbody>\n",
       "</table>\n",
       "</div>"
      ],
      "text/plain": [
       "      utm_source     revenue     costs\n",
       "1   facebook_ads  12249901.0   8590498\n",
       "2     google_ads  12868276.0  10534878\n",
       "3  instagram_ads  14546969.0   8561626\n",
       "4        referal   8837044.5   2567800\n",
       "5         vk_ads  16389652.5   9553531\n",
       "6  yandex-direct  13915368.0  10491707"
      ]
     },
     "execution_count": 94,
     "metadata": {},
     "output_type": "execute_result"
    }
   ],
   "source": [
    "channels_costs = [8590498, 10534878, 8561626, referal_costs, 9553531, 10491707]\n",
    "channels_data['costs'] = channels_costs\n",
    "channels_data"
   ]
  },
  {
   "cell_type": "markdown",
   "metadata": {},
   "source": [
    "Рассчитаем ROMI по формуле:\n",
    "### (доход компании – расход на рекламу)/расход на рекламу × 100%\n"
   ]
  },
  {
   "cell_type": "code",
   "execution_count": 131,
   "metadata": {},
   "outputs": [
    {
     "data": {
      "text/html": [
       "<div>\n",
       "<style scoped>\n",
       "    .dataframe tbody tr th:only-of-type {\n",
       "        vertical-align: middle;\n",
       "    }\n",
       "\n",
       "    .dataframe tbody tr th {\n",
       "        vertical-align: top;\n",
       "    }\n",
       "\n",
       "    .dataframe thead th {\n",
       "        text-align: right;\n",
       "    }\n",
       "</style>\n",
       "<table border=\"1\" class=\"dataframe\">\n",
       "  <thead>\n",
       "    <tr style=\"text-align: right;\">\n",
       "      <th></th>\n",
       "      <th>utm_source</th>\n",
       "      <th>revenue</th>\n",
       "      <th>costs</th>\n",
       "      <th>ROMI</th>\n",
       "    </tr>\n",
       "  </thead>\n",
       "  <tbody>\n",
       "    <tr>\n",
       "      <th>4</th>\n",
       "      <td>referal</td>\n",
       "      <td>8837044.5</td>\n",
       "      <td>2567800</td>\n",
       "      <td>244.15</td>\n",
       "    </tr>\n",
       "    <tr>\n",
       "      <th>5</th>\n",
       "      <td>vk_ads</td>\n",
       "      <td>16389652.5</td>\n",
       "      <td>9553531</td>\n",
       "      <td>71.56</td>\n",
       "    </tr>\n",
       "    <tr>\n",
       "      <th>3</th>\n",
       "      <td>instagram_ads</td>\n",
       "      <td>14546969.0</td>\n",
       "      <td>8561626</td>\n",
       "      <td>69.91</td>\n",
       "    </tr>\n",
       "    <tr>\n",
       "      <th>1</th>\n",
       "      <td>facebook_ads</td>\n",
       "      <td>12249901.0</td>\n",
       "      <td>8590498</td>\n",
       "      <td>42.60</td>\n",
       "    </tr>\n",
       "    <tr>\n",
       "      <th>6</th>\n",
       "      <td>yandex-direct</td>\n",
       "      <td>13915368.0</td>\n",
       "      <td>10491707</td>\n",
       "      <td>32.63</td>\n",
       "    </tr>\n",
       "    <tr>\n",
       "      <th>2</th>\n",
       "      <td>google_ads</td>\n",
       "      <td>12868276.0</td>\n",
       "      <td>10534878</td>\n",
       "      <td>22.15</td>\n",
       "    </tr>\n",
       "  </tbody>\n",
       "</table>\n",
       "</div>"
      ],
      "text/plain": [
       "      utm_source     revenue     costs    ROMI\n",
       "4        referal   8837044.5   2567800  244.15\n",
       "5         vk_ads  16389652.5   9553531   71.56\n",
       "3  instagram_ads  14546969.0   8561626   69.91\n",
       "1   facebook_ads  12249901.0   8590498   42.60\n",
       "6  yandex-direct  13915368.0  10491707   32.63\n",
       "2     google_ads  12868276.0  10534878   22.15"
      ]
     },
     "execution_count": 131,
     "metadata": {},
     "output_type": "execute_result"
    }
   ],
   "source": [
    "channels_data['ROMI'] = round(\n",
    "    (channels_data.revenue - channels_data.costs)/channels_data.costs * 100, 2\n",
    "    )\n",
    "channels_data.sort_values(by='ROMI', ascending=False)"
   ]
  },
  {
   "cell_type": "markdown",
   "metadata": {},
   "source": [
    "Хуже всего по метрике ROMI показал себя Гугл, \\\n",
    "лидерами оказываются ВК \n",
    "и отдельно выделим реферальную программу - где расходы на рекламу минимальны и ROMI оказывается в разы больше по сравнению с остальными каналами. Однако здесь же стоит отметить, что общие доходы по реферальной программе ниже, чем по всем остальным каналам привлечения пользователей:"
   ]
  },
  {
   "cell_type": "code",
   "execution_count": 96,
   "metadata": {},
   "outputs": [
    {
     "data": {
      "text/html": [
       "<div>\n",
       "<style scoped>\n",
       "    .dataframe tbody tr th:only-of-type {\n",
       "        vertical-align: middle;\n",
       "    }\n",
       "\n",
       "    .dataframe tbody tr th {\n",
       "        vertical-align: top;\n",
       "    }\n",
       "\n",
       "    .dataframe thead th {\n",
       "        text-align: right;\n",
       "    }\n",
       "</style>\n",
       "<table border=\"1\" class=\"dataframe\">\n",
       "  <thead>\n",
       "    <tr style=\"text-align: right;\">\n",
       "      <th></th>\n",
       "      <th>utm_source</th>\n",
       "      <th>revenue</th>\n",
       "      <th>costs</th>\n",
       "      <th>ROMI</th>\n",
       "    </tr>\n",
       "  </thead>\n",
       "  <tbody>\n",
       "    <tr>\n",
       "      <th>5</th>\n",
       "      <td>vk_ads</td>\n",
       "      <td>16389652.5</td>\n",
       "      <td>9553531</td>\n",
       "      <td>71.56</td>\n",
       "    </tr>\n",
       "    <tr>\n",
       "      <th>3</th>\n",
       "      <td>instagram_ads</td>\n",
       "      <td>14546969.0</td>\n",
       "      <td>8561626</td>\n",
       "      <td>69.91</td>\n",
       "    </tr>\n",
       "    <tr>\n",
       "      <th>6</th>\n",
       "      <td>yandex-direct</td>\n",
       "      <td>13915368.0</td>\n",
       "      <td>10491707</td>\n",
       "      <td>32.63</td>\n",
       "    </tr>\n",
       "    <tr>\n",
       "      <th>2</th>\n",
       "      <td>google_ads</td>\n",
       "      <td>12868276.0</td>\n",
       "      <td>10534878</td>\n",
       "      <td>22.15</td>\n",
       "    </tr>\n",
       "    <tr>\n",
       "      <th>1</th>\n",
       "      <td>facebook_ads</td>\n",
       "      <td>12249901.0</td>\n",
       "      <td>8590498</td>\n",
       "      <td>42.60</td>\n",
       "    </tr>\n",
       "    <tr>\n",
       "      <th>4</th>\n",
       "      <td>referal</td>\n",
       "      <td>8837044.5</td>\n",
       "      <td>2567800</td>\n",
       "      <td>244.15</td>\n",
       "    </tr>\n",
       "  </tbody>\n",
       "</table>\n",
       "</div>"
      ],
      "text/plain": [
       "      utm_source     revenue     costs    ROMI\n",
       "5         vk_ads  16389652.5   9553531   71.56\n",
       "3  instagram_ads  14546969.0   8561626   69.91\n",
       "6  yandex-direct  13915368.0  10491707   32.63\n",
       "2     google_ads  12868276.0  10534878   22.15\n",
       "1   facebook_ads  12249901.0   8590498   42.60\n",
       "4        referal   8837044.5   2567800  244.15"
      ]
     },
     "execution_count": 96,
     "metadata": {},
     "output_type": "execute_result"
    }
   ],
   "source": [
    "channels_data.sort_values(by='revenue', ascending=False)"
   ]
  },
  {
   "cell_type": "markdown",
   "metadata": {},
   "source": [
    "# Когортный анализ\n",
    "в зависимости от:\\\n",
    "недели первого посещения;\\\n",
    "недели регистрации;\\\n",
    "недели первой покупки."
   ]
  },
  {
   "cell_type": "code",
   "execution_count": 97,
   "metadata": {},
   "outputs": [],
   "source": [
    "# Добавим столбец с данными о неделе, в которую произошло событие\n",
    "df.insert(2, 'week', (df.date - df.date.dt.weekday * np.timedelta64(1, 'D')).dt.date)"
   ]
  },
  {
   "cell_type": "code",
   "execution_count": 98,
   "metadata": {},
   "outputs": [
    {
     "data": {
      "text/html": [
       "<div>\n",
       "<style scoped>\n",
       "    .dataframe tbody tr th:only-of-type {\n",
       "        vertical-align: middle;\n",
       "    }\n",
       "\n",
       "    .dataframe tbody tr th {\n",
       "        vertical-align: top;\n",
       "    }\n",
       "\n",
       "    .dataframe thead th {\n",
       "        text-align: right;\n",
       "    }\n",
       "</style>\n",
       "<table border=\"1\" class=\"dataframe\">\n",
       "  <thead>\n",
       "    <tr style=\"text-align: right;\">\n",
       "      <th></th>\n",
       "      <th>device_id</th>\n",
       "      <th>date</th>\n",
       "      <th>week</th>\n",
       "      <th>event</th>\n",
       "      <th>purchase_sum</th>\n",
       "      <th>os_name</th>\n",
       "      <th>gender</th>\n",
       "      <th>city</th>\n",
       "      <th>utm_source</th>\n",
       "      <th>install_date</th>\n",
       "      <th>install_group</th>\n",
       "      <th>registration_date</th>\n",
       "      <th>registered</th>\n",
       "    </tr>\n",
       "  </thead>\n",
       "  <tbody>\n",
       "    <tr>\n",
       "      <th>0</th>\n",
       "      <td>4013</td>\n",
       "      <td>2020-01-15</td>\n",
       "      <td>2020-01-13</td>\n",
       "      <td>app_start</td>\n",
       "      <td>NaN</td>\n",
       "      <td>android</td>\n",
       "      <td>female</td>\n",
       "      <td>Saint-Petersburg</td>\n",
       "      <td>vk_ads</td>\n",
       "      <td>2020-01-15</td>\n",
       "      <td>same_day_install</td>\n",
       "      <td>NaT</td>\n",
       "      <td>0</td>\n",
       "    </tr>\n",
       "    <tr>\n",
       "      <th>1</th>\n",
       "      <td>4013</td>\n",
       "      <td>2020-01-15</td>\n",
       "      <td>2020-01-13</td>\n",
       "      <td>choose_item</td>\n",
       "      <td>NaN</td>\n",
       "      <td>android</td>\n",
       "      <td>female</td>\n",
       "      <td>Saint-Petersburg</td>\n",
       "      <td>vk_ads</td>\n",
       "      <td>2020-01-15</td>\n",
       "      <td>same_day_install</td>\n",
       "      <td>NaT</td>\n",
       "      <td>0</td>\n",
       "    </tr>\n",
       "    <tr>\n",
       "      <th>2</th>\n",
       "      <td>4013</td>\n",
       "      <td>2020-01-15</td>\n",
       "      <td>2020-01-13</td>\n",
       "      <td>search</td>\n",
       "      <td>NaN</td>\n",
       "      <td>android</td>\n",
       "      <td>female</td>\n",
       "      <td>Saint-Petersburg</td>\n",
       "      <td>vk_ads</td>\n",
       "      <td>2020-01-15</td>\n",
       "      <td>same_day_install</td>\n",
       "      <td>NaT</td>\n",
       "      <td>0</td>\n",
       "    </tr>\n",
       "    <tr>\n",
       "      <th>3</th>\n",
       "      <td>4013</td>\n",
       "      <td>2020-01-15</td>\n",
       "      <td>2020-01-13</td>\n",
       "      <td>tap_basket</td>\n",
       "      <td>NaN</td>\n",
       "      <td>android</td>\n",
       "      <td>female</td>\n",
       "      <td>Saint-Petersburg</td>\n",
       "      <td>vk_ads</td>\n",
       "      <td>2020-01-15</td>\n",
       "      <td>same_day_install</td>\n",
       "      <td>NaT</td>\n",
       "      <td>0</td>\n",
       "    </tr>\n",
       "    <tr>\n",
       "      <th>4</th>\n",
       "      <td>4013</td>\n",
       "      <td>2020-01-15</td>\n",
       "      <td>2020-01-13</td>\n",
       "      <td>app_install</td>\n",
       "      <td>NaN</td>\n",
       "      <td>android</td>\n",
       "      <td>female</td>\n",
       "      <td>Saint-Petersburg</td>\n",
       "      <td>vk_ads</td>\n",
       "      <td>2020-01-15</td>\n",
       "      <td>same_day_install</td>\n",
       "      <td>NaT</td>\n",
       "      <td>0</td>\n",
       "    </tr>\n",
       "  </tbody>\n",
       "</table>\n",
       "</div>"
      ],
      "text/plain": [
       "   device_id       date        week        event  purchase_sum  os_name  \\\n",
       "0       4013 2020-01-15  2020-01-13    app_start           NaN  android   \n",
       "1       4013 2020-01-15  2020-01-13  choose_item           NaN  android   \n",
       "2       4013 2020-01-15  2020-01-13       search           NaN  android   \n",
       "3       4013 2020-01-15  2020-01-13   tap_basket           NaN  android   \n",
       "4       4013 2020-01-15  2020-01-13  app_install           NaN  android   \n",
       "\n",
       "   gender              city utm_source install_date     install_group  \\\n",
       "0  female  Saint-Petersburg     vk_ads   2020-01-15  same_day_install   \n",
       "1  female  Saint-Petersburg     vk_ads   2020-01-15  same_day_install   \n",
       "2  female  Saint-Petersburg     vk_ads   2020-01-15  same_day_install   \n",
       "3  female  Saint-Petersburg     vk_ads   2020-01-15  same_day_install   \n",
       "4  female  Saint-Petersburg     vk_ads   2020-01-15  same_day_install   \n",
       "\n",
       "  registration_date  registered  \n",
       "0               NaT           0  \n",
       "1               NaT           0  \n",
       "2               NaT           0  \n",
       "3               NaT           0  \n",
       "4               NaT           0  "
      ]
     },
     "execution_count": 98,
     "metadata": {},
     "output_type": "execute_result"
    }
   ],
   "source": [
    "df.head()"
   ]
  },
  {
   "cell_type": "markdown",
   "metadata": {},
   "source": [
    "## 7) Таблица когорт по неделе первого посещения\n"
   ]
  },
  {
   "cell_type": "code",
   "execution_count": 132,
   "metadata": {},
   "outputs": [
    {
     "data": {
      "text/html": [
       "<div>\n",
       "<style scoped>\n",
       "    .dataframe tbody tr th:only-of-type {\n",
       "        vertical-align: middle;\n",
       "    }\n",
       "\n",
       "    .dataframe tbody tr th {\n",
       "        vertical-align: top;\n",
       "    }\n",
       "\n",
       "    .dataframe thead th {\n",
       "        text-align: right;\n",
       "    }\n",
       "</style>\n",
       "<table border=\"1\" class=\"dataframe\">\n",
       "  <thead>\n",
       "    <tr style=\"text-align: right;\">\n",
       "      <th></th>\n",
       "      <th>device_id</th>\n",
       "      <th>date</th>\n",
       "      <th>week</th>\n",
       "      <th>event</th>\n",
       "      <th>purchase_sum</th>\n",
       "      <th>os_name</th>\n",
       "      <th>gender</th>\n",
       "      <th>city</th>\n",
       "      <th>utm_source</th>\n",
       "      <th>install_date</th>\n",
       "      <th>install_group</th>\n",
       "      <th>registration_date</th>\n",
       "      <th>registered</th>\n",
       "      <th>first_visit_week</th>\n",
       "      <th>reg_week</th>\n",
       "      <th>first_purch_week</th>\n",
       "    </tr>\n",
       "  </thead>\n",
       "  <tbody>\n",
       "    <tr>\n",
       "      <th>0</th>\n",
       "      <td>4013</td>\n",
       "      <td>2020-01-15</td>\n",
       "      <td>2020-01-13</td>\n",
       "      <td>app_start</td>\n",
       "      <td>NaN</td>\n",
       "      <td>android</td>\n",
       "      <td>female</td>\n",
       "      <td>Saint-Petersburg</td>\n",
       "      <td>vk_ads</td>\n",
       "      <td>2020-01-15</td>\n",
       "      <td>same_day_install</td>\n",
       "      <td>NaT</td>\n",
       "      <td>0</td>\n",
       "      <td>2020-01-13</td>\n",
       "      <td>NaT</td>\n",
       "      <td>NaT</td>\n",
       "    </tr>\n",
       "    <tr>\n",
       "      <th>1</th>\n",
       "      <td>4013</td>\n",
       "      <td>2020-01-15</td>\n",
       "      <td>2020-01-13</td>\n",
       "      <td>choose_item</td>\n",
       "      <td>NaN</td>\n",
       "      <td>android</td>\n",
       "      <td>female</td>\n",
       "      <td>Saint-Petersburg</td>\n",
       "      <td>vk_ads</td>\n",
       "      <td>2020-01-15</td>\n",
       "      <td>same_day_install</td>\n",
       "      <td>NaT</td>\n",
       "      <td>0</td>\n",
       "      <td>2020-01-13</td>\n",
       "      <td>NaT</td>\n",
       "      <td>NaT</td>\n",
       "    </tr>\n",
       "    <tr>\n",
       "      <th>2</th>\n",
       "      <td>4013</td>\n",
       "      <td>2020-01-15</td>\n",
       "      <td>2020-01-13</td>\n",
       "      <td>search</td>\n",
       "      <td>NaN</td>\n",
       "      <td>android</td>\n",
       "      <td>female</td>\n",
       "      <td>Saint-Petersburg</td>\n",
       "      <td>vk_ads</td>\n",
       "      <td>2020-01-15</td>\n",
       "      <td>same_day_install</td>\n",
       "      <td>NaT</td>\n",
       "      <td>0</td>\n",
       "      <td>2020-01-13</td>\n",
       "      <td>NaT</td>\n",
       "      <td>NaT</td>\n",
       "    </tr>\n",
       "    <tr>\n",
       "      <th>3</th>\n",
       "      <td>4013</td>\n",
       "      <td>2020-01-15</td>\n",
       "      <td>2020-01-13</td>\n",
       "      <td>tap_basket</td>\n",
       "      <td>NaN</td>\n",
       "      <td>android</td>\n",
       "      <td>female</td>\n",
       "      <td>Saint-Petersburg</td>\n",
       "      <td>vk_ads</td>\n",
       "      <td>2020-01-15</td>\n",
       "      <td>same_day_install</td>\n",
       "      <td>NaT</td>\n",
       "      <td>0</td>\n",
       "      <td>2020-01-13</td>\n",
       "      <td>NaT</td>\n",
       "      <td>NaT</td>\n",
       "    </tr>\n",
       "    <tr>\n",
       "      <th>4</th>\n",
       "      <td>4013</td>\n",
       "      <td>2020-01-15</td>\n",
       "      <td>2020-01-13</td>\n",
       "      <td>app_install</td>\n",
       "      <td>NaN</td>\n",
       "      <td>android</td>\n",
       "      <td>female</td>\n",
       "      <td>Saint-Petersburg</td>\n",
       "      <td>vk_ads</td>\n",
       "      <td>2020-01-15</td>\n",
       "      <td>same_day_install</td>\n",
       "      <td>NaT</td>\n",
       "      <td>0</td>\n",
       "      <td>2020-01-13</td>\n",
       "      <td>NaT</td>\n",
       "      <td>NaT</td>\n",
       "    </tr>\n",
       "  </tbody>\n",
       "</table>\n",
       "</div>"
      ],
      "text/plain": [
       "   device_id       date        week        event  purchase_sum  os_name  \\\n",
       "0       4013 2020-01-15  2020-01-13    app_start           NaN  android   \n",
       "1       4013 2020-01-15  2020-01-13  choose_item           NaN  android   \n",
       "2       4013 2020-01-15  2020-01-13       search           NaN  android   \n",
       "3       4013 2020-01-15  2020-01-13   tap_basket           NaN  android   \n",
       "4       4013 2020-01-15  2020-01-13  app_install           NaN  android   \n",
       "\n",
       "   gender              city utm_source install_date     install_group  \\\n",
       "0  female  Saint-Petersburg     vk_ads   2020-01-15  same_day_install   \n",
       "1  female  Saint-Petersburg     vk_ads   2020-01-15  same_day_install   \n",
       "2  female  Saint-Petersburg     vk_ads   2020-01-15  same_day_install   \n",
       "3  female  Saint-Petersburg     vk_ads   2020-01-15  same_day_install   \n",
       "4  female  Saint-Petersburg     vk_ads   2020-01-15  same_day_install   \n",
       "\n",
       "  registration_date  registered first_visit_week reg_week first_purch_week  \n",
       "0               NaT           0       2020-01-13      NaT              NaT  \n",
       "1               NaT           0       2020-01-13      NaT              NaT  \n",
       "2               NaT           0       2020-01-13      NaT              NaT  \n",
       "3               NaT           0       2020-01-13      NaT              NaT  \n",
       "4               NaT           0       2020-01-13      NaT              NaT  "
      ]
     },
     "execution_count": 132,
     "metadata": {},
     "output_type": "execute_result"
    }
   ],
   "source": [
    "# Определим дату первого посещения каждого пользователя, затем неделю посещения(по первому дню недели) и внесём данные в таблицу:\n",
    "first_visits = df.groupby('device_id')['date'].min().reset_index()\n",
    "first_visits = dict(zip(first_visits.device_id, first_visits.date))\n",
    "df['first_visit_week'] = df.device_id.apply(lambda x: first_visits[x])\n",
    "df['first_visit_week'] = (\n",
    "    df['first_visit_week'] - df['first_visit_week'].dt.weekday * np.timedelta64(1, 'D')\n",
    "    ).dt.date\n",
    "df.head()"
   ]
  },
  {
   "cell_type": "markdown",
   "metadata": {},
   "source": [
    "Построим сводную таблицу по количеству уникальных пользователей по когортам первого посещения в разрезе недель.\\\n",
    "При этом в этой и последующих таблицах мы исключим из анализа данные по последней когорте и последней неделе, так как в данные попали только первые два дня (30 и 31 марта)"
   ]
  },
  {
   "cell_type": "code",
   "execution_count": 100,
   "metadata": {},
   "outputs": [
    {
     "data": {
      "text/html": [
       "<div>\n",
       "<style scoped>\n",
       "    .dataframe tbody tr th:only-of-type {\n",
       "        vertical-align: middle;\n",
       "    }\n",
       "\n",
       "    .dataframe tbody tr th {\n",
       "        vertical-align: top;\n",
       "    }\n",
       "\n",
       "    .dataframe thead th {\n",
       "        text-align: right;\n",
       "    }\n",
       "</style>\n",
       "<table border=\"1\" class=\"dataframe\">\n",
       "  <thead>\n",
       "    <tr style=\"text-align: right;\">\n",
       "      <th>week</th>\n",
       "      <th>2019-12-30</th>\n",
       "      <th>2020-01-06</th>\n",
       "      <th>2020-01-13</th>\n",
       "      <th>2020-01-20</th>\n",
       "      <th>2020-01-27</th>\n",
       "      <th>2020-02-03</th>\n",
       "      <th>2020-02-10</th>\n",
       "      <th>2020-02-17</th>\n",
       "      <th>2020-02-24</th>\n",
       "      <th>2020-03-02</th>\n",
       "      <th>2020-03-09</th>\n",
       "      <th>2020-03-16</th>\n",
       "      <th>2020-03-23</th>\n",
       "    </tr>\n",
       "    <tr>\n",
       "      <th>first_visit_week</th>\n",
       "      <th></th>\n",
       "      <th></th>\n",
       "      <th></th>\n",
       "      <th></th>\n",
       "      <th></th>\n",
       "      <th></th>\n",
       "      <th></th>\n",
       "      <th></th>\n",
       "      <th></th>\n",
       "      <th></th>\n",
       "      <th></th>\n",
       "      <th></th>\n",
       "      <th></th>\n",
       "    </tr>\n",
       "  </thead>\n",
       "  <tbody>\n",
       "    <tr>\n",
       "      <th>2019-12-30</th>\n",
       "      <td>15705.0</td>\n",
       "      <td>7551.0</td>\n",
       "      <td>6792.0</td>\n",
       "      <td>6338.0</td>\n",
       "      <td>5794.0</td>\n",
       "      <td>5295.0</td>\n",
       "      <td>5452.0</td>\n",
       "      <td>5387.0</td>\n",
       "      <td>4853.0</td>\n",
       "      <td>4983.0</td>\n",
       "      <td>4541.0</td>\n",
       "      <td>4355.0</td>\n",
       "      <td>4498.0</td>\n",
       "    </tr>\n",
       "    <tr>\n",
       "      <th>2020-01-06</th>\n",
       "      <td>NaN</td>\n",
       "      <td>31315.0</td>\n",
       "      <td>8228.0</td>\n",
       "      <td>6040.0</td>\n",
       "      <td>4958.0</td>\n",
       "      <td>4222.0</td>\n",
       "      <td>4540.0</td>\n",
       "      <td>4553.0</td>\n",
       "      <td>3507.0</td>\n",
       "      <td>4136.0</td>\n",
       "      <td>3246.0</td>\n",
       "      <td>2944.0</td>\n",
       "      <td>3047.0</td>\n",
       "    </tr>\n",
       "    <tr>\n",
       "      <th>2020-01-13</th>\n",
       "      <td>NaN</td>\n",
       "      <td>NaN</td>\n",
       "      <td>30505.0</td>\n",
       "      <td>5068.0</td>\n",
       "      <td>3861.0</td>\n",
       "      <td>3122.0</td>\n",
       "      <td>3610.0</td>\n",
       "      <td>3175.0</td>\n",
       "      <td>2303.0</td>\n",
       "      <td>2894.0</td>\n",
       "      <td>1983.0</td>\n",
       "      <td>1818.0</td>\n",
       "      <td>1923.0</td>\n",
       "    </tr>\n",
       "    <tr>\n",
       "      <th>2020-01-20</th>\n",
       "      <td>NaN</td>\n",
       "      <td>NaN</td>\n",
       "      <td>NaN</td>\n",
       "      <td>12319.0</td>\n",
       "      <td>1863.0</td>\n",
       "      <td>1443.0</td>\n",
       "      <td>1706.0</td>\n",
       "      <td>1543.0</td>\n",
       "      <td>1079.0</td>\n",
       "      <td>1388.0</td>\n",
       "      <td>918.0</td>\n",
       "      <td>791.0</td>\n",
       "      <td>873.0</td>\n",
       "    </tr>\n",
       "    <tr>\n",
       "      <th>2020-01-27</th>\n",
       "      <td>NaN</td>\n",
       "      <td>NaN</td>\n",
       "      <td>NaN</td>\n",
       "      <td>NaN</td>\n",
       "      <td>13119.0</td>\n",
       "      <td>2037.0</td>\n",
       "      <td>1971.0</td>\n",
       "      <td>1669.0</td>\n",
       "      <td>1227.0</td>\n",
       "      <td>1397.0</td>\n",
       "      <td>1003.0</td>\n",
       "      <td>875.0</td>\n",
       "      <td>909.0</td>\n",
       "    </tr>\n",
       "    <tr>\n",
       "      <th>2020-02-03</th>\n",
       "      <td>NaN</td>\n",
       "      <td>NaN</td>\n",
       "      <td>NaN</td>\n",
       "      <td>NaN</td>\n",
       "      <td>NaN</td>\n",
       "      <td>10967.0</td>\n",
       "      <td>1993.0</td>\n",
       "      <td>1599.0</td>\n",
       "      <td>1126.0</td>\n",
       "      <td>1266.0</td>\n",
       "      <td>933.0</td>\n",
       "      <td>804.0</td>\n",
       "      <td>839.0</td>\n",
       "    </tr>\n",
       "    <tr>\n",
       "      <th>2020-02-10</th>\n",
       "      <td>NaN</td>\n",
       "      <td>NaN</td>\n",
       "      <td>NaN</td>\n",
       "      <td>NaN</td>\n",
       "      <td>NaN</td>\n",
       "      <td>NaN</td>\n",
       "      <td>16015.0</td>\n",
       "      <td>2560.0</td>\n",
       "      <td>1487.0</td>\n",
       "      <td>2083.0</td>\n",
       "      <td>1227.0</td>\n",
       "      <td>1019.0</td>\n",
       "      <td>1031.0</td>\n",
       "    </tr>\n",
       "    <tr>\n",
       "      <th>2020-02-17</th>\n",
       "      <td>NaN</td>\n",
       "      <td>NaN</td>\n",
       "      <td>NaN</td>\n",
       "      <td>NaN</td>\n",
       "      <td>NaN</td>\n",
       "      <td>NaN</td>\n",
       "      <td>NaN</td>\n",
       "      <td>11974.0</td>\n",
       "      <td>1511.0</td>\n",
       "      <td>1606.0</td>\n",
       "      <td>995.0</td>\n",
       "      <td>845.0</td>\n",
       "      <td>884.0</td>\n",
       "    </tr>\n",
       "    <tr>\n",
       "      <th>2020-02-24</th>\n",
       "      <td>NaN</td>\n",
       "      <td>NaN</td>\n",
       "      <td>NaN</td>\n",
       "      <td>NaN</td>\n",
       "      <td>NaN</td>\n",
       "      <td>NaN</td>\n",
       "      <td>NaN</td>\n",
       "      <td>NaN</td>\n",
       "      <td>5172.0</td>\n",
       "      <td>933.0</td>\n",
       "      <td>625.0</td>\n",
       "      <td>499.0</td>\n",
       "      <td>509.0</td>\n",
       "    </tr>\n",
       "    <tr>\n",
       "      <th>2020-03-02</th>\n",
       "      <td>NaN</td>\n",
       "      <td>NaN</td>\n",
       "      <td>NaN</td>\n",
       "      <td>NaN</td>\n",
       "      <td>NaN</td>\n",
       "      <td>NaN</td>\n",
       "      <td>NaN</td>\n",
       "      <td>NaN</td>\n",
       "      <td>NaN</td>\n",
       "      <td>15001.0</td>\n",
       "      <td>1044.0</td>\n",
       "      <td>780.0</td>\n",
       "      <td>796.0</td>\n",
       "    </tr>\n",
       "    <tr>\n",
       "      <th>2020-03-09</th>\n",
       "      <td>NaN</td>\n",
       "      <td>NaN</td>\n",
       "      <td>NaN</td>\n",
       "      <td>NaN</td>\n",
       "      <td>NaN</td>\n",
       "      <td>NaN</td>\n",
       "      <td>NaN</td>\n",
       "      <td>NaN</td>\n",
       "      <td>NaN</td>\n",
       "      <td>NaN</td>\n",
       "      <td>4947.0</td>\n",
       "      <td>676.0</td>\n",
       "      <td>658.0</td>\n",
       "    </tr>\n",
       "    <tr>\n",
       "      <th>2020-03-16</th>\n",
       "      <td>NaN</td>\n",
       "      <td>NaN</td>\n",
       "      <td>NaN</td>\n",
       "      <td>NaN</td>\n",
       "      <td>NaN</td>\n",
       "      <td>NaN</td>\n",
       "      <td>NaN</td>\n",
       "      <td>NaN</td>\n",
       "      <td>NaN</td>\n",
       "      <td>NaN</td>\n",
       "      <td>NaN</td>\n",
       "      <td>8948.0</td>\n",
       "      <td>867.0</td>\n",
       "    </tr>\n",
       "    <tr>\n",
       "      <th>2020-03-23</th>\n",
       "      <td>NaN</td>\n",
       "      <td>NaN</td>\n",
       "      <td>NaN</td>\n",
       "      <td>NaN</td>\n",
       "      <td>NaN</td>\n",
       "      <td>NaN</td>\n",
       "      <td>NaN</td>\n",
       "      <td>NaN</td>\n",
       "      <td>NaN</td>\n",
       "      <td>NaN</td>\n",
       "      <td>NaN</td>\n",
       "      <td>NaN</td>\n",
       "      <td>12448.0</td>\n",
       "    </tr>\n",
       "  </tbody>\n",
       "</table>\n",
       "</div>"
      ],
      "text/plain": [
       "week              2019-12-30  2020-01-06  2020-01-13  2020-01-20  2020-01-27  \\\n",
       "first_visit_week                                                               \n",
       "2019-12-30           15705.0      7551.0      6792.0      6338.0      5794.0   \n",
       "2020-01-06               NaN     31315.0      8228.0      6040.0      4958.0   \n",
       "2020-01-13               NaN         NaN     30505.0      5068.0      3861.0   \n",
       "2020-01-20               NaN         NaN         NaN     12319.0      1863.0   \n",
       "2020-01-27               NaN         NaN         NaN         NaN     13119.0   \n",
       "2020-02-03               NaN         NaN         NaN         NaN         NaN   \n",
       "2020-02-10               NaN         NaN         NaN         NaN         NaN   \n",
       "2020-02-17               NaN         NaN         NaN         NaN         NaN   \n",
       "2020-02-24               NaN         NaN         NaN         NaN         NaN   \n",
       "2020-03-02               NaN         NaN         NaN         NaN         NaN   \n",
       "2020-03-09               NaN         NaN         NaN         NaN         NaN   \n",
       "2020-03-16               NaN         NaN         NaN         NaN         NaN   \n",
       "2020-03-23               NaN         NaN         NaN         NaN         NaN   \n",
       "\n",
       "week              2020-02-03  2020-02-10  2020-02-17  2020-02-24  2020-03-02  \\\n",
       "first_visit_week                                                               \n",
       "2019-12-30            5295.0      5452.0      5387.0      4853.0      4983.0   \n",
       "2020-01-06            4222.0      4540.0      4553.0      3507.0      4136.0   \n",
       "2020-01-13            3122.0      3610.0      3175.0      2303.0      2894.0   \n",
       "2020-01-20            1443.0      1706.0      1543.0      1079.0      1388.0   \n",
       "2020-01-27            2037.0      1971.0      1669.0      1227.0      1397.0   \n",
       "2020-02-03           10967.0      1993.0      1599.0      1126.0      1266.0   \n",
       "2020-02-10               NaN     16015.0      2560.0      1487.0      2083.0   \n",
       "2020-02-17               NaN         NaN     11974.0      1511.0      1606.0   \n",
       "2020-02-24               NaN         NaN         NaN      5172.0       933.0   \n",
       "2020-03-02               NaN         NaN         NaN         NaN     15001.0   \n",
       "2020-03-09               NaN         NaN         NaN         NaN         NaN   \n",
       "2020-03-16               NaN         NaN         NaN         NaN         NaN   \n",
       "2020-03-23               NaN         NaN         NaN         NaN         NaN   \n",
       "\n",
       "week              2020-03-09  2020-03-16  2020-03-23  \n",
       "first_visit_week                                      \n",
       "2019-12-30            4541.0      4355.0      4498.0  \n",
       "2020-01-06            3246.0      2944.0      3047.0  \n",
       "2020-01-13            1983.0      1818.0      1923.0  \n",
       "2020-01-20             918.0       791.0       873.0  \n",
       "2020-01-27            1003.0       875.0       909.0  \n",
       "2020-02-03             933.0       804.0       839.0  \n",
       "2020-02-10            1227.0      1019.0      1031.0  \n",
       "2020-02-17             995.0       845.0       884.0  \n",
       "2020-02-24             625.0       499.0       509.0  \n",
       "2020-03-02            1044.0       780.0       796.0  \n",
       "2020-03-09            4947.0       676.0       658.0  \n",
       "2020-03-16               NaN      8948.0       867.0  \n",
       "2020-03-23               NaN         NaN     12448.0  "
      ]
     },
     "execution_count": 100,
     "metadata": {},
     "output_type": "execute_result"
    }
   ],
   "source": [
    "unique_users = df.pivot_table(\n",
    "    index='first_visit_week',\n",
    "    columns='week',\n",
    "    values='device_id',\n",
    "    aggfunc='nunique'\n",
    ")\n",
    "unique_users = unique_users[:-1]\n",
    "unique_users = unique_users[unique_users.columns[:-1]]\n",
    "unique_users"
   ]
  },
  {
   "cell_type": "code",
   "execution_count": 101,
   "metadata": {},
   "outputs": [
    {
     "data": {
      "image/png": "[encoded data removed]",
      "text/plain": [
       "<Figure size 640x480 with 2 Axes>"
      ]
     },
     "metadata": {},
     "output_type": "display_data"
    }
   ],
   "source": [
    "# Построим тепловую карту на основе полученных данных:\n",
    "import seaborn as sns\n",
    "sns.heatmap(unique_users, cmap='YlGnBu');"
   ]
  },
  {
   "cell_type": "markdown",
   "metadata": {},
   "source": [
    "Самой большой по численности оказалась когорта от 06.01.2020"
   ]
  },
  {
   "cell_type": "code",
   "execution_count": 133,
   "metadata": {},
   "outputs": [
    {
     "data": {
      "text/html": [
       "<div>\n",
       "<style scoped>\n",
       "    .dataframe tbody tr th:only-of-type {\n",
       "        vertical-align: middle;\n",
       "    }\n",
       "\n",
       "    .dataframe tbody tr th {\n",
       "        vertical-align: top;\n",
       "    }\n",
       "\n",
       "    .dataframe thead th {\n",
       "        text-align: right;\n",
       "    }\n",
       "</style>\n",
       "<table border=\"1\" class=\"dataframe\">\n",
       "  <thead>\n",
       "    <tr style=\"text-align: right;\">\n",
       "      <th>week</th>\n",
       "      <th>2019-12-30</th>\n",
       "      <th>2020-01-06</th>\n",
       "      <th>2020-01-13</th>\n",
       "      <th>2020-01-20</th>\n",
       "      <th>2020-01-27</th>\n",
       "      <th>2020-02-03</th>\n",
       "      <th>2020-02-10</th>\n",
       "      <th>2020-02-17</th>\n",
       "      <th>2020-02-24</th>\n",
       "      <th>2020-03-02</th>\n",
       "      <th>2020-03-09</th>\n",
       "      <th>2020-03-16</th>\n",
       "      <th>2020-03-23</th>\n",
       "    </tr>\n",
       "    <tr>\n",
       "      <th>first_visit_week</th>\n",
       "      <th></th>\n",
       "      <th></th>\n",
       "      <th></th>\n",
       "      <th></th>\n",
       "      <th></th>\n",
       "      <th></th>\n",
       "      <th></th>\n",
       "      <th></th>\n",
       "      <th></th>\n",
       "      <th></th>\n",
       "      <th></th>\n",
       "      <th></th>\n",
       "      <th></th>\n",
       "    </tr>\n",
       "  </thead>\n",
       "  <tbody>\n",
       "    <tr>\n",
       "      <th>2019-12-30</th>\n",
       "      <td>100.0</td>\n",
       "      <td>48.0</td>\n",
       "      <td>43.0</td>\n",
       "      <td>40.0</td>\n",
       "      <td>37.0</td>\n",
       "      <td>34.0</td>\n",
       "      <td>35.0</td>\n",
       "      <td>34.0</td>\n",
       "      <td>31.0</td>\n",
       "      <td>32.0</td>\n",
       "      <td>29.0</td>\n",
       "      <td>28.0</td>\n",
       "      <td>29.0</td>\n",
       "    </tr>\n",
       "    <tr>\n",
       "      <th>2020-01-06</th>\n",
       "      <td>NaN</td>\n",
       "      <td>100.0</td>\n",
       "      <td>26.0</td>\n",
       "      <td>19.0</td>\n",
       "      <td>16.0</td>\n",
       "      <td>13.0</td>\n",
       "      <td>14.0</td>\n",
       "      <td>15.0</td>\n",
       "      <td>11.0</td>\n",
       "      <td>13.0</td>\n",
       "      <td>10.0</td>\n",
       "      <td>9.0</td>\n",
       "      <td>10.0</td>\n",
       "    </tr>\n",
       "    <tr>\n",
       "      <th>2020-01-13</th>\n",
       "      <td>NaN</td>\n",
       "      <td>NaN</td>\n",
       "      <td>100.0</td>\n",
       "      <td>17.0</td>\n",
       "      <td>13.0</td>\n",
       "      <td>10.0</td>\n",
       "      <td>12.0</td>\n",
       "      <td>10.0</td>\n",
       "      <td>8.0</td>\n",
       "      <td>9.0</td>\n",
       "      <td>7.0</td>\n",
       "      <td>6.0</td>\n",
       "      <td>6.0</td>\n",
       "    </tr>\n",
       "    <tr>\n",
       "      <th>2020-01-20</th>\n",
       "      <td>NaN</td>\n",
       "      <td>NaN</td>\n",
       "      <td>NaN</td>\n",
       "      <td>100.0</td>\n",
       "      <td>15.0</td>\n",
       "      <td>12.0</td>\n",
       "      <td>14.0</td>\n",
       "      <td>13.0</td>\n",
       "      <td>9.0</td>\n",
       "      <td>11.0</td>\n",
       "      <td>7.0</td>\n",
       "      <td>6.0</td>\n",
       "      <td>7.0</td>\n",
       "    </tr>\n",
       "    <tr>\n",
       "      <th>2020-01-27</th>\n",
       "      <td>NaN</td>\n",
       "      <td>NaN</td>\n",
       "      <td>NaN</td>\n",
       "      <td>NaN</td>\n",
       "      <td>100.0</td>\n",
       "      <td>16.0</td>\n",
       "      <td>15.0</td>\n",
       "      <td>13.0</td>\n",
       "      <td>9.0</td>\n",
       "      <td>11.0</td>\n",
       "      <td>8.0</td>\n",
       "      <td>7.0</td>\n",
       "      <td>7.0</td>\n",
       "    </tr>\n",
       "    <tr>\n",
       "      <th>2020-02-03</th>\n",
       "      <td>NaN</td>\n",
       "      <td>NaN</td>\n",
       "      <td>NaN</td>\n",
       "      <td>NaN</td>\n",
       "      <td>NaN</td>\n",
       "      <td>100.0</td>\n",
       "      <td>18.0</td>\n",
       "      <td>15.0</td>\n",
       "      <td>10.0</td>\n",
       "      <td>12.0</td>\n",
       "      <td>9.0</td>\n",
       "      <td>7.0</td>\n",
       "      <td>8.0</td>\n",
       "    </tr>\n",
       "    <tr>\n",
       "      <th>2020-02-10</th>\n",
       "      <td>NaN</td>\n",
       "      <td>NaN</td>\n",
       "      <td>NaN</td>\n",
       "      <td>NaN</td>\n",
       "      <td>NaN</td>\n",
       "      <td>NaN</td>\n",
       "      <td>100.0</td>\n",
       "      <td>16.0</td>\n",
       "      <td>9.0</td>\n",
       "      <td>13.0</td>\n",
       "      <td>8.0</td>\n",
       "      <td>6.0</td>\n",
       "      <td>6.0</td>\n",
       "    </tr>\n",
       "    <tr>\n",
       "      <th>2020-02-17</th>\n",
       "      <td>NaN</td>\n",
       "      <td>NaN</td>\n",
       "      <td>NaN</td>\n",
       "      <td>NaN</td>\n",
       "      <td>NaN</td>\n",
       "      <td>NaN</td>\n",
       "      <td>NaN</td>\n",
       "      <td>100.0</td>\n",
       "      <td>13.0</td>\n",
       "      <td>13.0</td>\n",
       "      <td>8.0</td>\n",
       "      <td>7.0</td>\n",
       "      <td>7.0</td>\n",
       "    </tr>\n",
       "    <tr>\n",
       "      <th>2020-02-24</th>\n",
       "      <td>NaN</td>\n",
       "      <td>NaN</td>\n",
       "      <td>NaN</td>\n",
       "      <td>NaN</td>\n",
       "      <td>NaN</td>\n",
       "      <td>NaN</td>\n",
       "      <td>NaN</td>\n",
       "      <td>NaN</td>\n",
       "      <td>100.0</td>\n",
       "      <td>18.0</td>\n",
       "      <td>12.0</td>\n",
       "      <td>10.0</td>\n",
       "      <td>10.0</td>\n",
       "    </tr>\n",
       "    <tr>\n",
       "      <th>2020-03-02</th>\n",
       "      <td>NaN</td>\n",
       "      <td>NaN</td>\n",
       "      <td>NaN</td>\n",
       "      <td>NaN</td>\n",
       "      <td>NaN</td>\n",
       "      <td>NaN</td>\n",
       "      <td>NaN</td>\n",
       "      <td>NaN</td>\n",
       "      <td>NaN</td>\n",
       "      <td>100.0</td>\n",
       "      <td>7.0</td>\n",
       "      <td>5.0</td>\n",
       "      <td>5.0</td>\n",
       "    </tr>\n",
       "    <tr>\n",
       "      <th>2020-03-09</th>\n",
       "      <td>NaN</td>\n",
       "      <td>NaN</td>\n",
       "      <td>NaN</td>\n",
       "      <td>NaN</td>\n",
       "      <td>NaN</td>\n",
       "      <td>NaN</td>\n",
       "      <td>NaN</td>\n",
       "      <td>NaN</td>\n",
       "      <td>NaN</td>\n",
       "      <td>NaN</td>\n",
       "      <td>100.0</td>\n",
       "      <td>14.0</td>\n",
       "      <td>13.0</td>\n",
       "    </tr>\n",
       "    <tr>\n",
       "      <th>2020-03-16</th>\n",
       "      <td>NaN</td>\n",
       "      <td>NaN</td>\n",
       "      <td>NaN</td>\n",
       "      <td>NaN</td>\n",
       "      <td>NaN</td>\n",
       "      <td>NaN</td>\n",
       "      <td>NaN</td>\n",
       "      <td>NaN</td>\n",
       "      <td>NaN</td>\n",
       "      <td>NaN</td>\n",
       "      <td>NaN</td>\n",
       "      <td>100.0</td>\n",
       "      <td>10.0</td>\n",
       "    </tr>\n",
       "    <tr>\n",
       "      <th>2020-03-23</th>\n",
       "      <td>NaN</td>\n",
       "      <td>NaN</td>\n",
       "      <td>NaN</td>\n",
       "      <td>NaN</td>\n",
       "      <td>NaN</td>\n",
       "      <td>NaN</td>\n",
       "      <td>NaN</td>\n",
       "      <td>NaN</td>\n",
       "      <td>NaN</td>\n",
       "      <td>NaN</td>\n",
       "      <td>NaN</td>\n",
       "      <td>NaN</td>\n",
       "      <td>100.0</td>\n",
       "    </tr>\n",
       "  </tbody>\n",
       "</table>\n",
       "</div>"
      ],
      "text/plain": [
       "week              2019-12-30  2020-01-06  2020-01-13  2020-01-20  2020-01-27  \\\n",
       "first_visit_week                                                               \n",
       "2019-12-30             100.0        48.0        43.0        40.0        37.0   \n",
       "2020-01-06               NaN       100.0        26.0        19.0        16.0   \n",
       "2020-01-13               NaN         NaN       100.0        17.0        13.0   \n",
       "2020-01-20               NaN         NaN         NaN       100.0        15.0   \n",
       "2020-01-27               NaN         NaN         NaN         NaN       100.0   \n",
       "2020-02-03               NaN         NaN         NaN         NaN         NaN   \n",
       "2020-02-10               NaN         NaN         NaN         NaN         NaN   \n",
       "2020-02-17               NaN         NaN         NaN         NaN         NaN   \n",
       "2020-02-24               NaN         NaN         NaN         NaN         NaN   \n",
       "2020-03-02               NaN         NaN         NaN         NaN         NaN   \n",
       "2020-03-09               NaN         NaN         NaN         NaN         NaN   \n",
       "2020-03-16               NaN         NaN         NaN         NaN         NaN   \n",
       "2020-03-23               NaN         NaN         NaN         NaN         NaN   \n",
       "\n",
       "week              2020-02-03  2020-02-10  2020-02-17  2020-02-24  2020-03-02  \\\n",
       "first_visit_week                                                               \n",
       "2019-12-30              34.0        35.0        34.0        31.0        32.0   \n",
       "2020-01-06              13.0        14.0        15.0        11.0        13.0   \n",
       "2020-01-13              10.0        12.0        10.0         8.0         9.0   \n",
       "2020-01-20              12.0        14.0        13.0         9.0        11.0   \n",
       "2020-01-27              16.0        15.0        13.0         9.0        11.0   \n",
       "2020-02-03             100.0        18.0        15.0        10.0        12.0   \n",
       "2020-02-10               NaN       100.0        16.0         9.0        13.0   \n",
       "2020-02-17               NaN         NaN       100.0        13.0        13.0   \n",
       "2020-02-24               NaN         NaN         NaN       100.0        18.0   \n",
       "2020-03-02               NaN         NaN         NaN         NaN       100.0   \n",
       "2020-03-09               NaN         NaN         NaN         NaN         NaN   \n",
       "2020-03-16               NaN         NaN         NaN         NaN         NaN   \n",
       "2020-03-23               NaN         NaN         NaN         NaN         NaN   \n",
       "\n",
       "week              2020-03-09  2020-03-16  2020-03-23  \n",
       "first_visit_week                                      \n",
       "2019-12-30              29.0        28.0        29.0  \n",
       "2020-01-06              10.0         9.0        10.0  \n",
       "2020-01-13               7.0         6.0         6.0  \n",
       "2020-01-20               7.0         6.0         7.0  \n",
       "2020-01-27               8.0         7.0         7.0  \n",
       "2020-02-03               9.0         7.0         8.0  \n",
       "2020-02-10               8.0         6.0         6.0  \n",
       "2020-02-17               8.0         7.0         7.0  \n",
       "2020-02-24              12.0        10.0        10.0  \n",
       "2020-03-02               7.0         5.0         5.0  \n",
       "2020-03-09             100.0        14.0        13.0  \n",
       "2020-03-16               NaN       100.0        10.0  \n",
       "2020-03-23               NaN         NaN       100.0  "
      ]
     },
     "execution_count": 133,
     "metadata": {},
     "output_type": "execute_result"
    }
   ],
   "source": [
    "# Создадим таблицу, в которой рассчитаем количество пользователей каждой когорты по неделям относительно первой недели когорты:\n",
    "unique_users_prc = unique_users\n",
    "\n",
    "for week in unique_users_prc.columns:\n",
    "    unique_users_prc.loc[week] = round(\n",
    "        unique_users_prc.loc[week]/unique_users_prc.loc[week,week] * 100\n",
    "        )\n",
    "    \n",
    "unique_users_prc"
   ]
  },
  {
   "cell_type": "code",
   "execution_count": 103,
   "metadata": {},
   "outputs": [
    {
     "data": {
      "image/png": "[encoded data removed]",
      "text/plain": [
       "<Figure size 640x480 with 2 Axes>"
      ]
     },
     "metadata": {},
     "output_type": "display_data"
    }
   ],
   "source": [
    "import seaborn as sns\n",
    "sns.heatmap(unique_users_prc, cmap='YlGnBu');"
   ]
  },
  {
   "cell_type": "markdown",
   "metadata": {},
   "source": [
    "Мы видим (особенно ярко на данных в процентах), что самую большую активность проявила первая когорта (от 30.12.2019),\\\n",
    "также в целом наблюдаем снижение активности последующих когорт."
   ]
  },
  {
   "cell_type": "markdown",
   "metadata": {},
   "source": [
    "Для сравнения построим сводную таблицу по количеству всех событий для каждой когорты по неделям,\\\n",
    "вычислим среднее и построим тепловую карту."
   ]
  },
  {
   "cell_type": "code",
   "execution_count": 104,
   "metadata": {},
   "outputs": [
    {
     "data": {
      "text/html": [
       "<div>\n",
       "<style scoped>\n",
       "    .dataframe tbody tr th:only-of-type {\n",
       "        vertical-align: middle;\n",
       "    }\n",
       "\n",
       "    .dataframe tbody tr th {\n",
       "        vertical-align: top;\n",
       "    }\n",
       "\n",
       "    .dataframe thead th {\n",
       "        text-align: right;\n",
       "    }\n",
       "</style>\n",
       "<table border=\"1\" class=\"dataframe\">\n",
       "  <thead>\n",
       "    <tr style=\"text-align: right;\">\n",
       "      <th>week</th>\n",
       "      <th>2019-12-30</th>\n",
       "      <th>2020-01-06</th>\n",
       "      <th>2020-01-13</th>\n",
       "      <th>2020-01-20</th>\n",
       "      <th>2020-01-27</th>\n",
       "      <th>2020-02-03</th>\n",
       "      <th>2020-02-10</th>\n",
       "      <th>2020-02-17</th>\n",
       "      <th>2020-02-24</th>\n",
       "      <th>2020-03-02</th>\n",
       "      <th>2020-03-09</th>\n",
       "      <th>2020-03-16</th>\n",
       "      <th>2020-03-23</th>\n",
       "      <th>mean</th>\n",
       "    </tr>\n",
       "    <tr>\n",
       "      <th>first_visit_week</th>\n",
       "      <th></th>\n",
       "      <th></th>\n",
       "      <th></th>\n",
       "      <th></th>\n",
       "      <th></th>\n",
       "      <th></th>\n",
       "      <th></th>\n",
       "      <th></th>\n",
       "      <th></th>\n",
       "      <th></th>\n",
       "      <th></th>\n",
       "      <th></th>\n",
       "      <th></th>\n",
       "      <th></th>\n",
       "    </tr>\n",
       "  </thead>\n",
       "  <tbody>\n",
       "    <tr>\n",
       "      <th>2019-12-30</th>\n",
       "      <td>103150.0</td>\n",
       "      <td>80785.0</td>\n",
       "      <td>70974.0</td>\n",
       "      <td>65218.0</td>\n",
       "      <td>60020.0</td>\n",
       "      <td>53350.0</td>\n",
       "      <td>56307.0</td>\n",
       "      <td>57177.0</td>\n",
       "      <td>50383.0</td>\n",
       "      <td>50142.0</td>\n",
       "      <td>47777.0</td>\n",
       "      <td>44268.0</td>\n",
       "      <td>46697.0</td>\n",
       "      <td>60481.0</td>\n",
       "    </tr>\n",
       "    <tr>\n",
       "      <th>2020-01-06</th>\n",
       "      <td>NaN</td>\n",
       "      <td>183791.0</td>\n",
       "      <td>60800.0</td>\n",
       "      <td>44555.0</td>\n",
       "      <td>37131.0</td>\n",
       "      <td>31138.0</td>\n",
       "      <td>33285.0</td>\n",
       "      <td>34200.0</td>\n",
       "      <td>26683.0</td>\n",
       "      <td>28609.0</td>\n",
       "      <td>24808.0</td>\n",
       "      <td>21467.0</td>\n",
       "      <td>23741.0</td>\n",
       "      <td>45851.0</td>\n",
       "    </tr>\n",
       "    <tr>\n",
       "      <th>2020-01-13</th>\n",
       "      <td>NaN</td>\n",
       "      <td>NaN</td>\n",
       "      <td>175047.0</td>\n",
       "      <td>37592.0</td>\n",
       "      <td>29368.0</td>\n",
       "      <td>23057.0</td>\n",
       "      <td>24666.0</td>\n",
       "      <td>23645.0</td>\n",
       "      <td>17673.0</td>\n",
       "      <td>19551.0</td>\n",
       "      <td>16171.0</td>\n",
       "      <td>13336.0</td>\n",
       "      <td>15307.0</td>\n",
       "      <td>35947.0</td>\n",
       "    </tr>\n",
       "    <tr>\n",
       "      <th>2020-01-20</th>\n",
       "      <td>NaN</td>\n",
       "      <td>NaN</td>\n",
       "      <td>NaN</td>\n",
       "      <td>68588.0</td>\n",
       "      <td>14696.0</td>\n",
       "      <td>10715.0</td>\n",
       "      <td>11630.0</td>\n",
       "      <td>10997.0</td>\n",
       "      <td>7992.0</td>\n",
       "      <td>9028.0</td>\n",
       "      <td>7361.0</td>\n",
       "      <td>5892.0</td>\n",
       "      <td>6997.0</td>\n",
       "      <td>15390.0</td>\n",
       "    </tr>\n",
       "    <tr>\n",
       "      <th>2020-01-27</th>\n",
       "      <td>NaN</td>\n",
       "      <td>NaN</td>\n",
       "      <td>NaN</td>\n",
       "      <td>NaN</td>\n",
       "      <td>71525.0</td>\n",
       "      <td>15746.0</td>\n",
       "      <td>14067.0</td>\n",
       "      <td>12773.0</td>\n",
       "      <td>9807.0</td>\n",
       "      <td>9849.0</td>\n",
       "      <td>7986.0</td>\n",
       "      <td>6834.0</td>\n",
       "      <td>7723.0</td>\n",
       "      <td>17368.0</td>\n",
       "    </tr>\n",
       "    <tr>\n",
       "      <th>2020-02-03</th>\n",
       "      <td>NaN</td>\n",
       "      <td>NaN</td>\n",
       "      <td>NaN</td>\n",
       "      <td>NaN</td>\n",
       "      <td>NaN</td>\n",
       "      <td>60648.0</td>\n",
       "      <td>14756.0</td>\n",
       "      <td>12496.0</td>\n",
       "      <td>8605.0</td>\n",
       "      <td>8908.0</td>\n",
       "      <td>7183.0</td>\n",
       "      <td>6099.0</td>\n",
       "      <td>6954.0</td>\n",
       "      <td>15706.0</td>\n",
       "    </tr>\n",
       "    <tr>\n",
       "      <th>2020-02-10</th>\n",
       "      <td>NaN</td>\n",
       "      <td>NaN</td>\n",
       "      <td>NaN</td>\n",
       "      <td>NaN</td>\n",
       "      <td>NaN</td>\n",
       "      <td>NaN</td>\n",
       "      <td>83766.0</td>\n",
       "      <td>19299.0</td>\n",
       "      <td>11752.0</td>\n",
       "      <td>13204.0</td>\n",
       "      <td>9469.0</td>\n",
       "      <td>7341.0</td>\n",
       "      <td>8467.0</td>\n",
       "      <td>21900.0</td>\n",
       "    </tr>\n",
       "    <tr>\n",
       "      <th>2020-02-17</th>\n",
       "      <td>NaN</td>\n",
       "      <td>NaN</td>\n",
       "      <td>NaN</td>\n",
       "      <td>NaN</td>\n",
       "      <td>NaN</td>\n",
       "      <td>NaN</td>\n",
       "      <td>NaN</td>\n",
       "      <td>63231.0</td>\n",
       "      <td>11578.0</td>\n",
       "      <td>10902.0</td>\n",
       "      <td>7986.0</td>\n",
       "      <td>6157.0</td>\n",
       "      <td>6788.0</td>\n",
       "      <td>17774.0</td>\n",
       "    </tr>\n",
       "    <tr>\n",
       "      <th>2020-02-24</th>\n",
       "      <td>NaN</td>\n",
       "      <td>NaN</td>\n",
       "      <td>NaN</td>\n",
       "      <td>NaN</td>\n",
       "      <td>NaN</td>\n",
       "      <td>NaN</td>\n",
       "      <td>NaN</td>\n",
       "      <td>NaN</td>\n",
       "      <td>27443.0</td>\n",
       "      <td>6988.0</td>\n",
       "      <td>5009.0</td>\n",
       "      <td>3898.0</td>\n",
       "      <td>4185.0</td>\n",
       "      <td>9505.0</td>\n",
       "    </tr>\n",
       "    <tr>\n",
       "      <th>2020-03-02</th>\n",
       "      <td>NaN</td>\n",
       "      <td>NaN</td>\n",
       "      <td>NaN</td>\n",
       "      <td>NaN</td>\n",
       "      <td>NaN</td>\n",
       "      <td>NaN</td>\n",
       "      <td>NaN</td>\n",
       "      <td>NaN</td>\n",
       "      <td>NaN</td>\n",
       "      <td>69164.0</td>\n",
       "      <td>7958.0</td>\n",
       "      <td>5164.0</td>\n",
       "      <td>5910.0</td>\n",
       "      <td>22049.0</td>\n",
       "    </tr>\n",
       "    <tr>\n",
       "      <th>2020-03-09</th>\n",
       "      <td>NaN</td>\n",
       "      <td>NaN</td>\n",
       "      <td>NaN</td>\n",
       "      <td>NaN</td>\n",
       "      <td>NaN</td>\n",
       "      <td>NaN</td>\n",
       "      <td>NaN</td>\n",
       "      <td>NaN</td>\n",
       "      <td>NaN</td>\n",
       "      <td>NaN</td>\n",
       "      <td>25675.0</td>\n",
       "      <td>4903.0</td>\n",
       "      <td>4952.0</td>\n",
       "      <td>11843.0</td>\n",
       "    </tr>\n",
       "    <tr>\n",
       "      <th>2020-03-16</th>\n",
       "      <td>NaN</td>\n",
       "      <td>NaN</td>\n",
       "      <td>NaN</td>\n",
       "      <td>NaN</td>\n",
       "      <td>NaN</td>\n",
       "      <td>NaN</td>\n",
       "      <td>NaN</td>\n",
       "      <td>NaN</td>\n",
       "      <td>NaN</td>\n",
       "      <td>NaN</td>\n",
       "      <td>NaN</td>\n",
       "      <td>42386.0</td>\n",
       "      <td>6498.0</td>\n",
       "      <td>24442.0</td>\n",
       "    </tr>\n",
       "    <tr>\n",
       "      <th>2020-03-23</th>\n",
       "      <td>NaN</td>\n",
       "      <td>NaN</td>\n",
       "      <td>NaN</td>\n",
       "      <td>NaN</td>\n",
       "      <td>NaN</td>\n",
       "      <td>NaN</td>\n",
       "      <td>NaN</td>\n",
       "      <td>NaN</td>\n",
       "      <td>NaN</td>\n",
       "      <td>NaN</td>\n",
       "      <td>NaN</td>\n",
       "      <td>NaN</td>\n",
       "      <td>60862.0</td>\n",
       "      <td>60862.0</td>\n",
       "    </tr>\n",
       "  </tbody>\n",
       "</table>\n",
       "</div>"
      ],
      "text/plain": [
       "week              2019-12-30  2020-01-06  2020-01-13  2020-01-20  2020-01-27  \\\n",
       "first_visit_week                                                               \n",
       "2019-12-30          103150.0     80785.0     70974.0     65218.0     60020.0   \n",
       "2020-01-06               NaN    183791.0     60800.0     44555.0     37131.0   \n",
       "2020-01-13               NaN         NaN    175047.0     37592.0     29368.0   \n",
       "2020-01-20               NaN         NaN         NaN     68588.0     14696.0   \n",
       "2020-01-27               NaN         NaN         NaN         NaN     71525.0   \n",
       "2020-02-03               NaN         NaN         NaN         NaN         NaN   \n",
       "2020-02-10               NaN         NaN         NaN         NaN         NaN   \n",
       "2020-02-17               NaN         NaN         NaN         NaN         NaN   \n",
       "2020-02-24               NaN         NaN         NaN         NaN         NaN   \n",
       "2020-03-02               NaN         NaN         NaN         NaN         NaN   \n",
       "2020-03-09               NaN         NaN         NaN         NaN         NaN   \n",
       "2020-03-16               NaN         NaN         NaN         NaN         NaN   \n",
       "2020-03-23               NaN         NaN         NaN         NaN         NaN   \n",
       "\n",
       "week              2020-02-03  2020-02-10  2020-02-17  2020-02-24  2020-03-02  \\\n",
       "first_visit_week                                                               \n",
       "2019-12-30           53350.0     56307.0     57177.0     50383.0     50142.0   \n",
       "2020-01-06           31138.0     33285.0     34200.0     26683.0     28609.0   \n",
       "2020-01-13           23057.0     24666.0     23645.0     17673.0     19551.0   \n",
       "2020-01-20           10715.0     11630.0     10997.0      7992.0      9028.0   \n",
       "2020-01-27           15746.0     14067.0     12773.0      9807.0      9849.0   \n",
       "2020-02-03           60648.0     14756.0     12496.0      8605.0      8908.0   \n",
       "2020-02-10               NaN     83766.0     19299.0     11752.0     13204.0   \n",
       "2020-02-17               NaN         NaN     63231.0     11578.0     10902.0   \n",
       "2020-02-24               NaN         NaN         NaN     27443.0      6988.0   \n",
       "2020-03-02               NaN         NaN         NaN         NaN     69164.0   \n",
       "2020-03-09               NaN         NaN         NaN         NaN         NaN   \n",
       "2020-03-16               NaN         NaN         NaN         NaN         NaN   \n",
       "2020-03-23               NaN         NaN         NaN         NaN         NaN   \n",
       "\n",
       "week              2020-03-09  2020-03-16  2020-03-23     mean  \n",
       "first_visit_week                                               \n",
       "2019-12-30           47777.0     44268.0     46697.0  60481.0  \n",
       "2020-01-06           24808.0     21467.0     23741.0  45851.0  \n",
       "2020-01-13           16171.0     13336.0     15307.0  35947.0  \n",
       "2020-01-20            7361.0      5892.0      6997.0  15390.0  \n",
       "2020-01-27            7986.0      6834.0      7723.0  17368.0  \n",
       "2020-02-03            7183.0      6099.0      6954.0  15706.0  \n",
       "2020-02-10            9469.0      7341.0      8467.0  21900.0  \n",
       "2020-02-17            7986.0      6157.0      6788.0  17774.0  \n",
       "2020-02-24            5009.0      3898.0      4185.0   9505.0  \n",
       "2020-03-02            7958.0      5164.0      5910.0  22049.0  \n",
       "2020-03-09           25675.0      4903.0      4952.0  11843.0  \n",
       "2020-03-16               NaN     42386.0      6498.0  24442.0  \n",
       "2020-03-23               NaN         NaN     60862.0  60862.0  "
      ]
     },
     "execution_count": 104,
     "metadata": {},
     "output_type": "execute_result"
    }
   ],
   "source": [
    "events_statistic = df.pivot_table(\n",
    "    index='first_visit_week',\n",
    "    columns='week',\n",
    "    values='event',\n",
    "    aggfunc='count'\n",
    ")\n",
    "events_statistic = events_statistic[:-1]\n",
    "events_statistic = events_statistic[events_statistic.columns[:-1]]\n",
    "events_statistic['mean'] = round(events_statistic.mean(axis=1),0)\n",
    "events_statistic"
   ]
  },
  {
   "cell_type": "code",
   "execution_count": 105,
   "metadata": {},
   "outputs": [
    {
     "data": {
      "image/png": "[encoded data removed]",
      "text/plain": [
       "<Figure size 640x480 with 2 Axes>"
      ]
     },
     "metadata": {},
     "output_type": "display_data"
    }
   ],
   "source": [
    "sns.heatmap(events_statistic, cmap='YlGnBu');"
   ]
  },
  {
   "cell_type": "markdown",
   "metadata": {},
   "source": [
    "Мы видим, что и здесь картина схожая, самой активной когортой оказывается по-прежнему первая, с течением времени активность новых когорт снижается.\\\n",
    "Необходимо уделить внимание разработке рекламных акций/спецпредложений, которые способствовали бы увеличению продаж новым клиентам и их вовлечённости в пользование приложением. "
   ]
  },
  {
   "cell_type": "markdown",
   "metadata": {},
   "source": [
    "## 7а) Таблица когорт по неделе регистрации"
   ]
  },
  {
   "cell_type": "markdown",
   "metadata": {},
   "source": [
    "### Определим, регистрируются ли пользователи в день первого посещения"
   ]
  },
  {
   "cell_type": "code",
   "execution_count": 106,
   "metadata": {},
   "outputs": [],
   "source": [
    "# Внесём данные о первом визите в таблицу\n",
    "reg_data = df.copy()\n",
    "reg_data['first_visit'] = reg_data.device_id.apply(lambda x: first_visits[x])\n"
   ]
  },
  {
   "cell_type": "code",
   "execution_count": 145,
   "metadata": {},
   "outputs": [
    {
     "data": {
      "text/html": [
       "<div>\n",
       "<style scoped>\n",
       "    .dataframe tbody tr th:only-of-type {\n",
       "        vertical-align: middle;\n",
       "    }\n",
       "\n",
       "    .dataframe tbody tr th {\n",
       "        vertical-align: top;\n",
       "    }\n",
       "\n",
       "    .dataframe thead th {\n",
       "        text-align: right;\n",
       "    }\n",
       "</style>\n",
       "<table border=\"1\" class=\"dataframe\">\n",
       "  <thead>\n",
       "    <tr style=\"text-align: right;\">\n",
       "      <th></th>\n",
       "      <th>device_id</th>\n",
       "      <th>date</th>\n",
       "      <th>week</th>\n",
       "      <th>event</th>\n",
       "      <th>purchase_sum</th>\n",
       "      <th>os_name</th>\n",
       "      <th>gender</th>\n",
       "      <th>city</th>\n",
       "      <th>utm_source</th>\n",
       "      <th>install_date</th>\n",
       "      <th>install_group</th>\n",
       "      <th>registration_date</th>\n",
       "      <th>registered</th>\n",
       "      <th>first_visit_week</th>\n",
       "      <th>first_visit</th>\n",
       "      <th>reg_group</th>\n",
       "    </tr>\n",
       "  </thead>\n",
       "  <tbody>\n",
       "    <tr>\n",
       "      <th>0</th>\n",
       "      <td>4014</td>\n",
       "      <td>2020-02-01</td>\n",
       "      <td>2020-01-27</td>\n",
       "      <td>register</td>\n",
       "      <td>NaN</td>\n",
       "      <td>android</td>\n",
       "      <td>male</td>\n",
       "      <td>Saint-Petersburg</td>\n",
       "      <td>referal</td>\n",
       "      <td>NaT</td>\n",
       "      <td>other</td>\n",
       "      <td>2020-02-01</td>\n",
       "      <td>0</td>\n",
       "      <td>2019-12-30</td>\n",
       "      <td>2020-01-02</td>\n",
       "      <td>other</td>\n",
       "    </tr>\n",
       "    <tr>\n",
       "      <th>1</th>\n",
       "      <td>4046</td>\n",
       "      <td>2020-01-04</td>\n",
       "      <td>2019-12-30</td>\n",
       "      <td>register</td>\n",
       "      <td>NaN</td>\n",
       "      <td>android</td>\n",
       "      <td>female</td>\n",
       "      <td>Saint-Petersburg</td>\n",
       "      <td>-</td>\n",
       "      <td>2020-01-04</td>\n",
       "      <td>same_day_install</td>\n",
       "      <td>2020-01-04</td>\n",
       "      <td>0</td>\n",
       "      <td>2019-12-30</td>\n",
       "      <td>2020-01-04</td>\n",
       "      <td>same_day</td>\n",
       "    </tr>\n",
       "    <tr>\n",
       "      <th>2</th>\n",
       "      <td>4060</td>\n",
       "      <td>2020-03-07</td>\n",
       "      <td>2020-03-02</td>\n",
       "      <td>register</td>\n",
       "      <td>NaN</td>\n",
       "      <td>ios</td>\n",
       "      <td>male</td>\n",
       "      <td>Saint-Petersburg</td>\n",
       "      <td>yandex-direct</td>\n",
       "      <td>NaT</td>\n",
       "      <td>other</td>\n",
       "      <td>2020-03-07</td>\n",
       "      <td>0</td>\n",
       "      <td>2019-12-30</td>\n",
       "      <td>2020-01-03</td>\n",
       "      <td>other</td>\n",
       "    </tr>\n",
       "    <tr>\n",
       "      <th>3</th>\n",
       "      <td>4067</td>\n",
       "      <td>2020-01-31</td>\n",
       "      <td>2020-01-27</td>\n",
       "      <td>register</td>\n",
       "      <td>NaN</td>\n",
       "      <td>android</td>\n",
       "      <td>male</td>\n",
       "      <td>Saint-Petersburg</td>\n",
       "      <td>-</td>\n",
       "      <td>2020-01-31</td>\n",
       "      <td>same_day_install</td>\n",
       "      <td>2020-01-31</td>\n",
       "      <td>0</td>\n",
       "      <td>2020-01-27</td>\n",
       "      <td>2020-01-31</td>\n",
       "      <td>same_day</td>\n",
       "    </tr>\n",
       "    <tr>\n",
       "      <th>4</th>\n",
       "      <td>4120</td>\n",
       "      <td>2020-01-07</td>\n",
       "      <td>2020-01-06</td>\n",
       "      <td>register</td>\n",
       "      <td>NaN</td>\n",
       "      <td>android</td>\n",
       "      <td>female</td>\n",
       "      <td>Saint-Petersburg</td>\n",
       "      <td>instagram_ads</td>\n",
       "      <td>2020-01-07</td>\n",
       "      <td>same_day_install</td>\n",
       "      <td>2020-01-07</td>\n",
       "      <td>0</td>\n",
       "      <td>2020-01-06</td>\n",
       "      <td>2020-01-07</td>\n",
       "      <td>same_day</td>\n",
       "    </tr>\n",
       "  </tbody>\n",
       "</table>\n",
       "</div>"
      ],
      "text/plain": [
       "   device_id       date        week     event  purchase_sum  os_name  gender  \\\n",
       "0       4014 2020-02-01  2020-01-27  register           NaN  android    male   \n",
       "1       4046 2020-01-04  2019-12-30  register           NaN  android  female   \n",
       "2       4060 2020-03-07  2020-03-02  register           NaN      ios    male   \n",
       "3       4067 2020-01-31  2020-01-27  register           NaN  android    male   \n",
       "4       4120 2020-01-07  2020-01-06  register           NaN  android  female   \n",
       "\n",
       "               city     utm_source install_date     install_group  \\\n",
       "0  Saint-Petersburg        referal          NaT             other   \n",
       "1  Saint-Petersburg              -   2020-01-04  same_day_install   \n",
       "2  Saint-Petersburg  yandex-direct          NaT             other   \n",
       "3  Saint-Petersburg              -   2020-01-31  same_day_install   \n",
       "4  Saint-Petersburg  instagram_ads   2020-01-07  same_day_install   \n",
       "\n",
       "  registration_date  registered first_visit_week first_visit reg_group  \n",
       "0        2020-02-01           0       2019-12-30  2020-01-02     other  \n",
       "1        2020-01-04           0       2019-12-30  2020-01-04  same_day  \n",
       "2        2020-03-07           0       2019-12-30  2020-01-03     other  \n",
       "3        2020-01-31           0       2020-01-27  2020-01-31  same_day  \n",
       "4        2020-01-07           0       2020-01-06  2020-01-07  same_day  "
      ]
     },
     "execution_count": 145,
     "metadata": {},
     "output_type": "execute_result"
    }
   ],
   "source": [
    "# Оставим в таблице только пользователей, прошедших регистрацию.\n",
    "# В отдельном столбце зафиксируем, зарегистрировался ли пользователей в день первого визита.\n",
    "reg_data = reg_data[reg_data.event == 'register'].reset_index(drop=True)\n",
    "reg_data['reg_group'] = np.where(\n",
    "    reg_data.registration_date == reg_data.first_visit, 'same_day', 'other')\n",
    "reg_data.head()"
   ]
  },
  {
   "cell_type": "code",
   "execution_count": 108,
   "metadata": {},
   "outputs": [
    {
     "data": {
      "text/plain": [
       "reg_group\n",
       "other       25908\n",
       "same_day    52402\n",
       "Name: users, dtype: int64"
      ]
     },
     "execution_count": 108,
     "metadata": {},
     "output_type": "execute_result"
    }
   ],
   "source": [
    "# Посчитаем количество пользователей, зарегистрировавшихся в первый же день и зарегистрировавшихся позже\n",
    "grouped = reg_data.groupby('reg_group')['device_id'].count()\n",
    "grouped.name = 'users'\n",
    "grouped"
   ]
  },
  {
   "cell_type": "code",
   "execution_count": 109,
   "metadata": {},
   "outputs": [
    {
     "data": {
      "image/png": "[encoded data removed]",
      "text/plain": [
       "<Figure size 640x480 with 1 Axes>"
      ]
     },
     "metadata": {},
     "output_type": "display_data"
    }
   ],
   "source": [
    "grouped.plot(kind='pie', autopct='%1.0f%%');"
   ]
  },
  {
   "cell_type": "markdown",
   "metadata": {},
   "source": [
    "Мы видим, что треть пользователей всё же откладывают регистрацию на потом. "
   ]
  },
  {
   "cell_type": "markdown",
   "metadata": {},
   "source": [
    "\n",
    "### Выясним, какая когорта по неделе регистрации принесла больше всего денег"
   ]
  },
  {
   "cell_type": "markdown",
   "metadata": {},
   "source": [
    "Создадим отдельный столбец для недели регистрации и посмотрим размер выручки в зависимости от давности регистрации,\\\n",
    "а также вычислим общую выручку для каждой когорты за весь период:"
   ]
  },
  {
   "cell_type": "code",
   "execution_count": 135,
   "metadata": {},
   "outputs": [
    {
     "data": {
      "text/html": [
       "<div>\n",
       "<style scoped>\n",
       "    .dataframe tbody tr th:only-of-type {\n",
       "        vertical-align: middle;\n",
       "    }\n",
       "\n",
       "    .dataframe tbody tr th {\n",
       "        vertical-align: top;\n",
       "    }\n",
       "\n",
       "    .dataframe thead th {\n",
       "        text-align: right;\n",
       "    }\n",
       "</style>\n",
       "<table border=\"1\" class=\"dataframe\">\n",
       "  <thead>\n",
       "    <tr style=\"text-align: right;\">\n",
       "      <th>week</th>\n",
       "      <th>2019-12-30</th>\n",
       "      <th>2020-01-06</th>\n",
       "      <th>2020-01-13</th>\n",
       "      <th>2020-01-20</th>\n",
       "      <th>2020-01-27</th>\n",
       "      <th>2020-02-03</th>\n",
       "      <th>2020-02-10</th>\n",
       "      <th>2020-02-17</th>\n",
       "      <th>2020-02-24</th>\n",
       "      <th>2020-03-02</th>\n",
       "      <th>2020-03-09</th>\n",
       "      <th>2020-03-16</th>\n",
       "      <th>2020-03-23</th>\n",
       "      <th>total</th>\n",
       "    </tr>\n",
       "    <tr>\n",
       "      <th>reg_week</th>\n",
       "      <th></th>\n",
       "      <th></th>\n",
       "      <th></th>\n",
       "      <th></th>\n",
       "      <th></th>\n",
       "      <th></th>\n",
       "      <th></th>\n",
       "      <th></th>\n",
       "      <th></th>\n",
       "      <th></th>\n",
       "      <th></th>\n",
       "      <th></th>\n",
       "      <th></th>\n",
       "      <th></th>\n",
       "    </tr>\n",
       "  </thead>\n",
       "  <tbody>\n",
       "    <tr>\n",
       "      <th>2019-12-30</th>\n",
       "      <td>3558860.5</td>\n",
       "      <td>1393044.0</td>\n",
       "      <td>1143869.5</td>\n",
       "      <td>1059036.5</td>\n",
       "      <td>888468.0</td>\n",
       "      <td>779835.0</td>\n",
       "      <td>739805.0</td>\n",
       "      <td>734579.5</td>\n",
       "      <td>668602.0</td>\n",
       "      <td>669802.5</td>\n",
       "      <td>582775.5</td>\n",
       "      <td>571773.5</td>\n",
       "      <td>647008.0</td>\n",
       "      <td>13437460.0</td>\n",
       "    </tr>\n",
       "    <tr>\n",
       "      <th>2020-01-06</th>\n",
       "      <td>NaN</td>\n",
       "      <td>8781471.0</td>\n",
       "      <td>1887320.0</td>\n",
       "      <td>1487879.5</td>\n",
       "      <td>1348480.5</td>\n",
       "      <td>1017802.0</td>\n",
       "      <td>1043808.5</td>\n",
       "      <td>987917.0</td>\n",
       "      <td>923694.5</td>\n",
       "      <td>766347.5</td>\n",
       "      <td>749529.0</td>\n",
       "      <td>562028.0</td>\n",
       "      <td>680298.5</td>\n",
       "      <td>20236576.0</td>\n",
       "    </tr>\n",
       "    <tr>\n",
       "      <th>2020-01-13</th>\n",
       "      <td>NaN</td>\n",
       "      <td>NaN</td>\n",
       "      <td>10322171.5</td>\n",
       "      <td>1663056.0</td>\n",
       "      <td>1229793.5</td>\n",
       "      <td>884512.5</td>\n",
       "      <td>824195.0</td>\n",
       "      <td>723470.0</td>\n",
       "      <td>722463.0</td>\n",
       "      <td>627450.5</td>\n",
       "      <td>579447.5</td>\n",
       "      <td>418022.5</td>\n",
       "      <td>506933.5</td>\n",
       "      <td>18501516.0</td>\n",
       "    </tr>\n",
       "    <tr>\n",
       "      <th>2020-01-20</th>\n",
       "      <td>NaN</td>\n",
       "      <td>NaN</td>\n",
       "      <td>NaN</td>\n",
       "      <td>4616685.5</td>\n",
       "      <td>759040.5</td>\n",
       "      <td>527122.5</td>\n",
       "      <td>491580.5</td>\n",
       "      <td>532274.5</td>\n",
       "      <td>455479.0</td>\n",
       "      <td>368272.0</td>\n",
       "      <td>335502.5</td>\n",
       "      <td>285831.5</td>\n",
       "      <td>291269.0</td>\n",
       "      <td>8663058.0</td>\n",
       "    </tr>\n",
       "    <tr>\n",
       "      <th>2020-01-27</th>\n",
       "      <td>NaN</td>\n",
       "      <td>NaN</td>\n",
       "      <td>NaN</td>\n",
       "      <td>NaN</td>\n",
       "      <td>4121545.5</td>\n",
       "      <td>613341.0</td>\n",
       "      <td>448318.5</td>\n",
       "      <td>475363.5</td>\n",
       "      <td>402434.5</td>\n",
       "      <td>319081.5</td>\n",
       "      <td>277602.0</td>\n",
       "      <td>237103.5</td>\n",
       "      <td>274454.0</td>\n",
       "      <td>7169244.0</td>\n",
       "    </tr>\n",
       "    <tr>\n",
       "      <th>2020-02-03</th>\n",
       "      <td>NaN</td>\n",
       "      <td>NaN</td>\n",
       "      <td>NaN</td>\n",
       "      <td>NaN</td>\n",
       "      <td>NaN</td>\n",
       "      <td>3696992.5</td>\n",
       "      <td>556462.0</td>\n",
       "      <td>488309.0</td>\n",
       "      <td>391046.0</td>\n",
       "      <td>290407.5</td>\n",
       "      <td>308299.0</td>\n",
       "      <td>188107.0</td>\n",
       "      <td>226104.5</td>\n",
       "      <td>6145728.0</td>\n",
       "    </tr>\n",
       "    <tr>\n",
       "      <th>2020-02-10</th>\n",
       "      <td>NaN</td>\n",
       "      <td>NaN</td>\n",
       "      <td>NaN</td>\n",
       "      <td>NaN</td>\n",
       "      <td>NaN</td>\n",
       "      <td>NaN</td>\n",
       "      <td>4345239.5</td>\n",
       "      <td>608469.5</td>\n",
       "      <td>466225.5</td>\n",
       "      <td>352933.0</td>\n",
       "      <td>280031.0</td>\n",
       "      <td>222691.5</td>\n",
       "      <td>269059.5</td>\n",
       "      <td>6544650.0</td>\n",
       "    </tr>\n",
       "    <tr>\n",
       "      <th>2020-02-17</th>\n",
       "      <td>NaN</td>\n",
       "      <td>NaN</td>\n",
       "      <td>NaN</td>\n",
       "      <td>NaN</td>\n",
       "      <td>NaN</td>\n",
       "      <td>NaN</td>\n",
       "      <td>NaN</td>\n",
       "      <td>3405786.0</td>\n",
       "      <td>519216.0</td>\n",
       "      <td>457163.0</td>\n",
       "      <td>312978.5</td>\n",
       "      <td>245207.5</td>\n",
       "      <td>233919.5</td>\n",
       "      <td>5174270.0</td>\n",
       "    </tr>\n",
       "    <tr>\n",
       "      <th>2020-02-24</th>\n",
       "      <td>NaN</td>\n",
       "      <td>NaN</td>\n",
       "      <td>NaN</td>\n",
       "      <td>NaN</td>\n",
       "      <td>NaN</td>\n",
       "      <td>NaN</td>\n",
       "      <td>NaN</td>\n",
       "      <td>NaN</td>\n",
       "      <td>1884798.0</td>\n",
       "      <td>408627.0</td>\n",
       "      <td>242142.5</td>\n",
       "      <td>139631.0</td>\n",
       "      <td>191542.0</td>\n",
       "      <td>2866740.0</td>\n",
       "    </tr>\n",
       "    <tr>\n",
       "      <th>2020-03-02</th>\n",
       "      <td>NaN</td>\n",
       "      <td>NaN</td>\n",
       "      <td>NaN</td>\n",
       "      <td>NaN</td>\n",
       "      <td>NaN</td>\n",
       "      <td>NaN</td>\n",
       "      <td>NaN</td>\n",
       "      <td>NaN</td>\n",
       "      <td>NaN</td>\n",
       "      <td>2696585.5</td>\n",
       "      <td>330299.5</td>\n",
       "      <td>191714.0</td>\n",
       "      <td>219153.5</td>\n",
       "      <td>3437752.0</td>\n",
       "    </tr>\n",
       "    <tr>\n",
       "      <th>2020-03-09</th>\n",
       "      <td>NaN</td>\n",
       "      <td>NaN</td>\n",
       "      <td>NaN</td>\n",
       "      <td>NaN</td>\n",
       "      <td>NaN</td>\n",
       "      <td>NaN</td>\n",
       "      <td>NaN</td>\n",
       "      <td>NaN</td>\n",
       "      <td>NaN</td>\n",
       "      <td>NaN</td>\n",
       "      <td>1549301.5</td>\n",
       "      <td>212512.0</td>\n",
       "      <td>212756.0</td>\n",
       "      <td>1974570.0</td>\n",
       "    </tr>\n",
       "    <tr>\n",
       "      <th>2020-03-16</th>\n",
       "      <td>NaN</td>\n",
       "      <td>NaN</td>\n",
       "      <td>NaN</td>\n",
       "      <td>NaN</td>\n",
       "      <td>NaN</td>\n",
       "      <td>NaN</td>\n",
       "      <td>NaN</td>\n",
       "      <td>NaN</td>\n",
       "      <td>NaN</td>\n",
       "      <td>NaN</td>\n",
       "      <td>NaN</td>\n",
       "      <td>1694312.0</td>\n",
       "      <td>246202.0</td>\n",
       "      <td>1940514.0</td>\n",
       "    </tr>\n",
       "    <tr>\n",
       "      <th>2020-03-23</th>\n",
       "      <td>NaN</td>\n",
       "      <td>NaN</td>\n",
       "      <td>NaN</td>\n",
       "      <td>NaN</td>\n",
       "      <td>NaN</td>\n",
       "      <td>NaN</td>\n",
       "      <td>NaN</td>\n",
       "      <td>NaN</td>\n",
       "      <td>NaN</td>\n",
       "      <td>NaN</td>\n",
       "      <td>NaN</td>\n",
       "      <td>NaN</td>\n",
       "      <td>2689472.0</td>\n",
       "      <td>2689472.0</td>\n",
       "    </tr>\n",
       "  </tbody>\n",
       "</table>\n",
       "</div>"
      ],
      "text/plain": [
       "week        2019-12-30  2020-01-06  2020-01-13  2020-01-20  2020-01-27  \\\n",
       "reg_week                                                                 \n",
       "2019-12-30   3558860.5   1393044.0   1143869.5   1059036.5    888468.0   \n",
       "2020-01-06         NaN   8781471.0   1887320.0   1487879.5   1348480.5   \n",
       "2020-01-13         NaN         NaN  10322171.5   1663056.0   1229793.5   \n",
       "2020-01-20         NaN         NaN         NaN   4616685.5    759040.5   \n",
       "2020-01-27         NaN         NaN         NaN         NaN   4121545.5   \n",
       "2020-02-03         NaN         NaN         NaN         NaN         NaN   \n",
       "2020-02-10         NaN         NaN         NaN         NaN         NaN   \n",
       "2020-02-17         NaN         NaN         NaN         NaN         NaN   \n",
       "2020-02-24         NaN         NaN         NaN         NaN         NaN   \n",
       "2020-03-02         NaN         NaN         NaN         NaN         NaN   \n",
       "2020-03-09         NaN         NaN         NaN         NaN         NaN   \n",
       "2020-03-16         NaN         NaN         NaN         NaN         NaN   \n",
       "2020-03-23         NaN         NaN         NaN         NaN         NaN   \n",
       "\n",
       "week        2020-02-03  2020-02-10  2020-02-17  2020-02-24  2020-03-02  \\\n",
       "reg_week                                                                 \n",
       "2019-12-30    779835.0    739805.0    734579.5    668602.0    669802.5   \n",
       "2020-01-06   1017802.0   1043808.5    987917.0    923694.5    766347.5   \n",
       "2020-01-13    884512.5    824195.0    723470.0    722463.0    627450.5   \n",
       "2020-01-20    527122.5    491580.5    532274.5    455479.0    368272.0   \n",
       "2020-01-27    613341.0    448318.5    475363.5    402434.5    319081.5   \n",
       "2020-02-03   3696992.5    556462.0    488309.0    391046.0    290407.5   \n",
       "2020-02-10         NaN   4345239.5    608469.5    466225.5    352933.0   \n",
       "2020-02-17         NaN         NaN   3405786.0    519216.0    457163.0   \n",
       "2020-02-24         NaN         NaN         NaN   1884798.0    408627.0   \n",
       "2020-03-02         NaN         NaN         NaN         NaN   2696585.5   \n",
       "2020-03-09         NaN         NaN         NaN         NaN         NaN   \n",
       "2020-03-16         NaN         NaN         NaN         NaN         NaN   \n",
       "2020-03-23         NaN         NaN         NaN         NaN         NaN   \n",
       "\n",
       "week        2020-03-09  2020-03-16  2020-03-23       total  \n",
       "reg_week                                                    \n",
       "2019-12-30    582775.5    571773.5    647008.0  13437460.0  \n",
       "2020-01-06    749529.0    562028.0    680298.5  20236576.0  \n",
       "2020-01-13    579447.5    418022.5    506933.5  18501516.0  \n",
       "2020-01-20    335502.5    285831.5    291269.0   8663058.0  \n",
       "2020-01-27    277602.0    237103.5    274454.0   7169244.0  \n",
       "2020-02-03    308299.0    188107.0    226104.5   6145728.0  \n",
       "2020-02-10    280031.0    222691.5    269059.5   6544650.0  \n",
       "2020-02-17    312978.5    245207.5    233919.5   5174270.0  \n",
       "2020-02-24    242142.5    139631.0    191542.0   2866740.0  \n",
       "2020-03-02    330299.5    191714.0    219153.5   3437752.0  \n",
       "2020-03-09   1549301.5    212512.0    212756.0   1974570.0  \n",
       "2020-03-16         NaN   1694312.0    246202.0   1940514.0  \n",
       "2020-03-23         NaN         NaN   2689472.0   2689472.0  "
      ]
     },
     "execution_count": 135,
     "metadata": {},
     "output_type": "execute_result"
    }
   ],
   "source": [
    "df['reg_week'] = (\n",
    "    df.registration_date - df.registration_date.dt.weekday * np.timedelta64(1, 'D')\n",
    "    ).dt.date\n",
    "\n",
    "revenue_statistic = df[df.event=='purchase'].pivot_table(\n",
    "    index='reg_week',\n",
    "    columns='week',\n",
    "    values='purchase_sum',\n",
    "    aggfunc='sum'\n",
    ")\n",
    "revenue_statistic = revenue_statistic[:-1]\n",
    "revenue_statistic = revenue_statistic[revenue_statistic.columns[:-1]]\n",
    "revenue_statistic['total'] = round(revenue_statistic.sum(axis=1), 0)\n",
    "revenue_statistic"
   ]
  },
  {
   "cell_type": "code",
   "execution_count": 111,
   "metadata": {},
   "outputs": [
    {
     "data": {
      "image/png": "[encoded data removed]",
      "text/plain": [
       "<Figure size 640x480 with 2 Axes>"
      ]
     },
     "metadata": {},
     "output_type": "display_data"
    }
   ],
   "source": [
    "sns.heatmap(revenue_statistic, cmap='YlOrRd');"
   ]
  },
  {
   "cell_type": "markdown",
   "metadata": {},
   "source": [
    "Мы видим, что когорта второй недели (от 06.01.2020) принесла больше всего выручки, \\\n",
    "и также можем видеть по таблице, что первые три когорты в целом тратят больше денег в неделю по сравнению с теми, \\\n",
    "кто зарегистрировался в последующие недели."
   ]
  },
  {
   "cell_type": "markdown",
   "metadata": {},
   "source": [
    "## 8) Таблица когорт по неделе первой покупки и расчёт медианного чека"
   ]
  },
  {
   "cell_type": "markdown",
   "metadata": {},
   "source": [
    "Добавим в таблицу столбец нелели первой покупки и построим сводную таблицу, отражающую изменение медианного чека по неделям в разных когортах."
   ]
  },
  {
   "cell_type": "code",
   "execution_count": 136,
   "metadata": {},
   "outputs": [],
   "source": [
    "first_purchases = (df[df.event=='purchase']\n",
    "                   .groupby('device_id')['date'].min().reset_index())\n",
    "first_purchases = dict(zip(first_purchases.device_id, first_purchases.date))\n",
    "df['first_purch_week'] = df.device_id.apply(\n",
    "    lambda x: first_purchases[x] if x in first_purchases else None\n",
    "    )\n",
    "df['first_purch_week'] = (\n",
    "    df.first_purch_week - df.first_purch_week.dt.weekday * np.timedelta64(1,'D')\n",
    "    ).dt.date"
   ]
  },
  {
   "cell_type": "code",
   "execution_count": 113,
   "metadata": {},
   "outputs": [
    {
     "data": {
      "text/html": [
       "<div>\n",
       "<style scoped>\n",
       "    .dataframe tbody tr th:only-of-type {\n",
       "        vertical-align: middle;\n",
       "    }\n",
       "\n",
       "    .dataframe tbody tr th {\n",
       "        vertical-align: top;\n",
       "    }\n",
       "\n",
       "    .dataframe thead th {\n",
       "        text-align: right;\n",
       "    }\n",
       "</style>\n",
       "<table border=\"1\" class=\"dataframe\">\n",
       "  <thead>\n",
       "    <tr style=\"text-align: right;\">\n",
       "      <th>week</th>\n",
       "      <th>2019-12-30</th>\n",
       "      <th>2020-01-06</th>\n",
       "      <th>2020-01-13</th>\n",
       "      <th>2020-01-20</th>\n",
       "      <th>2020-01-27</th>\n",
       "      <th>2020-02-03</th>\n",
       "      <th>2020-02-10</th>\n",
       "      <th>2020-02-17</th>\n",
       "      <th>2020-02-24</th>\n",
       "      <th>2020-03-02</th>\n",
       "      <th>2020-03-09</th>\n",
       "      <th>2020-03-16</th>\n",
       "      <th>2020-03-23</th>\n",
       "    </tr>\n",
       "    <tr>\n",
       "      <th>first_purch_week</th>\n",
       "      <th></th>\n",
       "      <th></th>\n",
       "      <th></th>\n",
       "      <th></th>\n",
       "      <th></th>\n",
       "      <th></th>\n",
       "      <th></th>\n",
       "      <th></th>\n",
       "      <th></th>\n",
       "      <th></th>\n",
       "      <th></th>\n",
       "      <th></th>\n",
       "      <th></th>\n",
       "    </tr>\n",
       "  </thead>\n",
       "  <tbody>\n",
       "    <tr>\n",
       "      <th>2019-12-30</th>\n",
       "      <td>395.0</td>\n",
       "      <td>390.5</td>\n",
       "      <td>391.5</td>\n",
       "      <td>369.5</td>\n",
       "      <td>392.00</td>\n",
       "      <td>394.75</td>\n",
       "      <td>382.00</td>\n",
       "      <td>375.50</td>\n",
       "      <td>399.50</td>\n",
       "      <td>385.00</td>\n",
       "      <td>402.50</td>\n",
       "      <td>405.50</td>\n",
       "      <td>400.50</td>\n",
       "    </tr>\n",
       "    <tr>\n",
       "      <th>2020-01-06</th>\n",
       "      <td>NaN</td>\n",
       "      <td>396.0</td>\n",
       "      <td>396.0</td>\n",
       "      <td>393.5</td>\n",
       "      <td>388.25</td>\n",
       "      <td>402.50</td>\n",
       "      <td>411.00</td>\n",
       "      <td>371.00</td>\n",
       "      <td>420.25</td>\n",
       "      <td>385.50</td>\n",
       "      <td>385.50</td>\n",
       "      <td>377.50</td>\n",
       "      <td>410.00</td>\n",
       "    </tr>\n",
       "    <tr>\n",
       "      <th>2020-01-13</th>\n",
       "      <td>NaN</td>\n",
       "      <td>NaN</td>\n",
       "      <td>389.5</td>\n",
       "      <td>392.0</td>\n",
       "      <td>390.00</td>\n",
       "      <td>398.50</td>\n",
       "      <td>391.00</td>\n",
       "      <td>385.25</td>\n",
       "      <td>396.50</td>\n",
       "      <td>400.75</td>\n",
       "      <td>400.50</td>\n",
       "      <td>397.00</td>\n",
       "      <td>411.00</td>\n",
       "    </tr>\n",
       "    <tr>\n",
       "      <th>2020-01-20</th>\n",
       "      <td>NaN</td>\n",
       "      <td>NaN</td>\n",
       "      <td>NaN</td>\n",
       "      <td>397.5</td>\n",
       "      <td>404.00</td>\n",
       "      <td>366.50</td>\n",
       "      <td>377.00</td>\n",
       "      <td>384.50</td>\n",
       "      <td>395.50</td>\n",
       "      <td>397.50</td>\n",
       "      <td>406.25</td>\n",
       "      <td>388.00</td>\n",
       "      <td>375.00</td>\n",
       "    </tr>\n",
       "    <tr>\n",
       "      <th>2020-01-27</th>\n",
       "      <td>NaN</td>\n",
       "      <td>NaN</td>\n",
       "      <td>NaN</td>\n",
       "      <td>NaN</td>\n",
       "      <td>394.75</td>\n",
       "      <td>389.00</td>\n",
       "      <td>386.50</td>\n",
       "      <td>397.00</td>\n",
       "      <td>389.75</td>\n",
       "      <td>385.50</td>\n",
       "      <td>393.50</td>\n",
       "      <td>392.00</td>\n",
       "      <td>401.00</td>\n",
       "    </tr>\n",
       "    <tr>\n",
       "      <th>2020-02-03</th>\n",
       "      <td>NaN</td>\n",
       "      <td>NaN</td>\n",
       "      <td>NaN</td>\n",
       "      <td>NaN</td>\n",
       "      <td>NaN</td>\n",
       "      <td>398.00</td>\n",
       "      <td>410.25</td>\n",
       "      <td>404.25</td>\n",
       "      <td>381.25</td>\n",
       "      <td>419.00</td>\n",
       "      <td>409.00</td>\n",
       "      <td>387.00</td>\n",
       "      <td>357.00</td>\n",
       "    </tr>\n",
       "    <tr>\n",
       "      <th>2020-02-10</th>\n",
       "      <td>NaN</td>\n",
       "      <td>NaN</td>\n",
       "      <td>NaN</td>\n",
       "      <td>NaN</td>\n",
       "      <td>NaN</td>\n",
       "      <td>NaN</td>\n",
       "      <td>397.00</td>\n",
       "      <td>380.25</td>\n",
       "      <td>396.50</td>\n",
       "      <td>403.00</td>\n",
       "      <td>431.25</td>\n",
       "      <td>421.00</td>\n",
       "      <td>382.00</td>\n",
       "    </tr>\n",
       "    <tr>\n",
       "      <th>2020-02-17</th>\n",
       "      <td>NaN</td>\n",
       "      <td>NaN</td>\n",
       "      <td>NaN</td>\n",
       "      <td>NaN</td>\n",
       "      <td>NaN</td>\n",
       "      <td>NaN</td>\n",
       "      <td>NaN</td>\n",
       "      <td>392.00</td>\n",
       "      <td>392.00</td>\n",
       "      <td>388.25</td>\n",
       "      <td>391.50</td>\n",
       "      <td>421.50</td>\n",
       "      <td>407.00</td>\n",
       "    </tr>\n",
       "    <tr>\n",
       "      <th>2020-02-24</th>\n",
       "      <td>NaN</td>\n",
       "      <td>NaN</td>\n",
       "      <td>NaN</td>\n",
       "      <td>NaN</td>\n",
       "      <td>NaN</td>\n",
       "      <td>NaN</td>\n",
       "      <td>NaN</td>\n",
       "      <td>NaN</td>\n",
       "      <td>383.00</td>\n",
       "      <td>415.50</td>\n",
       "      <td>415.50</td>\n",
       "      <td>375.50</td>\n",
       "      <td>409.50</td>\n",
       "    </tr>\n",
       "    <tr>\n",
       "      <th>2020-03-02</th>\n",
       "      <td>NaN</td>\n",
       "      <td>NaN</td>\n",
       "      <td>NaN</td>\n",
       "      <td>NaN</td>\n",
       "      <td>NaN</td>\n",
       "      <td>NaN</td>\n",
       "      <td>NaN</td>\n",
       "      <td>NaN</td>\n",
       "      <td>NaN</td>\n",
       "      <td>393.50</td>\n",
       "      <td>403.50</td>\n",
       "      <td>409.00</td>\n",
       "      <td>399.50</td>\n",
       "    </tr>\n",
       "    <tr>\n",
       "      <th>2020-03-09</th>\n",
       "      <td>NaN</td>\n",
       "      <td>NaN</td>\n",
       "      <td>NaN</td>\n",
       "      <td>NaN</td>\n",
       "      <td>NaN</td>\n",
       "      <td>NaN</td>\n",
       "      <td>NaN</td>\n",
       "      <td>NaN</td>\n",
       "      <td>NaN</td>\n",
       "      <td>NaN</td>\n",
       "      <td>400.50</td>\n",
       "      <td>365.75</td>\n",
       "      <td>388.50</td>\n",
       "    </tr>\n",
       "    <tr>\n",
       "      <th>2020-03-16</th>\n",
       "      <td>NaN</td>\n",
       "      <td>NaN</td>\n",
       "      <td>NaN</td>\n",
       "      <td>NaN</td>\n",
       "      <td>NaN</td>\n",
       "      <td>NaN</td>\n",
       "      <td>NaN</td>\n",
       "      <td>NaN</td>\n",
       "      <td>NaN</td>\n",
       "      <td>NaN</td>\n",
       "      <td>NaN</td>\n",
       "      <td>390.50</td>\n",
       "      <td>431.50</td>\n",
       "    </tr>\n",
       "    <tr>\n",
       "      <th>2020-03-23</th>\n",
       "      <td>NaN</td>\n",
       "      <td>NaN</td>\n",
       "      <td>NaN</td>\n",
       "      <td>NaN</td>\n",
       "      <td>NaN</td>\n",
       "      <td>NaN</td>\n",
       "      <td>NaN</td>\n",
       "      <td>NaN</td>\n",
       "      <td>NaN</td>\n",
       "      <td>NaN</td>\n",
       "      <td>NaN</td>\n",
       "      <td>NaN</td>\n",
       "      <td>395.75</td>\n",
       "    </tr>\n",
       "  </tbody>\n",
       "</table>\n",
       "</div>"
      ],
      "text/plain": [
       "week              2019-12-30  2020-01-06  2020-01-13  2020-01-20  2020-01-27  \\\n",
       "first_purch_week                                                               \n",
       "2019-12-30             395.0       390.5       391.5       369.5      392.00   \n",
       "2020-01-06               NaN       396.0       396.0       393.5      388.25   \n",
       "2020-01-13               NaN         NaN       389.5       392.0      390.00   \n",
       "2020-01-20               NaN         NaN         NaN       397.5      404.00   \n",
       "2020-01-27               NaN         NaN         NaN         NaN      394.75   \n",
       "2020-02-03               NaN         NaN         NaN         NaN         NaN   \n",
       "2020-02-10               NaN         NaN         NaN         NaN         NaN   \n",
       "2020-02-17               NaN         NaN         NaN         NaN         NaN   \n",
       "2020-02-24               NaN         NaN         NaN         NaN         NaN   \n",
       "2020-03-02               NaN         NaN         NaN         NaN         NaN   \n",
       "2020-03-09               NaN         NaN         NaN         NaN         NaN   \n",
       "2020-03-16               NaN         NaN         NaN         NaN         NaN   \n",
       "2020-03-23               NaN         NaN         NaN         NaN         NaN   \n",
       "\n",
       "week              2020-02-03  2020-02-10  2020-02-17  2020-02-24  2020-03-02  \\\n",
       "first_purch_week                                                               \n",
       "2019-12-30            394.75      382.00      375.50      399.50      385.00   \n",
       "2020-01-06            402.50      411.00      371.00      420.25      385.50   \n",
       "2020-01-13            398.50      391.00      385.25      396.50      400.75   \n",
       "2020-01-20            366.50      377.00      384.50      395.50      397.50   \n",
       "2020-01-27            389.00      386.50      397.00      389.75      385.50   \n",
       "2020-02-03            398.00      410.25      404.25      381.25      419.00   \n",
       "2020-02-10               NaN      397.00      380.25      396.50      403.00   \n",
       "2020-02-17               NaN         NaN      392.00      392.00      388.25   \n",
       "2020-02-24               NaN         NaN         NaN      383.00      415.50   \n",
       "2020-03-02               NaN         NaN         NaN         NaN      393.50   \n",
       "2020-03-09               NaN         NaN         NaN         NaN         NaN   \n",
       "2020-03-16               NaN         NaN         NaN         NaN         NaN   \n",
       "2020-03-23               NaN         NaN         NaN         NaN         NaN   \n",
       "\n",
       "week              2020-03-09  2020-03-16  2020-03-23  \n",
       "first_purch_week                                      \n",
       "2019-12-30            402.50      405.50      400.50  \n",
       "2020-01-06            385.50      377.50      410.00  \n",
       "2020-01-13            400.50      397.00      411.00  \n",
       "2020-01-20            406.25      388.00      375.00  \n",
       "2020-01-27            393.50      392.00      401.00  \n",
       "2020-02-03            409.00      387.00      357.00  \n",
       "2020-02-10            431.25      421.00      382.00  \n",
       "2020-02-17            391.50      421.50      407.00  \n",
       "2020-02-24            415.50      375.50      409.50  \n",
       "2020-03-02            403.50      409.00      399.50  \n",
       "2020-03-09            400.50      365.75      388.50  \n",
       "2020-03-16               NaN      390.50      431.50  \n",
       "2020-03-23               NaN         NaN      395.75  "
      ]
     },
     "execution_count": 113,
     "metadata": {},
     "output_type": "execute_result"
    }
   ],
   "source": [
    "median_bill = df[df.event == 'purchase'].pivot_table(\n",
    "    index='first_purch_week',\n",
    "    columns='week',\n",
    "    values='purchase_sum',\n",
    "    aggfunc='median'\n",
    ")\n",
    "median_bill = median_bill[:-1]\n",
    "median_bill = median_bill[median_bill.columns[:-1]]\n",
    "median_bill"
   ]
  },
  {
   "cell_type": "code",
   "execution_count": 114,
   "metadata": {},
   "outputs": [
    {
     "data": {
      "image/png": "[encoded data removed]",
      "text/plain": [
       "<Figure size 640x480 with 2 Axes>"
      ]
     },
     "metadata": {},
     "output_type": "display_data"
    }
   ],
   "source": [
    "sns.heatmap(median_bill, cmap='YlOrBr');"
   ]
  },
  {
   "cell_type": "markdown",
   "metadata": {},
   "source": [
    "Величина медианного чека обладает в целом некоторой стабильностью - он колеблется в целом в пределах 380 - 420 руб., \\\n",
    "но самый высокий медианный чек на неделе первой покупки наблюдается у когорты от 09.03.2020 (около 400 руб.) "
   ]
  },
  {
   "cell_type": "markdown",
   "metadata": {},
   "source": [
    "Посмотрим на покупательскую активность когорт и вычислим количество покупок для каждой когорты по неделям"
   ]
  },
  {
   "cell_type": "code",
   "execution_count": 115,
   "metadata": {},
   "outputs": [
    {
     "data": {
      "text/html": [
       "<div>\n",
       "<style scoped>\n",
       "    .dataframe tbody tr th:only-of-type {\n",
       "        vertical-align: middle;\n",
       "    }\n",
       "\n",
       "    .dataframe tbody tr th {\n",
       "        vertical-align: top;\n",
       "    }\n",
       "\n",
       "    .dataframe thead th {\n",
       "        text-align: right;\n",
       "    }\n",
       "</style>\n",
       "<table border=\"1\" class=\"dataframe\">\n",
       "  <thead>\n",
       "    <tr style=\"text-align: right;\">\n",
       "      <th>week</th>\n",
       "      <th>2019-12-30</th>\n",
       "      <th>2020-01-06</th>\n",
       "      <th>2020-01-13</th>\n",
       "      <th>2020-01-20</th>\n",
       "      <th>2020-01-27</th>\n",
       "      <th>2020-02-03</th>\n",
       "      <th>2020-02-10</th>\n",
       "      <th>2020-02-17</th>\n",
       "      <th>2020-02-24</th>\n",
       "      <th>2020-03-02</th>\n",
       "      <th>2020-03-09</th>\n",
       "      <th>2020-03-16</th>\n",
       "      <th>2020-03-23</th>\n",
       "    </tr>\n",
       "    <tr>\n",
       "      <th>first_purch_week</th>\n",
       "      <th></th>\n",
       "      <th></th>\n",
       "      <th></th>\n",
       "      <th></th>\n",
       "      <th></th>\n",
       "      <th></th>\n",
       "      <th></th>\n",
       "      <th></th>\n",
       "      <th></th>\n",
       "      <th></th>\n",
       "      <th></th>\n",
       "      <th></th>\n",
       "      <th></th>\n",
       "    </tr>\n",
       "  </thead>\n",
       "  <tbody>\n",
       "    <tr>\n",
       "      <th>2019-12-30</th>\n",
       "      <td>5042.0</td>\n",
       "      <td>1788.0</td>\n",
       "      <td>1439.0</td>\n",
       "      <td>1213.0</td>\n",
       "      <td>1148.0</td>\n",
       "      <td>928.0</td>\n",
       "      <td>947.0</td>\n",
       "      <td>899.0</td>\n",
       "      <td>827.0</td>\n",
       "      <td>826.0</td>\n",
       "      <td>765.0</td>\n",
       "      <td>683.0</td>\n",
       "      <td>766.0</td>\n",
       "    </tr>\n",
       "    <tr>\n",
       "      <th>2020-01-06</th>\n",
       "      <td>NaN</td>\n",
       "      <td>12564.0</td>\n",
       "      <td>2701.0</td>\n",
       "      <td>1892.0</td>\n",
       "      <td>1608.0</td>\n",
       "      <td>1308.0</td>\n",
       "      <td>1391.0</td>\n",
       "      <td>1305.0</td>\n",
       "      <td>1140.0</td>\n",
       "      <td>1145.0</td>\n",
       "      <td>977.0</td>\n",
       "      <td>765.0</td>\n",
       "      <td>901.0</td>\n",
       "    </tr>\n",
       "    <tr>\n",
       "      <th>2020-01-13</th>\n",
       "      <td>NaN</td>\n",
       "      <td>NaN</td>\n",
       "      <td>15310.0</td>\n",
       "      <td>2192.0</td>\n",
       "      <td>1624.0</td>\n",
       "      <td>1204.0</td>\n",
       "      <td>1229.0</td>\n",
       "      <td>1132.0</td>\n",
       "      <td>939.0</td>\n",
       "      <td>880.0</td>\n",
       "      <td>782.0</td>\n",
       "      <td>631.0</td>\n",
       "      <td>763.0</td>\n",
       "    </tr>\n",
       "    <tr>\n",
       "      <th>2020-01-20</th>\n",
       "      <td>NaN</td>\n",
       "      <td>NaN</td>\n",
       "      <td>NaN</td>\n",
       "      <td>6710.0</td>\n",
       "      <td>1020.0</td>\n",
       "      <td>795.0</td>\n",
       "      <td>727.0</td>\n",
       "      <td>743.0</td>\n",
       "      <td>599.0</td>\n",
       "      <td>562.0</td>\n",
       "      <td>488.0</td>\n",
       "      <td>366.0</td>\n",
       "      <td>465.0</td>\n",
       "    </tr>\n",
       "    <tr>\n",
       "      <th>2020-01-27</th>\n",
       "      <td>NaN</td>\n",
       "      <td>NaN</td>\n",
       "      <td>NaN</td>\n",
       "      <td>NaN</td>\n",
       "      <td>6280.0</td>\n",
       "      <td>880.0</td>\n",
       "      <td>700.0</td>\n",
       "      <td>673.0</td>\n",
       "      <td>560.0</td>\n",
       "      <td>479.0</td>\n",
       "      <td>408.0</td>\n",
       "      <td>369.0</td>\n",
       "      <td>411.0</td>\n",
       "    </tr>\n",
       "    <tr>\n",
       "      <th>2020-02-03</th>\n",
       "      <td>NaN</td>\n",
       "      <td>NaN</td>\n",
       "      <td>NaN</td>\n",
       "      <td>NaN</td>\n",
       "      <td>NaN</td>\n",
       "      <td>5231.0</td>\n",
       "      <td>790.0</td>\n",
       "      <td>628.0</td>\n",
       "      <td>474.0</td>\n",
       "      <td>450.0</td>\n",
       "      <td>365.0</td>\n",
       "      <td>288.0</td>\n",
       "      <td>347.0</td>\n",
       "    </tr>\n",
       "    <tr>\n",
       "      <th>2020-02-10</th>\n",
       "      <td>NaN</td>\n",
       "      <td>NaN</td>\n",
       "      <td>NaN</td>\n",
       "      <td>NaN</td>\n",
       "      <td>NaN</td>\n",
       "      <td>NaN</td>\n",
       "      <td>6370.0</td>\n",
       "      <td>926.0</td>\n",
       "      <td>632.0</td>\n",
       "      <td>544.0</td>\n",
       "      <td>406.0</td>\n",
       "      <td>335.0</td>\n",
       "      <td>343.0</td>\n",
       "    </tr>\n",
       "    <tr>\n",
       "      <th>2020-02-17</th>\n",
       "      <td>NaN</td>\n",
       "      <td>NaN</td>\n",
       "      <td>NaN</td>\n",
       "      <td>NaN</td>\n",
       "      <td>NaN</td>\n",
       "      <td>NaN</td>\n",
       "      <td>NaN</td>\n",
       "      <td>5183.0</td>\n",
       "      <td>717.0</td>\n",
       "      <td>586.0</td>\n",
       "      <td>422.0</td>\n",
       "      <td>307.0</td>\n",
       "      <td>369.0</td>\n",
       "    </tr>\n",
       "    <tr>\n",
       "      <th>2020-02-24</th>\n",
       "      <td>NaN</td>\n",
       "      <td>NaN</td>\n",
       "      <td>NaN</td>\n",
       "      <td>NaN</td>\n",
       "      <td>NaN</td>\n",
       "      <td>NaN</td>\n",
       "      <td>NaN</td>\n",
       "      <td>NaN</td>\n",
       "      <td>2743.0</td>\n",
       "      <td>505.0</td>\n",
       "      <td>335.0</td>\n",
       "      <td>242.0</td>\n",
       "      <td>289.0</td>\n",
       "    </tr>\n",
       "    <tr>\n",
       "      <th>2020-03-02</th>\n",
       "      <td>NaN</td>\n",
       "      <td>NaN</td>\n",
       "      <td>NaN</td>\n",
       "      <td>NaN</td>\n",
       "      <td>NaN</td>\n",
       "      <td>NaN</td>\n",
       "      <td>NaN</td>\n",
       "      <td>NaN</td>\n",
       "      <td>NaN</td>\n",
       "      <td>4118.0</td>\n",
       "      <td>477.0</td>\n",
       "      <td>255.0</td>\n",
       "      <td>281.0</td>\n",
       "    </tr>\n",
       "    <tr>\n",
       "      <th>2020-03-09</th>\n",
       "      <td>NaN</td>\n",
       "      <td>NaN</td>\n",
       "      <td>NaN</td>\n",
       "      <td>NaN</td>\n",
       "      <td>NaN</td>\n",
       "      <td>NaN</td>\n",
       "      <td>NaN</td>\n",
       "      <td>NaN</td>\n",
       "      <td>NaN</td>\n",
       "      <td>NaN</td>\n",
       "      <td>2209.0</td>\n",
       "      <td>288.0</td>\n",
       "      <td>339.0</td>\n",
       "    </tr>\n",
       "    <tr>\n",
       "      <th>2020-03-16</th>\n",
       "      <td>NaN</td>\n",
       "      <td>NaN</td>\n",
       "      <td>NaN</td>\n",
       "      <td>NaN</td>\n",
       "      <td>NaN</td>\n",
       "      <td>NaN</td>\n",
       "      <td>NaN</td>\n",
       "      <td>NaN</td>\n",
       "      <td>NaN</td>\n",
       "      <td>NaN</td>\n",
       "      <td>NaN</td>\n",
       "      <td>2578.0</td>\n",
       "      <td>336.0</td>\n",
       "    </tr>\n",
       "    <tr>\n",
       "      <th>2020-03-23</th>\n",
       "      <td>NaN</td>\n",
       "      <td>NaN</td>\n",
       "      <td>NaN</td>\n",
       "      <td>NaN</td>\n",
       "      <td>NaN</td>\n",
       "      <td>NaN</td>\n",
       "      <td>NaN</td>\n",
       "      <td>NaN</td>\n",
       "      <td>NaN</td>\n",
       "      <td>NaN</td>\n",
       "      <td>NaN</td>\n",
       "      <td>NaN</td>\n",
       "      <td>3872.0</td>\n",
       "    </tr>\n",
       "  </tbody>\n",
       "</table>\n",
       "</div>"
      ],
      "text/plain": [
       "week              2019-12-30  2020-01-06  2020-01-13  2020-01-20  2020-01-27  \\\n",
       "first_purch_week                                                               \n",
       "2019-12-30            5042.0      1788.0      1439.0      1213.0      1148.0   \n",
       "2020-01-06               NaN     12564.0      2701.0      1892.0      1608.0   \n",
       "2020-01-13               NaN         NaN     15310.0      2192.0      1624.0   \n",
       "2020-01-20               NaN         NaN         NaN      6710.0      1020.0   \n",
       "2020-01-27               NaN         NaN         NaN         NaN      6280.0   \n",
       "2020-02-03               NaN         NaN         NaN         NaN         NaN   \n",
       "2020-02-10               NaN         NaN         NaN         NaN         NaN   \n",
       "2020-02-17               NaN         NaN         NaN         NaN         NaN   \n",
       "2020-02-24               NaN         NaN         NaN         NaN         NaN   \n",
       "2020-03-02               NaN         NaN         NaN         NaN         NaN   \n",
       "2020-03-09               NaN         NaN         NaN         NaN         NaN   \n",
       "2020-03-16               NaN         NaN         NaN         NaN         NaN   \n",
       "2020-03-23               NaN         NaN         NaN         NaN         NaN   \n",
       "\n",
       "week              2020-02-03  2020-02-10  2020-02-17  2020-02-24  2020-03-02  \\\n",
       "first_purch_week                                                               \n",
       "2019-12-30             928.0       947.0       899.0       827.0       826.0   \n",
       "2020-01-06            1308.0      1391.0      1305.0      1140.0      1145.0   \n",
       "2020-01-13            1204.0      1229.0      1132.0       939.0       880.0   \n",
       "2020-01-20             795.0       727.0       743.0       599.0       562.0   \n",
       "2020-01-27             880.0       700.0       673.0       560.0       479.0   \n",
       "2020-02-03            5231.0       790.0       628.0       474.0       450.0   \n",
       "2020-02-10               NaN      6370.0       926.0       632.0       544.0   \n",
       "2020-02-17               NaN         NaN      5183.0       717.0       586.0   \n",
       "2020-02-24               NaN         NaN         NaN      2743.0       505.0   \n",
       "2020-03-02               NaN         NaN         NaN         NaN      4118.0   \n",
       "2020-03-09               NaN         NaN         NaN         NaN         NaN   \n",
       "2020-03-16               NaN         NaN         NaN         NaN         NaN   \n",
       "2020-03-23               NaN         NaN         NaN         NaN         NaN   \n",
       "\n",
       "week              2020-03-09  2020-03-16  2020-03-23  \n",
       "first_purch_week                                      \n",
       "2019-12-30             765.0       683.0       766.0  \n",
       "2020-01-06             977.0       765.0       901.0  \n",
       "2020-01-13             782.0       631.0       763.0  \n",
       "2020-01-20             488.0       366.0       465.0  \n",
       "2020-01-27             408.0       369.0       411.0  \n",
       "2020-02-03             365.0       288.0       347.0  \n",
       "2020-02-10             406.0       335.0       343.0  \n",
       "2020-02-17             422.0       307.0       369.0  \n",
       "2020-02-24             335.0       242.0       289.0  \n",
       "2020-03-02             477.0       255.0       281.0  \n",
       "2020-03-09            2209.0       288.0       339.0  \n",
       "2020-03-16               NaN      2578.0       336.0  \n",
       "2020-03-23               NaN         NaN      3872.0  "
      ]
     },
     "execution_count": 115,
     "metadata": {},
     "output_type": "execute_result"
    }
   ],
   "source": [
    "purchase_statistic = df[df.event=='purchase'].pivot_table(\n",
    "    index='first_purch_week',\n",
    "    columns='week',\n",
    "    values='event',\n",
    "    aggfunc='count'\n",
    ")\n",
    "purchase_statistic = purchase_statistic[:-1]\n",
    "purchase_statistic = purchase_statistic[purchase_statistic.columns[:-1]]\n",
    "purchase_statistic"
   ]
  },
  {
   "cell_type": "code",
   "execution_count": 116,
   "metadata": {},
   "outputs": [
    {
     "data": {
      "image/png": "[encoded data removed]",
      "text/plain": [
       "<Figure size 640x480 with 2 Axes>"
      ]
     },
     "metadata": {},
     "output_type": "display_data"
    }
   ],
   "source": [
    "sns.heatmap(purchase_statistic, cmap='YlOrRd');"
   ]
  },
  {
   "cell_type": "markdown",
   "metadata": {},
   "source": [
    "Первые три когорты демонстрируют в целом большую покупательскую активность во всём периоде своего существования."
   ]
  },
  {
   "cell_type": "markdown",
   "metadata": {},
   "source": [
    "Посмотрим на статистику покупок в процентах относительно 1-й недели каждой когорты."
   ]
  },
  {
   "cell_type": "code",
   "execution_count": 137,
   "metadata": {},
   "outputs": [
    {
     "data": {
      "text/html": [
       "<div>\n",
       "<style scoped>\n",
       "    .dataframe tbody tr th:only-of-type {\n",
       "        vertical-align: middle;\n",
       "    }\n",
       "\n",
       "    .dataframe tbody tr th {\n",
       "        vertical-align: top;\n",
       "    }\n",
       "\n",
       "    .dataframe thead th {\n",
       "        text-align: right;\n",
       "    }\n",
       "</style>\n",
       "<table border=\"1\" class=\"dataframe\">\n",
       "  <thead>\n",
       "    <tr style=\"text-align: right;\">\n",
       "      <th>week</th>\n",
       "      <th>2019-12-30</th>\n",
       "      <th>2020-01-06</th>\n",
       "      <th>2020-01-13</th>\n",
       "      <th>2020-01-20</th>\n",
       "      <th>2020-01-27</th>\n",
       "      <th>2020-02-03</th>\n",
       "      <th>2020-02-10</th>\n",
       "      <th>2020-02-17</th>\n",
       "      <th>2020-02-24</th>\n",
       "      <th>2020-03-02</th>\n",
       "      <th>2020-03-09</th>\n",
       "      <th>2020-03-16</th>\n",
       "      <th>2020-03-23</th>\n",
       "    </tr>\n",
       "    <tr>\n",
       "      <th>first_purch_week</th>\n",
       "      <th></th>\n",
       "      <th></th>\n",
       "      <th></th>\n",
       "      <th></th>\n",
       "      <th></th>\n",
       "      <th></th>\n",
       "      <th></th>\n",
       "      <th></th>\n",
       "      <th></th>\n",
       "      <th></th>\n",
       "      <th></th>\n",
       "      <th></th>\n",
       "      <th></th>\n",
       "    </tr>\n",
       "  </thead>\n",
       "  <tbody>\n",
       "    <tr>\n",
       "      <th>2019-12-30</th>\n",
       "      <td>100.0</td>\n",
       "      <td>35.0</td>\n",
       "      <td>29.0</td>\n",
       "      <td>24.0</td>\n",
       "      <td>23.0</td>\n",
       "      <td>18.0</td>\n",
       "      <td>19.0</td>\n",
       "      <td>18.0</td>\n",
       "      <td>16.0</td>\n",
       "      <td>16.0</td>\n",
       "      <td>15.0</td>\n",
       "      <td>14.0</td>\n",
       "      <td>15.0</td>\n",
       "    </tr>\n",
       "    <tr>\n",
       "      <th>2020-01-06</th>\n",
       "      <td>NaN</td>\n",
       "      <td>100.0</td>\n",
       "      <td>21.0</td>\n",
       "      <td>15.0</td>\n",
       "      <td>13.0</td>\n",
       "      <td>10.0</td>\n",
       "      <td>11.0</td>\n",
       "      <td>10.0</td>\n",
       "      <td>9.0</td>\n",
       "      <td>9.0</td>\n",
       "      <td>8.0</td>\n",
       "      <td>6.0</td>\n",
       "      <td>7.0</td>\n",
       "    </tr>\n",
       "    <tr>\n",
       "      <th>2020-01-13</th>\n",
       "      <td>NaN</td>\n",
       "      <td>NaN</td>\n",
       "      <td>100.0</td>\n",
       "      <td>14.0</td>\n",
       "      <td>11.0</td>\n",
       "      <td>8.0</td>\n",
       "      <td>8.0</td>\n",
       "      <td>7.0</td>\n",
       "      <td>6.0</td>\n",
       "      <td>6.0</td>\n",
       "      <td>5.0</td>\n",
       "      <td>4.0</td>\n",
       "      <td>5.0</td>\n",
       "    </tr>\n",
       "    <tr>\n",
       "      <th>2020-01-20</th>\n",
       "      <td>NaN</td>\n",
       "      <td>NaN</td>\n",
       "      <td>NaN</td>\n",
       "      <td>100.0</td>\n",
       "      <td>15.0</td>\n",
       "      <td>12.0</td>\n",
       "      <td>11.0</td>\n",
       "      <td>11.0</td>\n",
       "      <td>9.0</td>\n",
       "      <td>8.0</td>\n",
       "      <td>7.0</td>\n",
       "      <td>5.0</td>\n",
       "      <td>7.0</td>\n",
       "    </tr>\n",
       "    <tr>\n",
       "      <th>2020-01-27</th>\n",
       "      <td>NaN</td>\n",
       "      <td>NaN</td>\n",
       "      <td>NaN</td>\n",
       "      <td>NaN</td>\n",
       "      <td>100.0</td>\n",
       "      <td>14.0</td>\n",
       "      <td>11.0</td>\n",
       "      <td>11.0</td>\n",
       "      <td>9.0</td>\n",
       "      <td>8.0</td>\n",
       "      <td>6.0</td>\n",
       "      <td>6.0</td>\n",
       "      <td>7.0</td>\n",
       "    </tr>\n",
       "    <tr>\n",
       "      <th>2020-02-03</th>\n",
       "      <td>NaN</td>\n",
       "      <td>NaN</td>\n",
       "      <td>NaN</td>\n",
       "      <td>NaN</td>\n",
       "      <td>NaN</td>\n",
       "      <td>100.0</td>\n",
       "      <td>15.0</td>\n",
       "      <td>12.0</td>\n",
       "      <td>9.0</td>\n",
       "      <td>9.0</td>\n",
       "      <td>7.0</td>\n",
       "      <td>6.0</td>\n",
       "      <td>7.0</td>\n",
       "    </tr>\n",
       "    <tr>\n",
       "      <th>2020-02-10</th>\n",
       "      <td>NaN</td>\n",
       "      <td>NaN</td>\n",
       "      <td>NaN</td>\n",
       "      <td>NaN</td>\n",
       "      <td>NaN</td>\n",
       "      <td>NaN</td>\n",
       "      <td>100.0</td>\n",
       "      <td>15.0</td>\n",
       "      <td>10.0</td>\n",
       "      <td>9.0</td>\n",
       "      <td>6.0</td>\n",
       "      <td>5.0</td>\n",
       "      <td>5.0</td>\n",
       "    </tr>\n",
       "    <tr>\n",
       "      <th>2020-02-17</th>\n",
       "      <td>NaN</td>\n",
       "      <td>NaN</td>\n",
       "      <td>NaN</td>\n",
       "      <td>NaN</td>\n",
       "      <td>NaN</td>\n",
       "      <td>NaN</td>\n",
       "      <td>NaN</td>\n",
       "      <td>100.0</td>\n",
       "      <td>14.0</td>\n",
       "      <td>11.0</td>\n",
       "      <td>8.0</td>\n",
       "      <td>6.0</td>\n",
       "      <td>7.0</td>\n",
       "    </tr>\n",
       "    <tr>\n",
       "      <th>2020-02-24</th>\n",
       "      <td>NaN</td>\n",
       "      <td>NaN</td>\n",
       "      <td>NaN</td>\n",
       "      <td>NaN</td>\n",
       "      <td>NaN</td>\n",
       "      <td>NaN</td>\n",
       "      <td>NaN</td>\n",
       "      <td>NaN</td>\n",
       "      <td>100.0</td>\n",
       "      <td>18.0</td>\n",
       "      <td>12.0</td>\n",
       "      <td>9.0</td>\n",
       "      <td>11.0</td>\n",
       "    </tr>\n",
       "    <tr>\n",
       "      <th>2020-03-02</th>\n",
       "      <td>NaN</td>\n",
       "      <td>NaN</td>\n",
       "      <td>NaN</td>\n",
       "      <td>NaN</td>\n",
       "      <td>NaN</td>\n",
       "      <td>NaN</td>\n",
       "      <td>NaN</td>\n",
       "      <td>NaN</td>\n",
       "      <td>NaN</td>\n",
       "      <td>100.0</td>\n",
       "      <td>12.0</td>\n",
       "      <td>6.0</td>\n",
       "      <td>7.0</td>\n",
       "    </tr>\n",
       "    <tr>\n",
       "      <th>2020-03-09</th>\n",
       "      <td>NaN</td>\n",
       "      <td>NaN</td>\n",
       "      <td>NaN</td>\n",
       "      <td>NaN</td>\n",
       "      <td>NaN</td>\n",
       "      <td>NaN</td>\n",
       "      <td>NaN</td>\n",
       "      <td>NaN</td>\n",
       "      <td>NaN</td>\n",
       "      <td>NaN</td>\n",
       "      <td>100.0</td>\n",
       "      <td>13.0</td>\n",
       "      <td>15.0</td>\n",
       "    </tr>\n",
       "    <tr>\n",
       "      <th>2020-03-16</th>\n",
       "      <td>NaN</td>\n",
       "      <td>NaN</td>\n",
       "      <td>NaN</td>\n",
       "      <td>NaN</td>\n",
       "      <td>NaN</td>\n",
       "      <td>NaN</td>\n",
       "      <td>NaN</td>\n",
       "      <td>NaN</td>\n",
       "      <td>NaN</td>\n",
       "      <td>NaN</td>\n",
       "      <td>NaN</td>\n",
       "      <td>100.0</td>\n",
       "      <td>13.0</td>\n",
       "    </tr>\n",
       "    <tr>\n",
       "      <th>2020-03-23</th>\n",
       "      <td>NaN</td>\n",
       "      <td>NaN</td>\n",
       "      <td>NaN</td>\n",
       "      <td>NaN</td>\n",
       "      <td>NaN</td>\n",
       "      <td>NaN</td>\n",
       "      <td>NaN</td>\n",
       "      <td>NaN</td>\n",
       "      <td>NaN</td>\n",
       "      <td>NaN</td>\n",
       "      <td>NaN</td>\n",
       "      <td>NaN</td>\n",
       "      <td>100.0</td>\n",
       "    </tr>\n",
       "  </tbody>\n",
       "</table>\n",
       "</div>"
      ],
      "text/plain": [
       "week              2019-12-30  2020-01-06  2020-01-13  2020-01-20  2020-01-27  \\\n",
       "first_purch_week                                                               \n",
       "2019-12-30             100.0        35.0        29.0        24.0        23.0   \n",
       "2020-01-06               NaN       100.0        21.0        15.0        13.0   \n",
       "2020-01-13               NaN         NaN       100.0        14.0        11.0   \n",
       "2020-01-20               NaN         NaN         NaN       100.0        15.0   \n",
       "2020-01-27               NaN         NaN         NaN         NaN       100.0   \n",
       "2020-02-03               NaN         NaN         NaN         NaN         NaN   \n",
       "2020-02-10               NaN         NaN         NaN         NaN         NaN   \n",
       "2020-02-17               NaN         NaN         NaN         NaN         NaN   \n",
       "2020-02-24               NaN         NaN         NaN         NaN         NaN   \n",
       "2020-03-02               NaN         NaN         NaN         NaN         NaN   \n",
       "2020-03-09               NaN         NaN         NaN         NaN         NaN   \n",
       "2020-03-16               NaN         NaN         NaN         NaN         NaN   \n",
       "2020-03-23               NaN         NaN         NaN         NaN         NaN   \n",
       "\n",
       "week              2020-02-03  2020-02-10  2020-02-17  2020-02-24  2020-03-02  \\\n",
       "first_purch_week                                                               \n",
       "2019-12-30              18.0        19.0        18.0        16.0        16.0   \n",
       "2020-01-06              10.0        11.0        10.0         9.0         9.0   \n",
       "2020-01-13               8.0         8.0         7.0         6.0         6.0   \n",
       "2020-01-20              12.0        11.0        11.0         9.0         8.0   \n",
       "2020-01-27              14.0        11.0        11.0         9.0         8.0   \n",
       "2020-02-03             100.0        15.0        12.0         9.0         9.0   \n",
       "2020-02-10               NaN       100.0        15.0        10.0         9.0   \n",
       "2020-02-17               NaN         NaN       100.0        14.0        11.0   \n",
       "2020-02-24               NaN         NaN         NaN       100.0        18.0   \n",
       "2020-03-02               NaN         NaN         NaN         NaN       100.0   \n",
       "2020-03-09               NaN         NaN         NaN         NaN         NaN   \n",
       "2020-03-16               NaN         NaN         NaN         NaN         NaN   \n",
       "2020-03-23               NaN         NaN         NaN         NaN         NaN   \n",
       "\n",
       "week              2020-03-09  2020-03-16  2020-03-23  \n",
       "first_purch_week                                      \n",
       "2019-12-30              15.0        14.0        15.0  \n",
       "2020-01-06               8.0         6.0         7.0  \n",
       "2020-01-13               5.0         4.0         5.0  \n",
       "2020-01-20               7.0         5.0         7.0  \n",
       "2020-01-27               6.0         6.0         7.0  \n",
       "2020-02-03               7.0         6.0         7.0  \n",
       "2020-02-10               6.0         5.0         5.0  \n",
       "2020-02-17               8.0         6.0         7.0  \n",
       "2020-02-24              12.0         9.0        11.0  \n",
       "2020-03-02              12.0         6.0         7.0  \n",
       "2020-03-09             100.0        13.0        15.0  \n",
       "2020-03-16               NaN       100.0        13.0  \n",
       "2020-03-23               NaN         NaN       100.0  "
      ]
     },
     "execution_count": 137,
     "metadata": {},
     "output_type": "execute_result"
    }
   ],
   "source": [
    "purchases_pct = purchase_statistic\n",
    "\n",
    "for week in purchases_pct.columns:\n",
    "    purchases_pct.loc[week] = round(\n",
    "        purchases_pct.loc[week]/purchases_pct.loc[week,week] * 100\n",
    "        )\n",
    "    \n",
    "purchases_pct"
   ]
  },
  {
   "cell_type": "code",
   "execution_count": 118,
   "metadata": {},
   "outputs": [
    {
     "data": {
      "image/png": "[encoded data removed]",
      "text/plain": [
       "<Figure size 640x480 with 2 Axes>"
      ]
     },
     "metadata": {},
     "output_type": "display_data"
    }
   ],
   "source": [
    "sns.heatmap(purchases_pct, cmap='YlOrRd');"
   ]
  },
  {
   "cell_type": "markdown",
   "metadata": {},
   "source": [
    "Первая когорта от 30.12.2019 демонстрирует лучшие показатели по сравнению с первой неделей, \\\n",
    "когорта от 06.01.2020 показывает себя уже несколько хуже, \\\n",
    "в последующих когортах мы видим уже более низкие показатели покупательской активности, \\\n",
    "если сравнивать их с первой неделей."
   ]
  },
  {
   "cell_type": "markdown",
   "metadata": {},
   "source": [
    "\n",
    "### Сравним медианный чек на второй неделе с момента первой покупки для всех каналов привлечения. "
   ]
  },
  {
   "cell_type": "markdown",
   "metadata": {},
   "source": [
    "Создадим отдельный датафрейм с нужными столбцами и добавим отдельный столбец second_week,\\\n",
    "где значение 1 соответствует покупке, совершенной на второй неделе после первой покупки."
   ]
  },
  {
   "cell_type": "code",
   "execution_count": 138,
   "metadata": {},
   "outputs": [
    {
     "name": "stderr",
     "output_type": "stream",
     "text": [
      "C:\\Users\\79313\\AppData\\Local\\Temp\\ipykernel_9804\\2602840159.py:5: FutureWarning:\n",
      "\n",
      "Series.dt.weekofyear and Series.dt.week have been deprecated. Please use Series.dt.isocalendar().week instead.\n",
      "\n",
      "C:\\Users\\79313\\AppData\\Local\\Temp\\ipykernel_9804\\2602840159.py:6: FutureWarning:\n",
      "\n",
      "Series.dt.weekofyear and Series.dt.week have been deprecated. Please use Series.dt.isocalendar().week instead.\n",
      "\n"
     ]
    }
   ],
   "source": [
    "week_2_df = df[['device_id','date','week','event',\n",
    "                'purchase_sum','utm_source','first_purch_week']]\n",
    "week_2_df = week_2_df[week_2_df.event=='purchase']\n",
    "week_2_df['first_purchase'] = week_2_df.device_id.apply(lambda x: first_purchases[x])\n",
    "week_2_df['week'] = (pd.to_datetime(week_2_df.week)).dt.week\n",
    "week_2_df['first_purch_week'] = (pd.to_datetime(week_2_df.first_purch_week)).dt.week\n",
    "week_2_df['second_week'] = np.where(week_2_df.week - week_2_df.first_purch_week == 1, 1, 0)\n"
   ]
  },
  {
   "cell_type": "markdown",
   "metadata": {},
   "source": [
    "Вычислим медианный чек 2-й недели после первой покупки для разных каналов привлечения."
   ]
  },
  {
   "cell_type": "code",
   "execution_count": 139,
   "metadata": {},
   "outputs": [
    {
     "data": {
      "text/plain": [
       "utm_source\n",
       "instagram_ads    414.00\n",
       "-                400.50\n",
       "vk_ads           398.00\n",
       "facebook_ads     396.00\n",
       "yandex-direct    390.50\n",
       "google_ads       385.00\n",
       "referal          376.25\n",
       "Name: purchase_sum, dtype: float64"
      ]
     },
     "execution_count": 139,
     "metadata": {},
     "output_type": "execute_result"
    }
   ],
   "source": [
    "channels_med_bill = (week_2_df[week_2_df.second_week==1]\n",
    "                     .groupby('utm_source')['purchase_sum']\n",
    "                     .median().sort_values(ascending=False))\n",
    "channels_med_bill"
   ]
  },
  {
   "cell_type": "markdown",
   "metadata": {},
   "source": [
    "Очевидно, что лидирует Инстаграм."
   ]
  },
  {
   "cell_type": "markdown",
   "metadata": {},
   "source": [
    "## Общие выводы\n",
    "1) Если рассматривать динамику событий по дням, наблюдается **тенденция к снижению активности пользователей**.\n",
    "\n",
    "2) Большую активность проявляют пользователи, уже установившие приложение  (по сравнению с теми, кто установил приложение в этот же день).\n",
    "\n",
    "3) Лидером по **количеству установок** приложения оказалась группа пользователей, пришедших через **Яндекс**. Эта же группа демонстрирует самые высокий показатель первых открытий приложения.\n",
    "\n",
    "4) Для **зарегистрированных** пользователей самым **проблематичным** этапом оказыватся этап **покупки**. Если конверсия на предыдущих шагах составляла более 90%, на этапе покупки конверсия равна **72%**. Возможно, имеет смысл проработать систему скидок и заинтересовывать пользователей специальными предложениями на этапе перехода в корзину (скидка на второй товар, скидка на следующую покупку, подарок при покупке, скидки в определённые часы, скидки активным пользователям). \\\n",
    "**Незарегистрированные** пользователи часто уходят на шаге **регистрации** (конверсия на этом шаге – **62%**), желательно максимально упростить этот шаг, который является обязательным для совершения покупки.\n",
    "\n",
    "5) **Лучшие** показатели конверсии в первую покупку у пользователей, пришедших через **реферальную программу**, худшие – у пришедших через Яндекс. \n",
    "\n",
    "6) Самые **высокие** показатели **ROMI** у **ВК и реферальной программы**. Самые низкие – у Гугла. С точки зрения ROMI предпочтение следует отдать реферальной программе, ВК и Инстаграму. \n",
    "\n",
    "7) Когортный анализ и по неделе первого посещения, и по неделе первой покупки демонстрирует большую активность первых трёх когорт, самых ранних. \\\n",
    "Самые старые пользователи чаще пользуются приложением, покупают и приносят больше выручки. \n",
    "\n",
    "Необходимо детальнее исследовать причины снижения активности пользователей, сделать проще форму регистрации и продумать способы мотивирования клиентов к покупке. С точки зрения каналов имеет смысл инвестировать в ВК и Инстаграм. Отдельно следует уделить внимание рекламе на Яндексе – несколько видоизменить её и отследить, повысится ли при этом ROMI."
   ]
  },
  {
   "cell_type": "code",
   "execution_count": null,
   "metadata": {},
   "outputs": [],
   "source": []
  }
 ],
 "metadata": {
  "kernelspec": {
   "display_name": "Python 3",
   "language": "python",
   "name": "python3"
  },
  "language_info": {
   "codemirror_mode": {
    "name": "ipython",
    "version": 3
   },
   "file_extension": ".py",
   "mimetype": "text/x-python",
   "name": "python",
   "nbconvert_exporter": "python",
   "pygments_lexer": "ipython3",
   "version": "3.9.10"
  },
  "orig_nbformat": 4
 },
 "nbformat": 4,
 "nbformat_minor": 2
}
